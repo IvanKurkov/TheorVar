{
 "cells": [
  {
   "cell_type": "code",
   "execution_count": 10,
   "id": "1449d716",
   "metadata": {},
   "outputs": [],
   "source": [
    "import numpy as np\n",
    "import seaborn as sns\n",
    "import scipy.stats as stats"
   ]
  },
  {
   "cell_type": "code",
   "execution_count": null,
   "id": "a7ef7838",
   "metadata": {},
   "outputs": [],
   "source": []
  },
  {
   "cell_type": "code",
   "execution_count": 56,
   "id": "48a83a74",
   "metadata": {},
   "outputs": [],
   "source": [
    "def combinations(n: int, k: int) -> int:\n",
    "    \"\"\"Число сочетаний.\n",
    "    \"\"\"\n",
    "    \n",
    "    return np.math.factorial(n) // (np.math.factorial(k) * np.math.factorial(n - k))"
   ]
  },
  {
   "cell_type": "code",
   "execution_count": 64,
   "id": "462ed06c",
   "metadata": {},
   "outputs": [
    {
     "data": {
      "text/plain": [
       "0.11904761904761904"
      ]
     },
     "execution_count": 64,
     "metadata": {},
     "output_type": "execute_result"
    }
   ],
   "source": [
    "combinations(5,3)*combinations(3,0)/combinations(9,3)"
   ]
  },
  {
   "cell_type": "markdown",
   "id": "7924af9f",
   "metadata": {},
   "source": [
    "__Решение__\n",
    "\n",
    "Для того, чтобы найти искомое число, нужно посчитать число исходов, соответствующих вытягиванию $1$, $2$, $3$ и $4$ тузов, а затем сложить эти числа. Все эти значения считаются аналогично. Например, посчитаем число исходов в первом случае. Для этого нужно посчитать число возможностей вытащить один туз из «колоды» в $4$ туза ($C_4^1$) и число возможностей вытащить $3$ произвольные карты из оставшейся колоды в $48$ карт ($C_{48}^3$):\n",
    "$$N_1 = C_4^1 \\cdot C_{48}^3.$$ \n",
    "\n",
    "Аналогично для $i \\leq 4$:\n",
    "$$N_i = C_4^i \\cdot C_{48}^{4 - i}.$$"
   ]
  },
  {
   "cell_type": "code",
   "execution_count": null,
   "id": "86321c4a",
   "metadata": {},
   "outputs": [],
   "source": []
  },
  {
   "cell_type": "markdown",
   "id": "d9799ade",
   "metadata": {},
   "source": [
    "#### Бернули"
   ]
  },
  {
   "cell_type": "code",
   "execution_count": 6,
   "id": "9fe074e8",
   "metadata": {},
   "outputs": [],
   "source": [
    "def bernuli(n,k,p):\n",
    "    return combinations(n,k) * (p**k) * ((1-p)**(n-k))\n"
   ]
  },
  {
   "cell_type": "code",
   "execution_count": 62,
   "id": "fad1d7a5",
   "metadata": {},
   "outputs": [
    {
     "data": {
      "text/plain": [
       "5.162955264946204e-18"
      ]
     },
     "execution_count": 62,
     "metadata": {},
     "output_type": "execute_result"
    }
   ],
   "source": [
    "n=40 #Число испытанийй\n",
    "k = 2 # Число успехов\n",
    "p = 0.7 # Вероятность успеха\n",
    "bernuli(n,k,p)"
   ]
  },
  {
   "cell_type": "markdown",
   "id": "f797462e",
   "metadata": {},
   "source": [
    "__Пуасоон__\n",
    "\n",
    "В среднем за час мимо автобусной остановки проезжают 30 автобусов. Какова вероятность, что за час мимо остановки проедут: а) 30 автобусов? б) не более 15 автобусов? в) более 50 автобусов?\n",
    "\n",
    "Для решения первого пункта достаточно прямо применить формулу Пуассона:\n",
    "$$P(X = 30) = \\dfrac{30^{30} e^{-30}}{30!}$$"
   ]
  },
  {
   "cell_type": "code",
   "execution_count": 7,
   "id": "aab526a5",
   "metadata": {},
   "outputs": [],
   "source": [
    "def poisson_proba(k: int, lambda_: float) -> float:\n",
    "    \"\"\"Формула Пуассона.\n",
    "    \"\"\"\n",
    "    \n",
    "    return (lambda_ ** k) * (np.exp(-lambda_)) / np.math.factorial(k)"
   ]
  },
  {
   "cell_type": "code",
   "execution_count": 51,
   "id": "422c943e",
   "metadata": {},
   "outputs": [
    {
     "data": {
      "text/plain": [
       "0.07263452647159149"
      ]
     },
     "execution_count": 51,
     "metadata": {},
     "output_type": "execute_result"
    }
   ],
   "source": [
    "lambda_ = 30\n",
    "poisson_proba(k=30, lambda_=lambda_)"
   ]
  },
  {
   "cell_type": "markdown",
   "id": "e457c568",
   "metadata": {},
   "source": [
    "Для решения второго пункта нужно сложить несколько вероятностей. Вероятность получить не более 15 автобусов предполагает получение от 0 до 15 автобусов:\n",
    "$$P(X \\leq 15) = \\displaystyle\\sum_{i = 0}^{15} \\dfrac{30^{i} e^{-30}}{i!}$$"
   ]
  },
  {
   "cell_type": "code",
   "execution_count": 52,
   "id": "ee66e4ea",
   "metadata": {},
   "outputs": [
    {
     "data": {
      "text/plain": [
       "0.0019474797778723065"
      ]
     },
     "execution_count": 52,
     "metadata": {},
     "output_type": "execute_result"
    }
   ],
   "source": [
    "sum(poisson_proba(k=i, lambda_=lambda_) for i in range(16))"
   ]
  },
  {
   "cell_type": "markdown",
   "id": "ac716c8a",
   "metadata": {},
   "source": [
    "Последний пункт наиболее хитрый. Вероятность получить более 50 автобусов предполагает получение от 50... до скольки? В принципе число автобусов, проезжающих мимо автобусной остановки за час, не ограничено. Так что суммировать придётся до бесконечности, что невозможно.\n",
    "\n",
    "Пойдём другим способом. Мы знаем, что сумма вероятностей случайной величины всегда равна $1$. Значит, вероятность получить более 50 автобусов равна:\n",
    "$$P(X > 50) = 1 - P(X \\leq 50)$$"
   ]
  },
  {
   "cell_type": "code",
   "execution_count": 53,
   "id": "e996507c",
   "metadata": {},
   "outputs": [
    {
     "data": {
      "text/plain": [
       "0.0002980129818267452"
      ]
     },
     "execution_count": 53,
     "metadata": {},
     "output_type": "execute_result"
    }
   ],
   "source": [
    "1 - sum(poisson_proba(k=i, lambda_=lambda_) for i in range(51))"
   ]
  },
  {
   "cell_type": "code",
   "execution_count": null,
   "id": "95df8259",
   "metadata": {},
   "outputs": [],
   "source": []
  },
  {
   "cell_type": "code",
   "execution_count": 8,
   "id": "6e3c8ee2",
   "metadata": {},
   "outputs": [],
   "source": [
    "x = [100, 80, 75, 77, 89, 33, 45, 25, 65, 17, 30, 230, 24, 57, 55, 70, 75, 65, 84, 90, 150]"
   ]
  },
  {
   "cell_type": "code",
   "execution_count": 9,
   "id": "8f8141a4",
   "metadata": {},
   "outputs": [
    {
     "name": "stderr",
     "output_type": "stream",
     "text": [
      "C:\\ProgramData\\Anaconda3\\lib\\site-packages\\seaborn\\_decorators.py:36: FutureWarning: Pass the following variable as a keyword arg: x. From version 0.12, the only valid positional argument will be `data`, and passing other arguments without an explicit keyword will result in an error or misinterpretation.\n",
      "  warnings.warn(\n"
     ]
    },
    {
     "data": {
      "text/plain": [
       "<AxesSubplot:>"
      ]
     },
     "execution_count": 9,
     "metadata": {},
     "output_type": "execute_result"
    },
    {
     "data": {
      "image/png": "[encoded data removed]",
      "text/plain": [
       "<Figure size 432x288 with 1 Axes>"
      ]
     },
     "metadata": {
      "needs_background": "light"
     },
     "output_type": "display_data"
    }
   ],
   "source": [
    "sns.boxplot(x)"
   ]
  },
  {
   "cell_type": "markdown",
   "id": "5f92d932",
   "metadata": {},
   "source": [
    "scipy.stats\n",
    "Доступные функции:\n",
    "1 scipy.stats.norm.pmf — закон распределения для дискретных величин,\n",
    "2 scipy.stats.t.pdf — функция плотности для непрерывных величин,\n",
    "3 scipy.stats.f.cdf — функция распределения,\n",
    "4 scipy.stats.norm.ppf — квантильная функция (обратная к функции распределения)\n"
   ]
  },
  {
   "cell_type": "markdown",
   "id": "cfb0c6dd",
   "metadata": {},
   "source": [
    "Рост взрослого населения города X имеет нормальное распределение. Причем, средний рост равен 174 см, а среднее квадратичное отклонение равно 8 см. Какова вероятность того, что случайным образом выбранный взрослый человек имеет рост:\n",
    "а). больше 182 см\n"
   ]
  },
  {
   "cell_type": "code",
   "execution_count": 17,
   "id": "3548a221",
   "metadata": {},
   "outputs": [],
   "source": [
    "std = 8\n",
    "Mx = 174\n",
    "x = 182"
   ]
  },
  {
   "cell_type": "code",
   "execution_count": 18,
   "id": "697d2c99",
   "metadata": {},
   "outputs": [
    {
     "data": {
      "text/plain": [
       "0.15865525393145707"
      ]
     },
     "execution_count": 18,
     "metadata": {},
     "output_type": "execute_result"
    }
   ],
   "source": [
    "Z = (x - Mx) / std\n",
    "Z\n",
    "P = 1 - stats.norm.cdf(Z) #т.к считаем \"Больше\", то отнимаем от 1\n",
    "P"
   ]
  },
  {
   "cell_type": "code",
   "execution_count": 16,
   "id": "6d6343ef",
   "metadata": {},
   "outputs": [
    {
     "data": {
      "text/plain": [
       "-1.6448536269514729"
      ]
     },
     "execution_count": 16,
     "metadata": {},
     "output_type": "execute_result"
    }
   ],
   "source": [
    "alpha = 0.05\n",
    "stats.norm.ppf(alpha)"
   ]
  },
  {
   "cell_type": "markdown",
   "id": "b2f63663",
   "metadata": {},
   "source": [
    "#### P -VALUE"
   ]
  },
  {
   "cell_type": "markdown",
   "id": "df7e515d",
   "metadata": {},
   "source": [
    "Продавец утверждает, что средний вес пачки печенья составляет 200 г. Из партии извлечена выборка из 10 пачек. Вес каждой пачки составляет:\n",
    "```\n",
    "202, 203, 199, 197, 195, 201, 200, 204, 194, 190\n",
    "```\n",
    "Известно, что их веса распределены нормально. Верно ли утверждение продавца, если учитывать, что уровень значимости равен 1%? Найдите P-значение для данного теста и укажите его в качестве ответа."
   ]
  },
  {
   "cell_type": "code",
   "execution_count": 71,
   "id": "fe96c703",
   "metadata": {},
   "outputs": [
    {
     "data": {
      "text/plain": [
       "1.0"
      ]
     },
     "execution_count": 71,
     "metadata": {},
     "output_type": "execute_result"
    }
   ],
   "source": [
    "alpha = 0.05\n",
    "x = np.array([1,2,3,4,5,5,9]) #Выборка\n",
    "Mx = x.mean()  # Среднее по выборке\n",
    "std = np.std(x, ddof=1)\n",
    "n = x.shape[0] #размер выборки\n",
    "t = (x.mean() - Mx) / (std/n**0.5) # Т статистика, т.к. не известно дисперсии ген совокуп\n",
    "p_left = stats.t.cdf(t, df=n - 1)\n",
    "p_right = 1 - stats.t.cdf(t, df=n - 1)\n",
    "\n",
    "pvalue = 2 * min(p_left, p_right)\n",
    "pvalue"
   ]
  },
  {
   "cell_type": "code",
   "execution_count": 72,
   "id": "49d2ef09",
   "metadata": {},
   "outputs": [
    {
     "data": {
      "text/plain": [
       "1.0"
      ]
     },
     "execution_count": 72,
     "metadata": {},
     "output_type": "execute_result"
    }
   ],
   "source": [
    "alpha = 0.05\n",
    "x = np.array([1,2,3,4,5,5,9]) #Выборка\n",
    "Mx = x.mean()  # Среднее по выборке\n",
    "std = np.std(x, ddof=1)\n",
    "n = x.shape[0] #размер выборки\n",
    "t = (x.mean() - Mx) / (std/n**0.5) # Т статистика, т.к. не известно дисперсии ген совокуп\n",
    "p_left = stats.norm.cdf(t)\n",
    "p_right = 1 - stats.norm.cdf(t)\n",
    "\n",
    "pvalue = 2 * min(p_left, p_right)\n",
    "pvalue"
   ]
  },
  {
   "cell_type": "markdown",
   "id": "7e260912",
   "metadata": {},
   "source": [
    "### Корреляция Ковариация.\n",
    "Даны значения величины заработной платы заемщиков банка (zp) и значения их поведенческого кредитного скоринга (ks):\n",
    "zp = [35, 45, 190, 200, 40, 70, 54, 150, 120, 110],\n",
    "ks = [401, 574, 874, 919, 459, 739, 653, 902, 746, 832].\n",
    "Найдите ковариацию этих двух величин с помощью элементарных действий, а затем с помощью функции cov из numpy\n",
    "Полученные значения должны быть равны.\n",
    "Найдите коэффициент корреляции Пирсона с помощью ковариации и среднеквадратичных отклонений двух признаков,\n",
    "а затем с использованием функций из библиотек numpy и pandas.\n"
   ]
  },
  {
   "cell_type": "code",
   "execution_count": 66,
   "id": "fab43173",
   "metadata": {},
   "outputs": [
    {
     "data": {
      "text/plain": [
       "0.0527522222222222"
      ]
     },
     "execution_count": 66,
     "metadata": {},
     "output_type": "execute_result"
    }
   ],
   "source": [
    "zp = np.array([-0.22, 1.11, -0.16, -0.32, -1.01, -1.22, 0.92, -1.26, 0.62, -0.47])\n",
    "ks = np.array([0.78, 0.8, 1.03, 1.83, 0.89, -0.31, 1.19, 1.82, 1.19, 1.35])\n",
    "np.cov(zp, ks, ddof=1)[0][1]\n"
   ]
  },
  {
   "cell_type": "code",
   "execution_count": 67,
   "id": "96b23e1d",
   "metadata": {},
   "outputs": [
    {
     "data": {
      "text/plain": [
       "0.10147237506239905"
      ]
     },
     "execution_count": 67,
     "metadata": {},
     "output_type": "execute_result"
    }
   ],
   "source": [
    "np.corrcoef(zp, ks)[0][1]"
   ]
  },
  {
   "cell_type": "markdown",
   "id": "5397ea40",
   "metadata": {},
   "source": [
    "#### Доверительный интервал\n",
    "Измерены значения IQ выборки студентов, обучающихся в местных технических вузах: 131, 125, 115, 122, 131, 115, 107, 99, 125, 111. Известно, что в генеральной совокупности IQ распределен нормально. Найдите доверительный интервал для математического ожидания с надежностью 0.95."
   ]
  },
  {
   "cell_type": "markdown",
   "id": "243e1675",
   "metadata": {},
   "source": [
    "##### Используем T распределение, т.к. дисперсия генеральной совокупности не известна."
   ]
  },
  {
   "cell_type": "code",
   "execution_count": 70,
   "id": "66beefb2",
   "metadata": {},
   "outputs": [
    {
     "data": {
      "text/plain": [
       "4.142857142857143"
      ]
     },
     "execution_count": 70,
     "metadata": {},
     "output_type": "execute_result"
    }
   ],
   "source": [
    "x = np.array([1,2,3,4,5,5,9])\n",
    "x.mean()"
   ]
  },
  {
   "cell_type": "code",
   "execution_count": 45,
   "id": "34dde35b",
   "metadata": {},
   "outputs": [],
   "source": [
    "X=32.56\n",
    "n = 10\n",
    "std = 0.12 # Берем несмещенную оценку т.к. считаем из выборки\n",
    "alpha = 0.05\n",
    "t = stats.t.ppf(alpha/2, df=n-1) # Используем T распределение, т.к. дисперсия генеральной совокупности не известна.\n"
   ]
  },
  {
   "cell_type": "code",
   "execution_count": 46,
   "id": "39deef5f",
   "metadata": {},
   "outputs": [],
   "source": [
    "l_value = X+t*(std/(n**0.5))\n",
    "r_value = X-t*(std/(n**0.5))"
   ]
  },
  {
   "cell_type": "code",
   "execution_count": 47,
   "id": "f9f7e5a1",
   "metadata": {},
   "outputs": [
    {
     "data": {
      "text/plain": [
       "[32.4741571712857, 32.64584282871431]"
      ]
     },
     "execution_count": 47,
     "metadata": {},
     "output_type": "execute_result"
    }
   ],
   "source": [
    "[l_value, r_value]\n"
   ]
  },
  {
   "cell_type": "markdown",
   "id": "b8c51a5f",
   "metadata": {},
   "source": [
    "##### Используем Z распределение, т.к. дисперсия генеральной совокупности  известна."
   ]
  },
  {
   "cell_type": "code",
   "execution_count": 73,
   "id": "e5c03c85",
   "metadata": {},
   "outputs": [],
   "source": [
    "X=32.56\n",
    "n = 6\n",
    "std = 0.12 # Берем несмещенную оценку т.к. считаем из выборки\n",
    "alpha = 0.05\n",
    "t = stats.t.ppf(alpha/2, df=n-1) # Используем T распределение, т.к. дисперсия генеральной совокупности не известна.\n"
   ]
  },
  {
   "cell_type": "code",
   "execution_count": 74,
   "id": "c0adc217",
   "metadata": {},
   "outputs": [],
   "source": [
    "z = stats.norm.ppf(alpha/2)"
   ]
  },
  {
   "cell_type": "code",
   "execution_count": 75,
   "id": "8d787ec3",
   "metadata": {},
   "outputs": [],
   "source": [
    "l_value = X+z*(std/(n**0.5))\n",
    "r_value = X-z*(std/(n**0.5))"
   ]
  },
  {
   "cell_type": "code",
   "execution_count": 76,
   "id": "3a6b2aa2",
   "metadata": {},
   "outputs": [
    {
     "data": {
      "text/plain": [
       "[32.4639817664729, 32.65601823352711]"
      ]
     },
     "execution_count": 76,
     "metadata": {},
     "output_type": "execute_result"
    }
   ],
   "source": [
    "[l_value, r_value]\n"
   ]
  },
  {
   "cell_type": "code",
   "execution_count": null,
   "id": "1e92ea43",
   "metadata": {},
   "outputs": [],
   "source": []
  }
 ],
 "metadata": {
  "kernelspec": {
   "display_name": "Python 3",
   "language": "python",
   "name": "python3"
  },
  "language_info": {
   "codemirror_mode": {
    "name": "ipython",
    "version": 3
   },
   "file_extension": ".py",
   "mimetype": "text/x-python",
   "name": "python",
   "nbconvert_exporter": "python",
   "pygments_lexer": "ipython3",
   "version": "3.8.8"
  }
 },
 "nbformat": 4,
 "nbformat_minor": 5
}
