{
 "cells": [
  {
   "cell_type": "markdown",
   "id": "0816475e",
   "metadata": {},
   "source": [
    "__Задача 1__\n",
    "\n",
    "Даны значения зарплат из выборки выпускников: \n",
    "```\n",
    "100, 80, 75, 77, 89, 33, 45, 25, 65, 17, 30, 230, 24, 57, 55, 70, 75, 65, 84, 90, 150\n",
    "```\n",
    "Используя только встроенные питоновские функции и структуры данных (т.е. без библиотек `numpy`, `pandas` и др.), посчитайте (несмещённое) среднее квадратичное отклонение для данной выборки.\n"
   ]
  },
  {
   "cell_type": "code",
   "execution_count": 1,
   "id": "72067056",
   "metadata": {},
   "outputs": [],
   "source": [
    "x = [100, 80, 75, 77, 89, 33, 45, 25, 65, 17, 30, 230, 24, 57, 55, 70, 75, 65, 84, 90, 150]"
   ]
  },
  {
   "cell_type": "code",
   "execution_count": 25,
   "id": "7d18c831",
   "metadata": {},
   "outputs": [],
   "source": [
    "m = sum(x)/len(x) #среднее\n",
    "x2 = [(i - m)**2 for i in x] #квадрат отклонения от среднего\n",
    "Dx = sum(x2) * (1/(len(x)-1)) #не смещенная дисперсия\n",
    "std = Dx**0.5 # несмещённое среднее квадратичное отклонение"
   ]
  },
  {
   "cell_type": "code",
   "execution_count": 26,
   "id": "97747eab",
   "metadata": {},
   "outputs": [
    {
     "data": {
      "text/plain": [
       "47.34795213553139"
      ]
     },
     "execution_count": 26,
     "metadata": {},
     "output_type": "execute_result"
    }
   ],
   "source": [
    "std"
   ]
  },
  {
   "cell_type": "markdown",
   "id": "28239867",
   "metadata": {},
   "source": [
    "#### Ответ: 47.34795213"
   ]
  },
  {
   "cell_type": "markdown",
   "id": "053a7506",
   "metadata": {},
   "source": [
    "__Задача 2__\n",
    "\n",
    "Найдите число выбросов в выборке из задачи 1. Для определения выбросов используйте методику как при построении \"усов\" в `boxplot`, однако, как и в задаче 1, пользоваться можно только встроенными функциями и структурами данных."
   ]
  },
  {
   "cell_type": "code",
   "execution_count": 43,
   "id": "6cd8af9c",
   "metadata": {},
   "outputs": [
    {
     "data": {
      "text/plain": [
       "[17,\n",
       " 24,\n",
       " 25,\n",
       " 30,\n",
       " 33,\n",
       " 45,\n",
       " 55,\n",
       " 57,\n",
       " 65,\n",
       " 65,\n",
       " 70,\n",
       " 75,\n",
       " 75,\n",
       " 77,\n",
       " 80,\n",
       " 84,\n",
       " 89,\n",
       " 90,\n",
       " 100,\n",
       " 150,\n",
       " 230]"
      ]
     },
     "execution_count": 43,
     "metadata": {},
     "output_type": "execute_result"
    }
   ],
   "source": [
    "x = sorted(x)\n",
    "x"
   ]
  },
  {
   "cell_type": "code",
   "execution_count": 44,
   "id": "34772e34",
   "metadata": {},
   "outputs": [
    {
     "data": {
      "text/plain": [
       "1"
      ]
     },
     "execution_count": 44,
     "metadata": {},
     "output_type": "execute_result"
    }
   ],
   "source": [
    "len(x) % 4 # без остатка не делится, значит q1 = элементу c номером len(x) // 4 "
   ]
  },
  {
   "cell_type": "code",
   "execution_count": 45,
   "id": "3c35c942",
   "metadata": {},
   "outputs": [
    {
     "data": {
      "text/plain": [
       "45"
      ]
     },
     "execution_count": 45,
     "metadata": {},
     "output_type": "execute_result"
    }
   ],
   "source": [
    "q1 = x[len(x) // 4] \n",
    "q1"
   ]
  },
  {
   "cell_type": "code",
   "execution_count": 46,
   "id": "50b5757f",
   "metadata": {},
   "outputs": [
    {
     "data": {
      "text/plain": [
       "84"
      ]
     },
     "execution_count": 46,
     "metadata": {},
     "output_type": "execute_result"
    }
   ],
   "source": [
    "q3 = x[3*len(x) // 4] \n",
    "q3"
   ]
  },
  {
   "cell_type": "code",
   "execution_count": 50,
   "id": "f2c51b73",
   "metadata": {},
   "outputs": [
    {
     "data": {
      "text/plain": [
       "39"
      ]
     },
     "execution_count": 50,
     "metadata": {},
     "output_type": "execute_result"
    }
   ],
   "source": [
    "lqr = q3 - q1 # интерквартильный размах\n",
    "lqr"
   ]
  },
  {
   "cell_type": "code",
   "execution_count": 48,
   "id": "44b41b0c",
   "metadata": {},
   "outputs": [],
   "source": [
    "boxplot = (q1-1.5*lqr), (q3+1.5*lqr)"
   ]
  },
  {
   "cell_type": "code",
   "execution_count": 49,
   "id": "030caf51",
   "metadata": {},
   "outputs": [
    {
     "data": {
      "text/plain": [
       "(-13.5, 142.5)"
      ]
     },
     "execution_count": 49,
     "metadata": {},
     "output_type": "execute_result"
    }
   ],
   "source": [
    "boxplot"
   ]
  },
  {
   "cell_type": "markdown",
   "id": "7b74e208",
   "metadata": {},
   "source": [
    "Выходит значения 150 и 230 - выбросы."
   ]
  },
  {
   "cell_type": "markdown",
   "id": "3ae413e4",
   "metadata": {},
   "source": [
    "#### Ответ: 2"
   ]
  },
  {
   "cell_type": "markdown",
   "id": "80fbbb41",
   "metadata": {},
   "source": [
    "Проверим с помощью сеаборна."
   ]
  },
  {
   "cell_type": "code",
   "execution_count": 51,
   "id": "020a480d",
   "metadata": {},
   "outputs": [],
   "source": [
    "import seaborn as sns"
   ]
  },
  {
   "cell_type": "code",
   "execution_count": 52,
   "id": "8e76dd17",
   "metadata": {},
   "outputs": [
    {
     "name": "stderr",
     "output_type": "stream",
     "text": [
      "C:\\ProgramData\\Anaconda3\\lib\\site-packages\\seaborn\\_decorators.py:36: FutureWarning: Pass the following variable as a keyword arg: x. From version 0.12, the only valid positional argument will be `data`, and passing other arguments without an explicit keyword will result in an error or misinterpretation.\n",
      "  warnings.warn(\n"
     ]
    },
    {
     "data": {
      "text/plain": [
       "<AxesSubplot:>"
      ]
     },
     "execution_count": 52,
     "metadata": {},
     "output_type": "execute_result"
    },
    {
     "data": {
      "image/png": "[encoded data removed]",
      "text/plain": [
       "<Figure size 432x288 with 1 Axes>"
      ]
     },
     "metadata": {
      "needs_background": "light"
     },
     "output_type": "display_data"
    }
   ],
   "source": [
    "sns.boxplot(x)"
   ]
  },
  {
   "cell_type": "markdown",
   "id": "71a7ed33",
   "metadata": {},
   "source": [
    "__Задача 3__\n",
    "\n",
    "В университет на факультет A поступило 100 человек, на факультет B - 90 человек и на факультет C - 45 человек. Вероятность того, что студент с факультета A сдаст первую сессию, равна 0.6. Для студента с факультета B эта вероятность равна 0.7, а для студента с факультета C - 0.8. Случайным образом выбирается студент, сдавший первую сессию. Какое событие наиболее вероятно:\n",
    "1. студент учится на факультете A,\n",
    "2. студент учится на факультете B,\n",
    "3. студент учится на факультете C?\n",
    "\n",
    "_Замечание_: да, эта задача не на тему статистики, но тема важная, и её стоит иногда освежать в памяти."
   ]
  },
  {
   "cell_type": "markdown",
   "id": "0075bb4f",
   "metadata": {},
   "source": [
    "Для решения используем формулу Байеса.\n",
    "\n",
    "P(A|Ba) = 0.6\n",
    "P(A|Bb) = 0.7\n",
    "P(A|Bc) = 0.8\n",
    "P(Ba) = 100/235\n",
    "P(Bb) = 90/235\n",
    "P(Bc) = 45/235"
   ]
  },
  {
   "cell_type": "code",
   "execution_count": 57,
   "id": "41b50c75",
   "metadata": {},
   "outputs": [
    {
     "data": {
      "text/plain": [
       "0.676595744680851"
      ]
     },
     "execution_count": 57,
     "metadata": {},
     "output_type": "execute_result"
    }
   ],
   "source": [
    "PA = 0.6*100/235+0.7*90/235+0.8*45/235\n",
    "PA"
   ]
  },
  {
   "cell_type": "code",
   "execution_count": 65,
   "id": "486795cb",
   "metadata": {},
   "outputs": [
    {
     "name": "stdout",
     "output_type": "stream",
     "text": [
      "Вероятность, что студент учится на факультете A = 0.3773584905660377\n"
     ]
    }
   ],
   "source": [
    "PBaA = (0.6*100/235) / PA\n",
    "print(f\"Вероятность, что студент учится на факультете A = {PBaA}\")"
   ]
  },
  {
   "cell_type": "code",
   "execution_count": 66,
   "id": "13910a15",
   "metadata": {},
   "outputs": [
    {
     "name": "stdout",
     "output_type": "stream",
     "text": [
      "Вероятность, что студент учится на факультете A = 0.39622641509433953\n"
     ]
    }
   ],
   "source": [
    "PBbA = (0.7*90/235) / PA\n",
    "print(f\"Вероятность, что студент учится на факультете A = {PBbA}\")"
   ]
  },
  {
   "cell_type": "code",
   "execution_count": 67,
   "id": "4b30559a",
   "metadata": {},
   "outputs": [
    {
     "name": "stdout",
     "output_type": "stream",
     "text": [
      "Вероятность, что студент учится на факультете A = 0.22641509433962265\n"
     ]
    }
   ],
   "source": [
    "PBcA = (0.8*45/235) / PA\n",
    "print(f\"Вероятность, что студент учится на факультете A = {PBcA}\")"
   ]
  },
  {
   "cell_type": "markdown",
   "id": "6eb54e31",
   "metadata": {},
   "source": [
    "#### Ответ: 2"
   ]
  },
  {
   "cell_type": "code",
   "execution_count": null,
   "id": "d5d7a349",
   "metadata": {},
   "outputs": [],
   "source": []
  }
 ],
 "metadata": {
  "kernelspec": {
   "display_name": "Python 3",
   "language": "python",
   "name": "python3"
  },
  "language_info": {
   "codemirror_mode": {
    "name": "ipython",
    "version": 3
   },
   "file_extension": ".py",
   "mimetype": "text/x-python",
   "name": "python",
   "nbconvert_exporter": "python",
   "pygments_lexer": "ipython3",
   "version": "3.8.8"
  }
 },
 "nbformat": 4,
 "nbformat_minor": 5
}
