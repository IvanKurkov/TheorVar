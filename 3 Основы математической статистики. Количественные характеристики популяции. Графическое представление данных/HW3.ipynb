{
 "cells": [
  {
   "cell_type": "markdown",
   "id": "e52b3391",
   "metadata": {},
   "source": [
    "__Задача 1__\n",
    "\n",
    "Даны значения зарплат из выборки выпускников: \n",
    "```\n",
    "100, 80, 75, 77, 89, 33, 45, 25, 65, 17, 30, 230, 24, 57, 55, 70, 75, 65, 84, 90, 150\n",
    "```\n",
    "Используя только встроенные питоновские функции и структуры данных (т.е. без библиотек `numpy`, `pandas` и др.), посчитайте (несмещённое) среднее квадратичное отклонение для данной выборки.\n"
   ]
  },
  {
   "cell_type": "code",
   "execution_count": 69,
   "id": "c1bb1116",
   "metadata": {},
   "outputs": [],
   "source": [
    "x = [100, 80, 75, 77, 89, 33, 45, 25, 65, 17, 30, 230, 24, 57, 55, 70, 75, 65, 84, 90, 150]"
   ]
  },
  {
   "cell_type": "code",
   "execution_count": 70,
   "id": "8ea88068",
   "metadata": {},
   "outputs": [],
   "source": [
    "m = sum(x)/len(x) #среднее\n",
    "x2 = [(i - m)**2 for i in x] #квадрат отклонения от среднего\n",
    "Dx = sum(x2) * (1/(len(x)-1)) #не смещенная дисперсия\n",
    "std = Dx**0.5 # несмещённое среднее квадратичное отклонение"
   ]
  },
  {
   "cell_type": "code",
   "execution_count": 71,
   "id": "a581f582",
   "metadata": {},
   "outputs": [
    {
     "data": {
      "text/plain": [
       "47.34795213553139"
      ]
     },
     "execution_count": 71,
     "metadata": {},
     "output_type": "execute_result"
    }
   ],
   "source": [
    "std"
   ]
  },
  {
   "cell_type": "markdown",
   "id": "f8111798",
   "metadata": {},
   "source": [
    "#### Ответ: 47.34795213"
   ]
  },
  {
   "cell_type": "markdown",
   "id": "a263a11d",
   "metadata": {},
   "source": [
    "__Задача 2__\n",
    "\n",
    "Найдите число выбросов в выборке из задачи 1. Для определения выбросов используйте методику как при построении \"усов\" в `boxplot`, однако, как и в задаче 1, пользоваться можно только встроенными функциями и структурами данных."
   ]
  },
  {
   "cell_type": "code",
   "execution_count": 72,
   "id": "87ada567",
   "metadata": {},
   "outputs": [
    {
     "data": {
      "text/plain": [
       "[17,\n",
       " 24,\n",
       " 25,\n",
       " 30,\n",
       " 33,\n",
       " 45,\n",
       " 55,\n",
       " 57,\n",
       " 65,\n",
       " 65,\n",
       " 70,\n",
       " 75,\n",
       " 75,\n",
       " 77,\n",
       " 80,\n",
       " 84,\n",
       " 89,\n",
       " 90,\n",
       " 100,\n",
       " 150,\n",
       " 230]"
      ]
     },
     "execution_count": 72,
     "metadata": {},
     "output_type": "execute_result"
    }
   ],
   "source": [
    "x = sorted(x)\n",
    "x"
   ]
  },
  {
   "cell_type": "code",
   "execution_count": 73,
   "id": "764ad02d",
   "metadata": {},
   "outputs": [
    {
     "data": {
      "text/plain": [
       "1"
      ]
     },
     "execution_count": 73,
     "metadata": {},
     "output_type": "execute_result"
    }
   ],
   "source": [
    "len(x) % 4 # без остатка не делится, значит q1 = элементу c номером len(x) // 4 "
   ]
  },
  {
   "cell_type": "code",
   "execution_count": 74,
   "id": "5149c9d6",
   "metadata": {},
   "outputs": [
    {
     "data": {
      "text/plain": [
       "45"
      ]
     },
     "execution_count": 74,
     "metadata": {},
     "output_type": "execute_result"
    }
   ],
   "source": [
    "q1 = x[len(x) // 4] \n",
    "q1"
   ]
  },
  {
   "cell_type": "code",
   "execution_count": 75,
   "id": "42cd08a2",
   "metadata": {},
   "outputs": [
    {
     "data": {
      "text/plain": [
       "84"
      ]
     },
     "execution_count": 75,
     "metadata": {},
     "output_type": "execute_result"
    }
   ],
   "source": [
    "q3 = x[3*len(x) // 4] \n",
    "q3"
   ]
  },
  {
   "cell_type": "code",
   "execution_count": 76,
   "id": "1666a384",
   "metadata": {},
   "outputs": [
    {
     "data": {
      "text/plain": [
       "39"
      ]
     },
     "execution_count": 76,
     "metadata": {},
     "output_type": "execute_result"
    }
   ],
   "source": [
    "lqr = q3 - q1 # интерквартильный размах\n",
    "lqr"
   ]
  },
  {
   "cell_type": "code",
   "execution_count": 77,
   "id": "8c2996b8",
   "metadata": {},
   "outputs": [],
   "source": [
    "boxplot = (q1-1.5*lqr), (q3+1.5*lqr)"
   ]
  },
  {
   "cell_type": "code",
   "execution_count": 78,
   "id": "378fb29a",
   "metadata": {},
   "outputs": [
    {
     "data": {
      "text/plain": [
       "(-13.5, 142.5)"
      ]
     },
     "execution_count": 78,
     "metadata": {},
     "output_type": "execute_result"
    }
   ],
   "source": [
    "boxplot"
   ]
  },
  {
   "cell_type": "markdown",
   "id": "e1c24e88",
   "metadata": {},
   "source": [
    "Выходит значения 150 и 230 - выбросы."
   ]
  },
  {
   "cell_type": "markdown",
   "id": "02946894",
   "metadata": {},
   "source": [
    "#### Ответ: 2"
   ]
  },
  {
   "cell_type": "markdown",
   "id": "22f40fe0",
   "metadata": {},
   "source": [
    "Проверим с помощью сеаборна."
   ]
  },
  {
   "cell_type": "code",
   "execution_count": 79,
   "id": "403db75f",
   "metadata": {},
   "outputs": [],
   "source": [
    "import seaborn as sns"
   ]
  },
  {
   "cell_type": "code",
   "execution_count": 80,
   "id": "e050cf3d",
   "metadata": {},
   "outputs": [
    {
     "name": "stderr",
     "output_type": "stream",
     "text": [
      "C:\\ProgramData\\Anaconda3\\lib\\site-packages\\seaborn\\_decorators.py:36: FutureWarning: Pass the following variable as a keyword arg: x. From version 0.12, the only valid positional argument will be `data`, and passing other arguments without an explicit keyword will result in an error or misinterpretation.\n",
      "  warnings.warn(\n"
     ]
    },
    {
     "data": {
      "text/plain": [
       "<AxesSubplot:>"
      ]
     },
     "execution_count": 80,
     "metadata": {},
     "output_type": "execute_result"
    },
    {
     "data": {
      "image/png": "[encoded data removed]",
      "text/plain": [
       "<Figure size 432x288 with 1 Axes>"
      ]
     },
     "metadata": {
      "needs_background": "light"
     },
     "output_type": "display_data"
    }
   ],
   "source": [
    "sns.boxplot(x)"
   ]
  },
  {
   "cell_type": "markdown",
   "id": "53540e1c",
   "metadata": {},
   "source": [
    "__Задача 3__\n",
    "\n",
    "В университет на факультет A поступило 100 человек, на факультет B - 90 человек и на факультет C - 45 человек. Вероятность того, что студент с факультета A сдаст первую сессию, равна 0.6. Для студента с факультета B эта вероятность равна 0.7, а для студента с факультета C - 0.8. Случайным образом выбирается студент, сдавший первую сессию. Какое событие наиболее вероятно:\n",
    "1. студент учится на факультете A,\n",
    "2. студент учится на факультете B,\n",
    "3. студент учится на факультете C?\n",
    "\n",
    "_Замечание_: да, эта задача не на тему статистики, но тема важная, и её стоит иногда освежать в памяти."
   ]
  },
  {
   "cell_type": "markdown",
   "id": "d69cad49",
   "metadata": {},
   "source": [
    "Для решения используем формулу Байеса.\n",
    "\n",
    "P(A|Ba) = 0.6\n",
    "\n",
    "P(A|Bb) = 0.7\n",
    "\n",
    "P(A|Bc) = 0.8\n",
    "\n",
    "P(Ba) = 100/235\n",
    "\n",
    "P(Bb) = 90/235\n",
    "\n",
    "P(Bc) = 45/235"
   ]
  },
  {
   "cell_type": "code",
   "execution_count": 81,
   "id": "d69153b6",
   "metadata": {},
   "outputs": [
    {
     "data": {
      "text/plain": [
       "0.676595744680851"
      ]
     },
     "execution_count": 81,
     "metadata": {},
     "output_type": "execute_result"
    }
   ],
   "source": [
    "PA = 0.6*100/235+0.7*90/235+0.8*45/235\n",
    "PA"
   ]
  },
  {
   "cell_type": "code",
   "execution_count": 82,
   "id": "db14b146",
   "metadata": {},
   "outputs": [
    {
     "name": "stdout",
     "output_type": "stream",
     "text": [
      "Вероятность, что студент учится на факультете A = 0.3773584905660377\n"
     ]
    }
   ],
   "source": [
    "PBaA = (0.6*100/235) / PA\n",
    "print(f\"Вероятность, что студент учится на факультете A = {PBaA}\")"
   ]
  },
  {
   "cell_type": "code",
   "execution_count": 83,
   "id": "91448472",
   "metadata": {},
   "outputs": [
    {
     "name": "stdout",
     "output_type": "stream",
     "text": [
      "Вероятность, что студент учится на факультете A = 0.39622641509433953\n"
     ]
    }
   ],
   "source": [
    "PBbA = (0.7*90/235) / PA\n",
    "print(f\"Вероятность, что студент учится на факультете A = {PBbA}\")"
   ]
  },
  {
   "cell_type": "code",
   "execution_count": 84,
   "id": "8eb64bbb",
   "metadata": {},
   "outputs": [
    {
     "name": "stdout",
     "output_type": "stream",
     "text": [
      "Вероятность, что студент учится на факультете A = 0.22641509433962265\n"
     ]
    }
   ],
   "source": [
    "PBcA = (0.8*45/235) / PA\n",
    "print(f\"Вероятность, что студент учится на факультете A = {PBcA}\")"
   ]
  },
  {
   "cell_type": "markdown",
   "id": "f454e8eb",
   "metadata": {},
   "source": [
    "#### Ответ: 2"
   ]
  },
  {
   "cell_type": "code",
   "execution_count": null,
   "id": "34ddb51f",
   "metadata": {},
   "outputs": [],
   "source": []
  }
 ],
 "metadata": {
  "kernelspec": {
   "display_name": "Python 3",
   "language": "python",
   "name": "python3"
  },
  "language_info": {
   "codemirror_mode": {
    "name": "ipython",
    "version": 3
   },
   "file_extension": ".py",
   "mimetype": "text/x-python",
   "name": "python",
   "nbconvert_exporter": "python",
   "pygments_lexer": "ipython3",
   "version": "3.8.8"
  }
 },
 "nbformat": 4,
 "nbformat_minor": 5
}
