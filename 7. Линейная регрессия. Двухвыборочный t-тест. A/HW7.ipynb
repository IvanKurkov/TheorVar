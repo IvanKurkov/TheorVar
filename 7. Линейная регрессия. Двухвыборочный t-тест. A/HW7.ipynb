{
 "cells": [
  {
   "cell_type": "markdown",
   "id": "e7520f7d",
   "metadata": {},
   "source": [
    "### Задача 1\n",
    "\n",
    "Дана матрица объект-признак\n",
    "```\n",
    "X = [[ 1.22401313,  2.30868478,  3.03636353,  2.69287214],\n",
    "     [-0.18757272,  1.30337355,  5.12093014,  3.46363202],\n",
    "     [-0.81094525,  1.82463398,  5.79686488,  1.86159445],\n",
    "     [ 0.75129018,  2.67392052,  3.65529809,  1.66746094],\n",
    "     [ 0.00972362,  1.97367255,  2.50594319,  1.69755173],\n",
    "     [-0.62972637,  0.77750764,  2.84124027,  4.54410559],\n",
    "     [ 2.29536229,  1.81206697,  1.95026215,  1.51874636],\n",
    "     [ 0.0920418 ,  2.26971361,  7.47708735,  2.61081203],\n",
    "     [ 2.39252799,  3.17563985,  3.61420599,  5.10773362],\n",
    "     [ 0.54983815,  2.87988651,  1.65752765,  1.59635987]]\n",
    "```\n",
    "и значения целевой переменной\n",
    "```\n",
    "y = [ 9.26193358,  9.700363  ,  8.67214805,  8.74796974,  6.18689108,\n",
    "      7.53312713,  7.57643777, 12.44965478, 14.29010746,  6.68361218]\n",
    "```\n",
    "\n",
    "Подберите два признака (из четырёх) так, чтобы уровень линейной зависимости целевой переменной от значений этих признаков был максимальным. Другими словами, модель линейной регрессии на этих признаках должна давать наилучший результат. В качестве ответа запишите значение коэффициента детерминации для модели на этих признаках.\n"
   ]
  },
  {
   "cell_type": "code",
   "execution_count": 2,
   "id": "c8c3ce22",
   "metadata": {},
   "outputs": [],
   "source": [
    "import numpy as np"
   ]
  },
  {
   "cell_type": "code",
   "execution_count": 3,
   "id": "e6e17890",
   "metadata": {},
   "outputs": [],
   "source": [
    "X = np.array([[ 1.22401313,  2.30868478,  3.03636353,  2.69287214],\n",
    "     [-0.18757272,  1.30337355,  5.12093014,  3.46363202],\n",
    "     [-0.81094525,  1.82463398,  5.79686488,  1.86159445],\n",
    "     [ 0.75129018,  2.67392052,  3.65529809,  1.66746094],\n",
    "     [ 0.00972362,  1.97367255,  2.50594319,  1.69755173],\n",
    "     [-0.62972637,  0.77750764,  2.84124027,  4.54410559],\n",
    "     [ 2.29536229,  1.81206697,  1.95026215,  1.51874636],\n",
    "     [ 0.0920418 ,  2.26971361,  7.47708735,  2.61081203],\n",
    "     [ 2.39252799,  3.17563985,  3.61420599,  5.10773362],\n",
    "     [ 0.54983815,  2.87988651,  1.65752765,  1.59635987]])\n",
    "y = np.array([ 9.26193358,  9.700363  ,  8.67214805,  8.74796974,  6.18689108,\n",
    "      7.53312713,  7.57643777, 12.44965478, 14.29010746,  6.68361218])"
   ]
  },
  {
   "cell_type": "markdown",
   "id": "8be60710",
   "metadata": {},
   "source": [
    "#### Для начала повторим процедуру расчетов"
   ]
  },
  {
   "cell_type": "code",
   "execution_count": 4,
   "id": "103bee9d",
   "metadata": {},
   "outputs": [],
   "source": [
    "ones = np.ones((X.shape[0], 1)) #создаем еденичный вектор по количесту наблюдений\n",
    "X = np.hstack((ones, X)) #Добавляем вектор в признаковое пространство"
   ]
  },
  {
   "cell_type": "code",
   "execution_count": 5,
   "id": "e75dafd1",
   "metadata": {},
   "outputs": [],
   "source": [
    "XTX = X.T.dot(X) #X.транспонированное.матрично умножаем на X изначальное"
   ]
  },
  {
   "cell_type": "code",
   "execution_count": 6,
   "id": "6464ddd7",
   "metadata": {},
   "outputs": [],
   "source": [
    "XTX_inv = np.linalg.inv(XTX) # Ищем обратную матрицу предыдущего расчета"
   ]
  },
  {
   "cell_type": "code",
   "execution_count": 7,
   "id": "b7681b5d",
   "metadata": {},
   "outputs": [],
   "source": [
    "b = XTX_inv.dot(X.T).dot(y) # Эту обратную матрицу.матрично умножаем на транспонированную матрицу X.матрично умножаем на Y"
   ]
  },
  {
   "cell_type": "code",
   "execution_count": 8,
   "id": "20011b28",
   "metadata": {},
   "outputs": [
    {
     "data": {
      "text/plain": [
       "array([-7.50726681e-09,  1.00000000e+00,  1.00000000e+00,  9.99999999e-01,\n",
       "        1.00000000e+00])"
      ]
     },
     "execution_count": 8,
     "metadata": {},
     "output_type": "execute_result"
    }
   ],
   "source": [
    "b # Полученные коэфф. [b0 , b1, b2, b3, b4]"
   ]
  },
  {
   "cell_type": "code",
   "execution_count": 9,
   "id": "a95f603c",
   "metadata": {},
   "outputs": [],
   "source": [
    "z = X.dot(b) # спрогнозируем"
   ]
  },
  {
   "cell_type": "code",
   "execution_count": 10,
   "id": "ed00cb46",
   "metadata": {},
   "outputs": [],
   "source": [
    "e = (y-z) # получим остатки (ошибку) на каждом прогнозе"
   ]
  },
  {
   "cell_type": "code",
   "execution_count": 11,
   "id": "00cf0c2f",
   "metadata": {},
   "outputs": [
    {
     "data": {
      "text/plain": [
       "-6.394884621840902e-15"
      ]
     },
     "execution_count": 11,
     "metadata": {},
     "output_type": "execute_result"
    }
   ],
   "source": [
    "e.mean() # средняя ошибка стремится к 0"
   ]
  },
  {
   "cell_type": "code",
   "execution_count": 13,
   "id": "0bf2aaf3",
   "metadata": {},
   "outputs": [],
   "source": [
    "def sum_of_squares(samples: np.ndarray) -> float:\n",
    "    \"\"\"Сумма квадратов отклонений.\n",
    "    \"\"\"\n",
    "    \n",
    "    return ((samples - samples.mean()) ** 2).sum()"
   ]
  },
  {
   "cell_type": "code",
   "execution_count": 14,
   "id": "3a70e402",
   "metadata": {},
   "outputs": [],
   "source": [
    "R = 1 - sum_of_squares(e) / sum_of_squares(y)"
   ]
  },
  {
   "cell_type": "code",
   "execution_count": 15,
   "id": "17f82b7a",
   "metadata": {},
   "outputs": [
    {
     "data": {
      "text/plain": [
       "1.0"
      ]
     },
     "execution_count": 15,
     "metadata": {},
     "output_type": "execute_result"
    }
   ],
   "source": [
    "R"
   ]
  },
  {
   "cell_type": "markdown",
   "id": "dca01b85",
   "metadata": {},
   "source": [
    "Ага, R = 1, мечта Датасаинтиста.."
   ]
  },
  {
   "cell_type": "markdown",
   "id": "6a40e48f",
   "metadata": {},
   "source": [
    "##### Напишем функционал для нашей задачи."
   ]
  },
  {
   "cell_type": "code",
   "execution_count": 34,
   "id": "ff4d1f41",
   "metadata": {},
   "outputs": [],
   "source": [
    "x = np.array([[ 1.22401313,  2.30868478,  3.03636353,  2.69287214],\n",
    "     [-0.18757272,  1.30337355,  5.12093014,  3.46363202],\n",
    "     [-0.81094525,  1.82463398,  5.79686488,  1.86159445],\n",
    "     [ 0.75129018,  2.67392052,  3.65529809,  1.66746094],\n",
    "     [ 0.00972362,  1.97367255,  2.50594319,  1.69755173],\n",
    "     [-0.62972637,  0.77750764,  2.84124027,  4.54410559],\n",
    "     [ 2.29536229,  1.81206697,  1.95026215,  1.51874636],\n",
    "     [ 0.0920418 ,  2.26971361,  7.47708735,  2.61081203],\n",
    "     [ 2.39252799,  3.17563985,  3.61420599,  5.10773362],\n",
    "     [ 0.54983815,  2.87988651,  1.65752765,  1.59635987]])\n",
    "y = np.array([ 9.26193358,  9.700363  ,  8.67214805,  8.74796974,  6.18689108,\n",
    "      7.53312713,  7.57643777, 12.44965478, 14.29010746,  6.68361218])"
   ]
  },
  {
   "cell_type": "code",
   "execution_count": 36,
   "id": "f55b0cec",
   "metadata": {},
   "outputs": [],
   "source": [
    "def test_feachure(x: np.ndarray, y: np.ndarray, cols: list ):\n",
    "    \"\"\"\n",
    "    x - пространство признаков\n",
    "    y - вектор ответов\n",
    "    cols - список используемых фич.\n",
    "    \"\"\"\n",
    "    x = x[:,cols]\n",
    "    ones = np.ones((x.shape[0], 1)) \n",
    "    x = np.hstack((ones, x))\n",
    "    XTX = x.T.dot(x)\n",
    "    XTX_inv = np.linalg.inv(XTX)\n",
    "    b = XTX_inv.dot(x.T).dot(y)\n",
    "    z = x.dot(b)\n",
    "    e = (y-z)\n",
    "    R = 1 - sum_of_squares(e) / sum_of_squares(y)\n",
    "    return R"
   ]
  },
  {
   "cell_type": "code",
   "execution_count": 38,
   "id": "5f7e52e5",
   "metadata": {},
   "outputs": [],
   "source": [
    "from itertools import combinations"
   ]
  },
  {
   "cell_type": "code",
   "execution_count": 45,
   "id": "51079add",
   "metadata": {},
   "outputs": [
    {
     "name": "stdout",
     "output_type": "stream",
     "text": [
      "[0, 1] - 0.18113594742585204\n",
      "[0, 2] - 0.7634246238793152\n",
      "[0, 3] - 0.45329667831440745\n",
      "[1, 2] - 0.5479482734039012\n",
      "[1, 3] - 0.6062055761129932\n",
      "[2, 3] - 0.6224419876505322\n"
     ]
    }
   ],
   "source": [
    "for i in list(combinations([0,1,2,3], 2)):\n",
    "    print(f\"{list(i)} - {test_feachure(x,y,list(i))}\")"
   ]
  },
  {
   "cell_type": "markdown",
   "id": "f2538cd5",
   "metadata": {},
   "source": [
    "#### Ответ: Столбцы - [0, 2],  Коэфф детерминации - 0.7634246238793152"
   ]
  },
  {
   "cell_type": "markdown",
   "id": "022b86d4",
   "metadata": {},
   "source": [
    "### Задача 2.\n",
    "Является ли значимым уравнение регрессии, полученное в предыдущей задаче? В качестве ответа запишите 1, если является, и 0 иначе.\n"
   ]
  },
  {
   "cell_type": "markdown",
   "id": "05e1d337",
   "metadata": {},
   "source": [
    "* Считать будем по тому уравнению, в котором 2 признака дают наилучший результат детерминации."
   ]
  },
  {
   "cell_type": "code",
   "execution_count": 55,
   "id": "f842f9a8",
   "metadata": {},
   "outputs": [],
   "source": [
    "import scipy.stats as stats"
   ]
  },
  {
   "cell_type": "markdown",
   "id": "5ed1a887",
   "metadata": {},
   "source": [
    "\n",
    "- H0 - Зависимость случайна\n",
    "- Н1 - Зависимость значима\n",
    "- Используем распределение Фишера\n",
    "- alpha = 0.05\n",
    "- Критическая область правосторонняя"
   ]
  },
  {
   "cell_type": "code",
   "execution_count": 50,
   "id": "d1231cbf",
   "metadata": {},
   "outputs": [],
   "source": [
    "R2 = test_feachure(x,y,[0, 2])\n",
    "m = 2\n",
    "n = 10\n",
    "alpha = 0.05\n",
    "k1 = m\n",
    "k2 = n - m - 1"
   ]
  },
  {
   "cell_type": "code",
   "execution_count": 51,
   "id": "600530d9",
   "metadata": {},
   "outputs": [],
   "source": [
    "F = (R2/k1) / ((1-R2)/k2)"
   ]
  },
  {
   "cell_type": "code",
   "execution_count": 56,
   "id": "496ddcda",
   "metadata": {},
   "outputs": [],
   "source": [
    "t = stats.f.ppf(1-alpha, k1, k2)"
   ]
  },
  {
   "cell_type": "code",
   "execution_count": 57,
   "id": "c2649776",
   "metadata": {},
   "outputs": [
    {
     "data": {
      "text/plain": [
       "(11.29443912292265, 4.73741412777588)"
      ]
     },
     "execution_count": 57,
     "metadata": {},
     "output_type": "execute_result"
    }
   ],
   "source": [
    "F, t"
   ]
  },
  {
   "cell_type": "markdown",
   "id": "683932e4",
   "metadata": {},
   "source": [
    "F - наша статистика больше t, значит лежит в критической области. Таким образом мы принимаем гипотезу Н1 - уравнение значимо."
   ]
  },
  {
   "cell_type": "markdown",
   "id": "8b21cd82",
   "metadata": {},
   "source": [
    "#### Ответ: 1 - значимо"
   ]
  },
  {
   "cell_type": "markdown",
   "id": "7232796d",
   "metadata": {},
   "source": [
    "### Задача 3.\n",
    "Для проведения A/B-тестирования сайта интернет-магазина были получены следующие данные: страница `A` была посещена 2509 раз, из них 77 закончились совершением покупки, страница `B` была посещена 1465 раз, 60 из них закончились совершением покупки. Является ли значимым отличие конверсии на страницах `A` и `B`? В качестве ответа запишите 1, если является, и 0 иначе.\n",
    "\n",
    "_Подсказка_. Реализуйте двухвыборочный t-тест. В качестве выборок здесь можно взять наборы меток совершения покупки (0 или 1) каждым посетителем."
   ]
  },
  {
   "cell_type": "code",
   "execution_count": 65,
   "id": "b024d7d0",
   "metadata": {},
   "outputs": [],
   "source": [
    "A = np.array([1]*77 + [0]*(2509-77))\n",
    "B = np.array([1]*60 + [0]*(1465-60))"
   ]
  },
  {
   "cell_type": "code",
   "execution_count": 71,
   "id": "160f86ec",
   "metadata": {},
   "outputs": [],
   "source": [
    "nA = A.size\n",
    "nB = B.size\n",
    "stdA = A.std(ddof=1)\n",
    "stdB = B.std(ddof=1)"
   ]
  },
  {
   "cell_type": "code",
   "execution_count": 72,
   "id": "a1107db0",
   "metadata": {},
   "outputs": [],
   "source": [
    "deltastd = (((stdA**2) / nA) + ((stdB**2) / nB))**0.5"
   ]
  },
  {
   "cell_type": "code",
   "execution_count": 74,
   "id": "28e6d41c",
   "metadata": {},
   "outputs": [],
   "source": [
    "t = (A.mean() - B.mean()) / deltastd"
   ]
  },
  {
   "cell_type": "code",
   "execution_count": 75,
   "id": "27141c98",
   "metadata": {},
   "outputs": [
    {
     "data": {
      "text/plain": [
       "-1.6504551408398205"
      ]
     },
     "execution_count": 75,
     "metadata": {},
     "output_type": "execute_result"
    }
   ],
   "source": [
    "t"
   ]
  },
  {
   "cell_type": "code",
   "execution_count": 76,
   "id": "3d13f6e4",
   "metadata": {},
   "outputs": [
    {
     "data": {
      "text/plain": [
       "2732.8025644352133"
      ]
     },
     "execution_count": 76,
     "metadata": {},
     "output_type": "execute_result"
    }
   ],
   "source": [
    "df = (stdA ** 2 / nA + stdB ** 2 / nB) ** 2 / \\\n",
    "    ((stdA ** 2 / nA) ** 2 / (nA - 1) + (stdB ** 2 / nB) ** 2 / (nB - 1))\n",
    "\n",
    "df"
   ]
  },
  {
   "cell_type": "code",
   "execution_count": 77,
   "id": "a398101a",
   "metadata": {},
   "outputs": [
    {
     "data": {
      "text/plain": [
       "(-1.9608324352746576, 1.9608324352746571)"
      ]
     },
     "execution_count": 77,
     "metadata": {},
     "output_type": "execute_result"
    }
   ],
   "source": [
    "t1 = stats.t.ppf(alpha / 2, df=df)\n",
    "t2 = stats.t.ppf(1 - alpha / 2, df=df)\n",
    "\n",
    "t1, t2"
   ]
  },
  {
   "cell_type": "markdown",
   "id": "57db2c95",
   "metadata": {},
   "source": [
    "Мы видим, что наша метрика t не выходит за критическую область, следовательно H0 - принимается. Конверсия не является значимой."
   ]
  },
  {
   "cell_type": "code",
   "execution_count": 78,
   "id": "bf433d4d",
   "metadata": {},
   "outputs": [
    {
     "data": {
      "text/plain": [
       "Ttest_indResult(statistic=-1.6504551408398205, pvalue=0.09896479217925898)"
      ]
     },
     "execution_count": 78,
     "metadata": {},
     "output_type": "execute_result"
    }
   ],
   "source": [
    "stats.ttest_ind(A, B, equal_var=False)"
   ]
  },
  {
   "cell_type": "markdown",
   "id": "64767c94",
   "metadata": {},
   "source": [
    "#### Ответ: 0"
   ]
  },
  {
   "cell_type": "code",
   "execution_count": null,
   "id": "d9e3d180",
   "metadata": {},
   "outputs": [],
   "source": []
  }
 ],
 "metadata": {
  "kernelspec": {
   "display_name": "Python 3",
   "language": "python",
   "name": "python3"
  },
  "language_info": {
   "codemirror_mode": {
    "name": "ipython",
    "version": 3
   },
   "file_extension": ".py",
   "mimetype": "text/x-python",
   "name": "python",
   "nbconvert_exporter": "python",
   "pygments_lexer": "ipython3",
   "version": "3.8.8"
  }
 },
 "nbformat": 4,
 "nbformat_minor": 5
}
