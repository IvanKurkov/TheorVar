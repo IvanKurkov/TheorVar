{
 "cells": [
  {
   "cell_type": "markdown",
   "metadata": {
    "id": "6R2Z2OW9AXGV"
   },
   "source": [
    "# Теория вероятностей и математическая статистика\n",
    "\n",
    "## Урок 2\n",
    "\n",
    "## Дискретные случайные величины. Закон распределения вероятностей.  Биномиальный закон распределения. Распределение Пуассона"
   ]
  },
  {
   "cell_type": "markdown",
   "metadata": {
    "id": "fcNwfGD3AXGX"
   },
   "source": [
    "### Случайные величины\n",
    "\n",
    "__Случайная величина__ — величина, которая в результате опыта принимает некоторое значение, неизвестное заранее.\n",
    "\n",
    "__Дискретные__ случайные величины, как правило, принимают целые или рациональные значения. Эти значения отделены друг от друга, т.е. если случайная величина принимает значения $1$ и $2$, то она не обязана принимать промежуточные значения.\n",
    "\n",
    "__Непрерывные__ случайные величины принимают вещественные значения. Здесь значения уже не отделены друг от друга, т.е. если непрерывная случайная величина принимает значения $1$ и $2$, то она также может принять и _любое_ значение между ними."
   ]
  },
  {
   "cell_type": "markdown",
   "metadata": {
    "id": "0uhIKCB2AXGZ"
   },
   "source": [
    "Примеры дискретных случайных величин:\n",
    "\n",
    "1. Сумма очков при $100$-кратном подбрасывании игрального кубика.\n",
    "2. Число метеоритов, упавших на Землю за год.\n",
    "3. Количество машин, которые успевают проехать через данный светофор за один цикл."
   ]
  },
  {
   "cell_type": "markdown",
   "metadata": {
    "id": "tMu4A22lAXGZ"
   },
   "source": [
    "__Пример 1__\n",
    "\n",
    "Смоделируем стократное подбрасывание монетки. Рассмотрим случайную величину, равную числу выпаданий орла."
   ]
  },
  {
   "cell_type": "code",
   "execution_count": null,
   "metadata": {
    "execution": {
     "iopub.execute_input": "2021-02-13T12:53:41.557327Z",
     "iopub.status.busy": "2021-02-13T12:53:41.556201Z",
     "iopub.status.idle": "2021-02-13T12:53:41.689645Z",
     "shell.execute_reply": "2021-02-13T12:53:41.691146Z"
    },
    "id": "d_HTXnzxAXGa"
   },
   "outputs": [],
   "source": [
    "import numpy as np"
   ]
  },
  {
   "cell_type": "code",
   "execution_count": null,
   "metadata": {
    "execution": {
     "iopub.execute_input": "2021-02-13T12:53:41.708714Z",
     "iopub.status.busy": "2021-02-13T12:53:41.707421Z",
     "iopub.status.idle": "2021-02-13T12:53:41.711776Z",
     "shell.execute_reply": "2021-02-13T12:53:41.713314Z"
    },
    "id": "Etis_imbAXGb",
    "outputId": "384083c1-4485-4e29-bc00-f133d445a8f5"
   },
   "outputs": [
    {
     "data": {
      "text/plain": [
       "43"
      ]
     },
     "execution_count": 1,
     "metadata": {},
     "output_type": "execute_result"
    }
   ],
   "source": [
    "np.random.randint(0, 2, size=100).sum()"
   ]
  },
  {
   "cell_type": "markdown",
   "metadata": {
    "id": "d52Ry6AvAXGd"
   },
   "source": [
    "Для генерации значений этой же случайной величины можно использовать функцию `binomial` (почему — обсудим ниже)."
   ]
  },
  {
   "cell_type": "code",
   "execution_count": null,
   "metadata": {
    "execution": {
     "iopub.execute_input": "2021-02-13T12:53:41.721083Z",
     "iopub.status.busy": "2021-02-13T12:53:41.719464Z",
     "iopub.status.idle": "2021-02-13T12:53:41.724288Z",
     "shell.execute_reply": "2021-02-13T12:53:41.725447Z"
    },
    "id": "KPHPGWZyzdn5",
    "outputId": "1a5eb150-bf24-4214-925e-b4a1f7c8fddf"
   },
   "outputs": [
    {
     "data": {
      "text/plain": [
       "48"
      ]
     },
     "execution_count": 1,
     "metadata": {},
     "output_type": "execute_result"
    }
   ],
   "source": [
    "np.random.binomial(n=100, p=0.5)"
   ]
  },
  {
   "cell_type": "markdown",
   "metadata": {
    "id": "3UvC6ExdAXGe"
   },
   "source": [
    "Можно повторить этот эксперимент большее количество раз (например, $50$ раз) и посмотреть, какие получаются значения."
   ]
  },
  {
   "cell_type": "code",
   "execution_count": null,
   "metadata": {
    "execution": {
     "iopub.execute_input": "2021-02-13T12:53:41.734626Z",
     "iopub.status.busy": "2021-02-13T12:53:41.732681Z",
     "iopub.status.idle": "2021-02-13T12:53:41.741744Z",
     "shell.execute_reply": "2021-02-13T12:53:41.747426Z"
    },
    "id": "xcUv_bZSAXGf",
    "outputId": "3a5bf4cd-0e59-45c7-df16-fe3e65cb763d"
   },
   "outputs": [
    {
     "name": "stdout",
     "output_type": "stream",
     "text": [
      "[64 54 54 47 57 60 52 50 54 57 50 49 44 54 46 53 44 48 51 43 46 56 44 46\n",
      " 53 58 54 56 59 50 54 52 53 58 40 55 57 43 53 48 50 54 51 45 47 53 52 51\n",
      " 53 50]\n"
     ]
    }
   ],
   "source": [
    "print(np.random.binomial(n=100, p=0.5, size=50))"
   ]
  },
  {
   "cell_type": "markdown",
   "metadata": {
    "id": "4LaakDuTAXGg"
   },
   "source": [
    "Пусть $X$ — дискретная случайная величина. __Закон распределения__ этой случайной величины — это соответствие между значениями, которые принимает эта величина, и вероятностями, с которыми она их принимает.\n",
    "\n",
    "__Пример 2__\n",
    "\n",
    "Пусть $X$ — сумма значений двух подбрасываемых игральных кубиков. Вот её закон распределения:\n",
    "\n",
    "<table border=\"3\">\n",
    "    <tr>\n",
    "        <th>$x$</th>\n",
    "        <td>2</td>\n",
    "        <td>3</td>\n",
    "        <td>4</td>\n",
    "        <td>5</td>\n",
    "        <td>6</td>\n",
    "        <td>7</td>\n",
    "        <td>8</td>\n",
    "        <td>9</td>\n",
    "        <td>10</td>\n",
    "        <td>11</td>\n",
    "        <td>12</td>\n",
    "</tr>\n",
    "    <tr>\n",
    "        <th>$P(X=x)$</th>\n",
    "        <td>0.028</td>\n",
    "        <td>0.056</td>\n",
    "        <td>0.083</td>\n",
    "        <td>0.111</td>\n",
    "        <td>0.139</td>\n",
    "        <td>0.167</td>\n",
    "        <td>0.139</td>\n",
    "        <td>0.111</td>\n",
    "        <td>0.083</td>\n",
    "        <td>0.056</td>\n",
    "        <td>0.028</td>\n",
    "    </tr>\n",
    "</table>"
   ]
  },
  {
   "cell_type": "markdown",
   "metadata": {
    "id": "gpgah9qpAXGg"
   },
   "source": [
    "__Пример 3__\n",
    "\n",
    "В урне $8$ шаров, из которых $5$ белых, остальные — чёрные. Наудачу вынимают $3$ шара. Найти закон распределения количества белых шаров в выборке.\n",
    "\n",
    "Принимаемые значения данной случайной величины будут: $x_1 = 0$, $x_2 = 1$, $x_3 = 2$, $x_4 = 3$.\n",
    "\n",
    "Посчитаем вероятность того, что $X = 0$, т.е. что среди трёх вытянутых шаров нет ни одного белого. Значит, вытянуты в точности все чёрные шары. Такое возможно лишь в одном случае."
   ]
  },
  {
   "cell_type": "markdown",
   "metadata": {
    "id": "hY5G6BJNAXGh"
   },
   "source": [
    "Кстати, из скольки? Общее число способов вытянуть $3$ шара из урны с $8$ шарами — число сочетаний:\n",
    "$$C_8^3 = \\dfrac{8!}{3! \\cdot 5!} = \\dfrac{8 \\cdot 7 \\cdot 6}{6} = 56.$$\n",
    "\n",
    "Итак, $P(X = 0) = \\dfrac{1}{56}$."
   ]
  },
  {
   "cell_type": "markdown",
   "metadata": {
    "id": "M5YFwCNHAXGh"
   },
   "source": [
    "Событие $X = 1$ означает, что среди вытянутых шаров один белый и два чёрных: $P(X = 1) = \\dfrac{C_5^1 \\cdot C_3^2}{56} = \\dfrac{15}{56}$. Аналогично,\n",
    "$$P(X = 2) = \\dfrac{C_5^2 \\cdot C_3^1}{56} = \\dfrac{30}{56}, \\:\\:\n",
    "P(X = 3) = \\dfrac{C_5^3}{56} = \\dfrac{10}{56}.$$\n",
    "\n",
    "Заметим, что сумма этих четырёх вероятностей равна $1$."
   ]
  },
  {
   "cell_type": "markdown",
   "metadata": {
    "id": "1ZhX2K0mAXGi"
   },
   "source": [
    "Пусть $X$, $Y$ — дискретные случайные величины, причём $X$ принимает значения $x_i$ с вероятностями $P(X = x_i)$, $i = 1,2,\\dots$, а $Y$ принимает значения $y_j$ с вероятностями $P(Y = y_j)$, $j = 1,2,\\dots$.\n",
    "\n",
    "* Их __сумма__ $Z = X + Y$ — случайная величина, которая принимает значения $z_{ij} = x_i + y_j$ с вероятностями $P(X = x_i, Y = y_j)$.\n",
    "* Аналогично считаются __разность__ и __произведение__ случайных величин, надо лишь заменить соответствующие символы операций.\n",
    "* __Квадрат__ $Z = X^2$ — случайная величина, которая принимает значения $z_i = x_i^2$ по тому же закону распределения, что и $X$."
   ]
  },
  {
   "cell_type": "markdown",
   "metadata": {
    "id": "d7dy2labAXGi"
   },
   "source": [
    "__Пример 4__\n",
    "\n",
    "В примере 2 мы записали закон распределения суммы значений при броске двух игральных кубиков. Сделаем то же самое с использованием свойства суммы случайных величин. \n",
    "\n",
    "Распределение значений при броске одного кубика имеет т.н. _равномерное распределение_: каждое из значений от $1$ до $6$ имеет одинаковую вероятность $P(X = k) = 1 / 6$."
   ]
  },
  {
   "cell_type": "markdown",
   "metadata": {
    "id": "jIS_e_aPAXGi"
   },
   "source": [
    "Пусть $X$ — случайная величина, равная значению на первом кубике, а $Y$ — на втором кубике. Очевидно, величины $X$ и $Y$ независимы. Для независимых событий имеем:\n",
    "$$P(X = i, Y = j) = P(X = i) \\cdot P(Y = j) = 1 / 36,$$\n",
    "где финальное равенство следует из того, что каждый множитель всегда равен $1 / 6$."
   ]
  },
  {
   "cell_type": "markdown",
   "metadata": {
    "id": "_xXDnI1mAXGj"
   },
   "source": [
    "Нас интересует случайная величина $Z = X + Y$. По сформулированному выше свойству мы знаем, что случайная величина принимает всевозможные значения $z_{ij} = x_i + y_j$, причём каждая комбинация $(x_i, y_j)$ имеет одинаковую вероятность $1 / 36$. Список всех таких комбинаций можно получить с помощью функции `product` из библиотеки `itertools`:"
   ]
  },
  {
   "cell_type": "code",
   "execution_count": null,
   "metadata": {
    "execution": {
     "iopub.execute_input": "2021-02-13T12:53:41.772036Z",
     "iopub.status.busy": "2021-02-13T12:53:41.767396Z",
     "iopub.status.idle": "2021-02-13T12:53:41.774749Z",
     "shell.execute_reply": "2021-02-13T12:53:41.776640Z"
    },
    "id": "I5Ddyre4AXGj"
   },
   "outputs": [],
   "source": [
    "from itertools import product"
   ]
  },
  {
   "cell_type": "code",
   "execution_count": null,
   "metadata": {
    "execution": {
     "iopub.execute_input": "2021-02-13T12:53:41.791103Z",
     "iopub.status.busy": "2021-02-13T12:53:41.789134Z",
     "iopub.status.idle": "2021-02-13T12:53:41.795806Z",
     "shell.execute_reply": "2021-02-13T12:53:41.797148Z"
    },
    "id": "JKicZw28AXGj",
    "outputId": "05cf6b3e-21b2-4182-86ba-75274b85f065"
   },
   "outputs": [
    {
     "data": {
      "text/plain": [
       "[(1, 1),\n",
       " (1, 2),\n",
       " (1, 3),\n",
       " (1, 4),\n",
       " (1, 5),\n",
       " (1, 6),\n",
       " (2, 1),\n",
       " (2, 2),\n",
       " (2, 3),\n",
       " (2, 4)]"
      ]
     },
     "execution_count": 1,
     "metadata": {},
     "output_type": "execute_result"
    }
   ],
   "source": [
    "pairs = list(product(range(1, 7), repeat=2))\n",
    "pairs[:10]"
   ]
  },
  {
   "cell_type": "markdown",
   "metadata": {
    "id": "uXJcZT2uAXGk"
   },
   "source": [
    "Вероятность встретить каждую такую пару значений равна $1 / 36$:"
   ]
  },
  {
   "cell_type": "code",
   "execution_count": null,
   "metadata": {
    "execution": {
     "iopub.execute_input": "2021-02-13T12:53:41.807737Z",
     "iopub.status.busy": "2021-02-13T12:53:41.806257Z",
     "iopub.status.idle": "2021-02-13T12:53:41.811886Z",
     "shell.execute_reply": "2021-02-13T12:53:41.812791Z"
    },
    "id": "SPbCrtXpAXGk",
    "outputId": "cde79eee-2d71-4d58-b9bb-8d63b56db1d5"
   },
   "outputs": [
    {
     "data": {
      "text/plain": [
       "array([0.02777778, 0.02777778, 0.02777778, 0.02777778, 0.02777778,\n",
       "       0.02777778, 0.02777778, 0.02777778, 0.02777778, 0.02777778])"
      ]
     },
     "execution_count": 1,
     "metadata": {},
     "output_type": "execute_result"
    }
   ],
   "source": [
    "probabilities = np.ones(len(pairs)) / 36\n",
    "probabilities[:10]"
   ]
  },
  {
   "cell_type": "markdown",
   "metadata": {
    "id": "uEGV3NAoAXGk"
   },
   "source": [
    "При этом нас интересуют не пары значений, а их суммы:"
   ]
  },
  {
   "cell_type": "code",
   "execution_count": null,
   "metadata": {
    "execution": {
     "iopub.execute_input": "2021-02-13T12:53:41.821517Z",
     "iopub.status.busy": "2021-02-13T12:53:41.820297Z",
     "iopub.status.idle": "2021-02-13T12:53:41.825430Z",
     "shell.execute_reply": "2021-02-13T12:53:41.826621Z"
    },
    "id": "m31zO5INAXGk",
    "outputId": "4aaad3e2-4696-4561-ac3b-79466dfbd290"
   },
   "outputs": [
    {
     "data": {
      "text/plain": [
       "[2, 3, 4, 5, 6, 7, 3, 4, 5, 6]"
      ]
     },
     "execution_count": 1,
     "metadata": {},
     "output_type": "execute_result"
    }
   ],
   "source": [
    "values = list(map(sum, pairs))\n",
    "values[:10]"
   ]
  },
  {
   "cell_type": "markdown",
   "metadata": {
    "id": "qMtWS1HjAXGl"
   },
   "source": [
    "Запишем соответствие между значениями случайной величины $Z$ и их вероятностями в виде таблицы:"
   ]
  },
  {
   "cell_type": "code",
   "execution_count": null,
   "metadata": {
    "execution": {
     "iopub.execute_input": "2021-02-13T12:53:41.835761Z",
     "iopub.status.busy": "2021-02-13T12:53:41.832518Z",
     "iopub.status.idle": "2021-02-13T12:53:42.108223Z",
     "shell.execute_reply": "2021-02-13T12:53:42.108922Z"
    },
    "id": "Jn8CbrDNAXGl"
   },
   "outputs": [],
   "source": [
    "import pandas as pd"
   ]
  },
  {
   "cell_type": "code",
   "execution_count": null,
   "metadata": {
    "execution": {
     "iopub.execute_input": "2021-02-13T12:53:42.114939Z",
     "iopub.status.busy": "2021-02-13T12:53:42.114229Z",
     "iopub.status.idle": "2021-02-13T12:53:42.122916Z",
     "shell.execute_reply": "2021-02-13T12:53:42.123586Z"
    },
    "id": "63C2zsbSAXGl",
    "outputId": "f3f64777-6d97-4079-909f-9275f2292b32"
   },
   "outputs": [
    {
     "data": {
      "text/html": [
       "<div>\n",
       "<style scoped>\n",
       "    .dataframe tbody tr th:only-of-type {\n",
       "        vertical-align: middle;\n",
       "    }\n",
       "\n",
       "    .dataframe tbody tr th {\n",
       "        vertical-align: top;\n",
       "    }\n",
       "\n",
       "    .dataframe thead th {\n",
       "        text-align: right;\n",
       "    }\n",
       "</style>\n",
       "<table border=\"1\" class=\"dataframe\">\n",
       "  <thead>\n",
       "    <tr style=\"text-align: right;\">\n",
       "      <th></th>\n",
       "      <th>value</th>\n",
       "      <th>probability</th>\n",
       "    </tr>\n",
       "  </thead>\n",
       "  <tbody>\n",
       "    <tr>\n",
       "      <th>0</th>\n",
       "      <td>2</td>\n",
       "      <td>0.027778</td>\n",
       "    </tr>\n",
       "    <tr>\n",
       "      <th>1</th>\n",
       "      <td>3</td>\n",
       "      <td>0.027778</td>\n",
       "    </tr>\n",
       "    <tr>\n",
       "      <th>2</th>\n",
       "      <td>4</td>\n",
       "      <td>0.027778</td>\n",
       "    </tr>\n",
       "    <tr>\n",
       "      <th>3</th>\n",
       "      <td>5</td>\n",
       "      <td>0.027778</td>\n",
       "    </tr>\n",
       "    <tr>\n",
       "      <th>4</th>\n",
       "      <td>6</td>\n",
       "      <td>0.027778</td>\n",
       "    </tr>\n",
       "    <tr>\n",
       "      <th>5</th>\n",
       "      <td>7</td>\n",
       "      <td>0.027778</td>\n",
       "    </tr>\n",
       "    <tr>\n",
       "      <th>6</th>\n",
       "      <td>3</td>\n",
       "      <td>0.027778</td>\n",
       "    </tr>\n",
       "    <tr>\n",
       "      <th>7</th>\n",
       "      <td>4</td>\n",
       "      <td>0.027778</td>\n",
       "    </tr>\n",
       "    <tr>\n",
       "      <th>8</th>\n",
       "      <td>5</td>\n",
       "      <td>0.027778</td>\n",
       "    </tr>\n",
       "    <tr>\n",
       "      <th>9</th>\n",
       "      <td>6</td>\n",
       "      <td>0.027778</td>\n",
       "    </tr>\n",
       "  </tbody>\n",
       "</table>\n",
       "</div>"
      ],
      "text/plain": [
       "   value  probability\n",
       "0      2     0.027778\n",
       "1      3     0.027778\n",
       "2      4     0.027778\n",
       "3      5     0.027778\n",
       "4      6     0.027778\n",
       "5      7     0.027778\n",
       "6      3     0.027778\n",
       "7      4     0.027778\n",
       "8      5     0.027778\n",
       "9      6     0.027778"
      ]
     },
     "execution_count": 1,
     "metadata": {},
     "output_type": "execute_result"
    }
   ],
   "source": [
    "z = pd.DataFrame({'value': values, 'probability': probabilities})\n",
    "z.head(10)"
   ]
  },
  {
   "cell_type": "markdown",
   "metadata": {
    "id": "9XTb9gBoAXGm"
   },
   "source": [
    "От закона распределения нас отделяет только одно замечание: в столбце `value` имеются повторяющиеся значения. Это связано с тем, что одно и то же значение может быть суммой разных чисел. Поэтому чтобы получить закон распределения, сгруппируем эту таблицу по значениям в столбце `value` и просуммируем соответствующие вероятности:"
   ]
  },
  {
   "cell_type": "code",
   "execution_count": null,
   "metadata": {
    "execution": {
     "iopub.execute_input": "2021-02-13T12:53:42.130888Z",
     "iopub.status.busy": "2021-02-13T12:53:42.130143Z",
     "iopub.status.idle": "2021-02-13T12:53:42.133533Z",
     "shell.execute_reply": "2021-02-13T12:53:42.134518Z"
    },
    "id": "zmQ8_IFaAXGm",
    "outputId": "f19e1d3b-82b7-4992-9115-69da2be82f2d"
   },
   "outputs": [
    {
     "data": {
      "text/plain": [
       "value\n",
       "2     0.027778\n",
       "3     0.055556\n",
       "4     0.083333\n",
       "5     0.111111\n",
       "6     0.138889\n",
       "7     0.166667\n",
       "8     0.138889\n",
       "9     0.111111\n",
       "10    0.083333\n",
       "11    0.055556\n",
       "12    0.027778\n",
       "Name: probability, dtype: float64"
      ]
     },
     "execution_count": 1,
     "metadata": {},
     "output_type": "execute_result"
    }
   ],
   "source": [
    "z_probabilities = z.groupby('value')['probability'].sum()\n",
    "\n",
    "z_probabilities"
   ]
  },
  {
   "cell_type": "code",
   "execution_count": null,
   "metadata": {
    "execution": {
     "iopub.execute_input": "2021-02-13T12:53:42.139842Z",
     "iopub.status.busy": "2021-02-13T12:53:42.139129Z",
     "iopub.status.idle": "2021-02-13T12:53:42.405964Z",
     "shell.execute_reply": "2021-02-13T12:53:42.406658Z"
    },
    "id": "AUUWV3HjAXGm"
   },
   "outputs": [],
   "source": [
    "from matplotlib import pyplot as plt\n",
    "plt.style.use('seaborn-whitegrid')\n",
    "%config InlineBackend.figure_formats = ['svg']"
   ]
  },
  {
   "cell_type": "code",
   "execution_count": null,
   "metadata": {
    "execution": {
     "iopub.execute_input": "2021-02-13T12:53:42.428448Z",
     "iopub.status.busy": "2021-02-13T12:53:42.427812Z",
     "iopub.status.idle": "2021-02-13T12:53:42.526783Z",
     "shell.execute_reply": "2021-02-13T12:53:42.527429Z"
    },
    "id": "K2edB8dNAXGn",
    "outputId": "86820b12-ae07-4207-c3df-c8cb85f82ae1"
   },
   "outputs": [
    {
     "data": {
      "text/plain": [
       "[<matplotlib.lines.Line2D at 0x1201475b0>]"
      ]
     },
     "execution_count": 1,
     "metadata": {},
     "output_type": "execute_result"
    },
    {
     "data": {
      "image/svg+xml": [
       "<?xml version=\"1.0\" encoding=\"utf-8\" standalone=\"no\"?>\n",
       "<!DOCTYPE svg PUBLIC \"-//W3C//DTD SVG 1.1//EN\"\n",
       "  \"http://www.w3.org/Graphics/SVG/1.1/DTD/svg11.dtd\">\n",
       "<!-- Created with matplotlib (https://matplotlib.org/) -->\n",
       "<svg height=\"244.485312pt\" version=\"1.1\" viewBox=\"0 0 372.160937 244.485312\" width=\"372.160937pt\" xmlns=\"http://www.w3.org/2000/svg\" xmlns:xlink=\"http://www.w3.org/1999/xlink\">\n",
       " <metadata>\n",
       "  <rdf:RDF xmlns:cc=\"http://creativecommons.org/ns#\" xmlns:dc=\"http://purl.org/dc/elements/1.1/\" xmlns:rdf=\"http://www.w3.org/1999/02/22-rdf-syntax-ns#\">\n",
       "   <cc:Work>\n",
       "    <dc:type rdf:resource=\"http://purl.org/dc/dcmitype/StillImage\"/>\n",
       "    <dc:date>2021-02-13T15:53:42.493966</dc:date>\n",
       "    <dc:format>image/svg+xml</dc:format>\n",
       "    <dc:creator>\n",
       "     <cc:Agent>\n",
       "      <dc:title>Matplotlib v3.3.3, https://matplotlib.org/</dc:title>\n",
       "     </cc:Agent>\n",
       "    </dc:creator>\n",
       "   </cc:Work>\n",
       "  </rdf:RDF>\n",
       " </metadata>\n",
       " <defs>\n",
       "  <style type=\"text/css\">*{stroke-linecap:butt;stroke-linejoin:round;}</style>\n",
       " </defs>\n",
       " <g id=\"figure_1\">\n",
       "  <g id=\"patch_1\">\n",
       "   <path d=\"M 0 244.485312 \n",
       "L 372.160937 244.485312 \n",
       "L 372.160937 0 \n",
       "L 0 0 \n",
       "z\n",
       "\" style=\"fill:#ffffff;\"/>\n",
       "  </g>\n",
       "  <g id=\"axes_1\">\n",
       "   <g id=\"patch_2\">\n",
       "    <path d=\"M 30.160938 224.64 \n",
       "L 364.960938 224.64 \n",
       "L 364.960938 7.2 \n",
       "L 30.160938 7.2 \n",
       "z\n",
       "\" style=\"fill:#ffffff;\"/>\n",
       "   </g>\n",
       "   <g id=\"matplotlib.axis_1\">\n",
       "    <g id=\"xtick_1\">\n",
       "     <g id=\"line2d_1\">\n",
       "      <path clip-path=\"url(#p52e6322e60)\" d=\"M 45.379119 224.64 \n",
       "L 45.379119 7.2 \n",
       "\" style=\"fill:none;stroke:#cccccc;stroke-linecap:round;stroke-width:0.8;\"/>\n",
       "     </g>\n",
       "     <g id=\"line2d_2\"/>\n",
       "     <g id=\"text_1\">\n",
       "      <!-- 2 -->\n",
       "      <g style=\"fill:#262626;\" transform=\"translate(42.598651 235.297812)scale(0.1 -0.1)\">\n",
       "       <defs>\n",
       "        <path d=\"M 50.34375 8.453125 \n",
       "L 50.34375 0 \n",
       "L 3.03125 0 \n",
       "Q 2.9375 3.171875 4.046875 6.109375 \n",
       "Q 5.859375 10.9375 9.828125 15.625 \n",
       "Q 13.8125 20.3125 21.34375 26.46875 \n",
       "Q 33.015625 36.03125 37.109375 41.625 \n",
       "Q 41.21875 47.21875 41.21875 52.203125 \n",
       "Q 41.21875 57.421875 37.46875 61 \n",
       "Q 33.734375 64.59375 27.734375 64.59375 \n",
       "Q 21.390625 64.59375 17.578125 60.78125 \n",
       "Q 13.765625 56.984375 13.71875 50.25 \n",
       "L 4.6875 51.171875 \n",
       "Q 5.609375 61.28125 11.65625 66.578125 \n",
       "Q 17.71875 71.875 27.9375 71.875 \n",
       "Q 38.234375 71.875 44.234375 66.15625 \n",
       "Q 50.25 60.453125 50.25 52 \n",
       "Q 50.25 47.703125 48.484375 43.546875 \n",
       "Q 46.734375 39.40625 42.65625 34.8125 \n",
       "Q 38.578125 30.21875 29.109375 22.21875 \n",
       "Q 21.1875 15.578125 18.9375 13.203125 \n",
       "Q 16.703125 10.84375 15.234375 8.453125 \n",
       "z\n",
       "\" id=\"ArialMT-50\"/>\n",
       "       </defs>\n",
       "       <use xlink:href=\"#ArialMT-50\"/>\n",
       "      </g>\n",
       "     </g>\n",
       "    </g>\n",
       "    <g id=\"xtick_2\">\n",
       "     <g id=\"line2d_3\">\n",
       "      <path clip-path=\"url(#p52e6322e60)\" d=\"M 106.251847 224.64 \n",
       "L 106.251847 7.2 \n",
       "\" style=\"fill:none;stroke:#cccccc;stroke-linecap:round;stroke-width:0.8;\"/>\n",
       "     </g>\n",
       "     <g id=\"line2d_4\"/>\n",
       "     <g id=\"text_2\">\n",
       "      <!-- 4 -->\n",
       "      <g style=\"fill:#262626;\" transform=\"translate(103.471378 235.297812)scale(0.1 -0.1)\">\n",
       "       <defs>\n",
       "        <path d=\"M 32.328125 0 \n",
       "L 32.328125 17.140625 \n",
       "L 1.265625 17.140625 \n",
       "L 1.265625 25.203125 \n",
       "L 33.9375 71.578125 \n",
       "L 41.109375 71.578125 \n",
       "L 41.109375 25.203125 \n",
       "L 50.78125 25.203125 \n",
       "L 50.78125 17.140625 \n",
       "L 41.109375 17.140625 \n",
       "L 41.109375 0 \n",
       "z\n",
       "M 32.328125 25.203125 \n",
       "L 32.328125 57.46875 \n",
       "L 9.90625 25.203125 \n",
       "z\n",
       "\" id=\"ArialMT-52\"/>\n",
       "       </defs>\n",
       "       <use xlink:href=\"#ArialMT-52\"/>\n",
       "      </g>\n",
       "     </g>\n",
       "    </g>\n",
       "    <g id=\"xtick_3\">\n",
       "     <g id=\"line2d_5\">\n",
       "      <path clip-path=\"url(#p52e6322e60)\" d=\"M 167.124574 224.64 \n",
       "L 167.124574 7.2 \n",
       "\" style=\"fill:none;stroke:#cccccc;stroke-linecap:round;stroke-width:0.8;\"/>\n",
       "     </g>\n",
       "     <g id=\"line2d_6\"/>\n",
       "     <g id=\"text_3\">\n",
       "      <!-- 6 -->\n",
       "      <g style=\"fill:#262626;\" transform=\"translate(164.344105 235.297812)scale(0.1 -0.1)\">\n",
       "       <defs>\n",
       "        <path d=\"M 49.75 54.046875 \n",
       "L 41.015625 53.375 \n",
       "Q 39.84375 58.546875 37.703125 60.890625 \n",
       "Q 34.125 64.65625 28.90625 64.65625 \n",
       "Q 24.703125 64.65625 21.53125 62.3125 \n",
       "Q 17.390625 59.28125 14.984375 53.46875 \n",
       "Q 12.59375 47.65625 12.5 36.921875 \n",
       "Q 15.671875 41.75 20.265625 44.09375 \n",
       "Q 24.859375 46.4375 29.890625 46.4375 \n",
       "Q 38.671875 46.4375 44.84375 39.96875 \n",
       "Q 51.03125 33.5 51.03125 23.25 \n",
       "Q 51.03125 16.5 48.125 10.71875 \n",
       "Q 45.21875 4.9375 40.140625 1.859375 \n",
       "Q 35.0625 -1.21875 28.609375 -1.21875 \n",
       "Q 17.625 -1.21875 10.6875 6.859375 \n",
       "Q 3.765625 14.9375 3.765625 33.5 \n",
       "Q 3.765625 54.25 11.421875 63.671875 \n",
       "Q 18.109375 71.875 29.4375 71.875 \n",
       "Q 37.890625 71.875 43.28125 67.140625 \n",
       "Q 48.6875 62.40625 49.75 54.046875 \n",
       "z\n",
       "M 13.875 23.1875 \n",
       "Q 13.875 18.65625 15.796875 14.5 \n",
       "Q 17.71875 10.359375 21.1875 8.171875 \n",
       "Q 24.65625 6 28.46875 6 \n",
       "Q 34.03125 6 38.03125 10.484375 \n",
       "Q 42.046875 14.984375 42.046875 22.703125 \n",
       "Q 42.046875 30.125 38.078125 34.390625 \n",
       "Q 34.125 38.671875 28.125 38.671875 \n",
       "Q 22.171875 38.671875 18.015625 34.390625 \n",
       "Q 13.875 30.125 13.875 23.1875 \n",
       "z\n",
       "\" id=\"ArialMT-54\"/>\n",
       "       </defs>\n",
       "       <use xlink:href=\"#ArialMT-54\"/>\n",
       "      </g>\n",
       "     </g>\n",
       "    </g>\n",
       "    <g id=\"xtick_4\">\n",
       "     <g id=\"line2d_7\">\n",
       "      <path clip-path=\"url(#p52e6322e60)\" d=\"M 227.997301 224.64 \n",
       "L 227.997301 7.2 \n",
       "\" style=\"fill:none;stroke:#cccccc;stroke-linecap:round;stroke-width:0.8;\"/>\n",
       "     </g>\n",
       "     <g id=\"line2d_8\"/>\n",
       "     <g id=\"text_4\">\n",
       "      <!-- 8 -->\n",
       "      <g style=\"fill:#262626;\" transform=\"translate(225.216832 235.297812)scale(0.1 -0.1)\">\n",
       "       <defs>\n",
       "        <path d=\"M 17.671875 38.8125 \n",
       "Q 12.203125 40.828125 9.5625 44.53125 \n",
       "Q 6.9375 48.25 6.9375 53.421875 \n",
       "Q 6.9375 61.234375 12.546875 66.546875 \n",
       "Q 18.171875 71.875 27.484375 71.875 \n",
       "Q 36.859375 71.875 42.578125 66.421875 \n",
       "Q 48.296875 60.984375 48.296875 53.171875 \n",
       "Q 48.296875 48.1875 45.671875 44.5 \n",
       "Q 43.0625 40.828125 37.75 38.8125 \n",
       "Q 44.34375 36.671875 47.78125 31.875 \n",
       "Q 51.21875 27.09375 51.21875 20.453125 \n",
       "Q 51.21875 11.28125 44.71875 5.03125 \n",
       "Q 38.234375 -1.21875 27.640625 -1.21875 \n",
       "Q 17.046875 -1.21875 10.546875 5.046875 \n",
       "Q 4.046875 11.328125 4.046875 20.703125 \n",
       "Q 4.046875 27.6875 7.59375 32.390625 \n",
       "Q 11.140625 37.109375 17.671875 38.8125 \n",
       "z\n",
       "M 15.921875 53.71875 \n",
       "Q 15.921875 48.640625 19.1875 45.40625 \n",
       "Q 22.46875 42.1875 27.6875 42.1875 \n",
       "Q 32.765625 42.1875 36.015625 45.375 \n",
       "Q 39.265625 48.578125 39.265625 53.21875 \n",
       "Q 39.265625 58.0625 35.90625 61.359375 \n",
       "Q 32.5625 64.65625 27.59375 64.65625 \n",
       "Q 22.5625 64.65625 19.234375 61.421875 \n",
       "Q 15.921875 58.203125 15.921875 53.71875 \n",
       "z\n",
       "M 13.09375 20.65625 \n",
       "Q 13.09375 16.890625 14.875 13.375 \n",
       "Q 16.65625 9.859375 20.171875 7.921875 \n",
       "Q 23.6875 6 27.734375 6 \n",
       "Q 34.03125 6 38.125 10.046875 \n",
       "Q 42.234375 14.109375 42.234375 20.359375 \n",
       "Q 42.234375 26.703125 38.015625 30.859375 \n",
       "Q 33.796875 35.015625 27.4375 35.015625 \n",
       "Q 21.234375 35.015625 17.15625 30.90625 \n",
       "Q 13.09375 26.8125 13.09375 20.65625 \n",
       "z\n",
       "\" id=\"ArialMT-56\"/>\n",
       "       </defs>\n",
       "       <use xlink:href=\"#ArialMT-56\"/>\n",
       "      </g>\n",
       "     </g>\n",
       "    </g>\n",
       "    <g id=\"xtick_5\">\n",
       "     <g id=\"line2d_9\">\n",
       "      <path clip-path=\"url(#p52e6322e60)\" d=\"M 288.870028 224.64 \n",
       "L 288.870028 7.2 \n",
       "\" style=\"fill:none;stroke:#cccccc;stroke-linecap:round;stroke-width:0.8;\"/>\n",
       "     </g>\n",
       "     <g id=\"line2d_10\"/>\n",
       "     <g id=\"text_5\">\n",
       "      <!-- 10 -->\n",
       "      <g style=\"fill:#262626;\" transform=\"translate(283.309091 235.297812)scale(0.1 -0.1)\">\n",
       "       <defs>\n",
       "        <path d=\"M 37.25 0 \n",
       "L 28.46875 0 \n",
       "L 28.46875 56 \n",
       "Q 25.296875 52.984375 20.140625 49.953125 \n",
       "Q 14.984375 46.921875 10.890625 45.40625 \n",
       "L 10.890625 53.90625 \n",
       "Q 18.265625 57.375 23.78125 62.296875 \n",
       "Q 29.296875 67.234375 31.59375 71.875 \n",
       "L 37.25 71.875 \n",
       "z\n",
       "\" id=\"ArialMT-49\"/>\n",
       "        <path d=\"M 4.15625 35.296875 \n",
       "Q 4.15625 48 6.765625 55.734375 \n",
       "Q 9.375 63.484375 14.515625 67.671875 \n",
       "Q 19.671875 71.875 27.484375 71.875 \n",
       "Q 33.25 71.875 37.59375 69.546875 \n",
       "Q 41.9375 67.234375 44.765625 62.859375 \n",
       "Q 47.609375 58.5 49.21875 52.21875 \n",
       "Q 50.828125 45.953125 50.828125 35.296875 \n",
       "Q 50.828125 22.703125 48.234375 14.96875 \n",
       "Q 45.65625 7.234375 40.5 3 \n",
       "Q 35.359375 -1.21875 27.484375 -1.21875 \n",
       "Q 17.140625 -1.21875 11.234375 6.203125 \n",
       "Q 4.15625 15.140625 4.15625 35.296875 \n",
       "z\n",
       "M 13.1875 35.296875 \n",
       "Q 13.1875 17.671875 17.3125 11.828125 \n",
       "Q 21.4375 6 27.484375 6 \n",
       "Q 33.546875 6 37.671875 11.859375 \n",
       "Q 41.796875 17.71875 41.796875 35.296875 \n",
       "Q 41.796875 52.984375 37.671875 58.78125 \n",
       "Q 33.546875 64.59375 27.390625 64.59375 \n",
       "Q 21.34375 64.59375 17.71875 59.46875 \n",
       "Q 13.1875 52.9375 13.1875 35.296875 \n",
       "z\n",
       "\" id=\"ArialMT-48\"/>\n",
       "       </defs>\n",
       "       <use xlink:href=\"#ArialMT-49\"/>\n",
       "       <use x=\"55.615234\" xlink:href=\"#ArialMT-48\"/>\n",
       "      </g>\n",
       "     </g>\n",
       "    </g>\n",
       "    <g id=\"xtick_6\">\n",
       "     <g id=\"line2d_11\">\n",
       "      <path clip-path=\"url(#p52e6322e60)\" d=\"M 349.742756 224.64 \n",
       "L 349.742756 7.2 \n",
       "\" style=\"fill:none;stroke:#cccccc;stroke-linecap:round;stroke-width:0.8;\"/>\n",
       "     </g>\n",
       "     <g id=\"line2d_12\"/>\n",
       "     <g id=\"text_6\">\n",
       "      <!-- 12 -->\n",
       "      <g style=\"fill:#262626;\" transform=\"translate(344.181818 235.297812)scale(0.1 -0.1)\">\n",
       "       <use xlink:href=\"#ArialMT-49\"/>\n",
       "       <use x=\"55.615234\" xlink:href=\"#ArialMT-50\"/>\n",
       "      </g>\n",
       "     </g>\n",
       "    </g>\n",
       "   </g>\n",
       "   <g id=\"matplotlib.axis_2\">\n",
       "    <g id=\"ytick_1\">\n",
       "     <g id=\"line2d_13\">\n",
       "      <path clip-path=\"url(#p52e6322e60)\" d=\"M 30.160938 197.361164 \n",
       "L 364.960938 197.361164 \n",
       "\" style=\"fill:none;stroke:#cccccc;stroke-linecap:round;stroke-width:0.8;\"/>\n",
       "     </g>\n",
       "     <g id=\"line2d_14\"/>\n",
       "     <g id=\"text_7\">\n",
       "      <!-- 0.04 -->\n",
       "      <g style=\"fill:#262626;\" transform=\"translate(7.2 200.94007)scale(0.1 -0.1)\">\n",
       "       <defs>\n",
       "        <path d=\"M 9.078125 0 \n",
       "L 9.078125 10.015625 \n",
       "L 19.09375 10.015625 \n",
       "L 19.09375 0 \n",
       "z\n",
       "\" id=\"ArialMT-46\"/>\n",
       "       </defs>\n",
       "       <use xlink:href=\"#ArialMT-48\"/>\n",
       "       <use x=\"55.615234\" xlink:href=\"#ArialMT-46\"/>\n",
       "       <use x=\"83.398438\" xlink:href=\"#ArialMT-48\"/>\n",
       "       <use x=\"139.013672\" xlink:href=\"#ArialMT-52\"/>\n",
       "      </g>\n",
       "     </g>\n",
       "    </g>\n",
       "    <g id=\"ytick_2\">\n",
       "     <g id=\"line2d_15\">\n",
       "      <path clip-path=\"url(#p52e6322e60)\" d=\"M 30.160938 168.896291 \n",
       "L 364.960938 168.896291 \n",
       "\" style=\"fill:none;stroke:#cccccc;stroke-linecap:round;stroke-width:0.8;\"/>\n",
       "     </g>\n",
       "     <g id=\"line2d_16\"/>\n",
       "     <g id=\"text_8\">\n",
       "      <!-- 0.06 -->\n",
       "      <g style=\"fill:#262626;\" transform=\"translate(7.2 172.475197)scale(0.1 -0.1)\">\n",
       "       <use xlink:href=\"#ArialMT-48\"/>\n",
       "       <use x=\"55.615234\" xlink:href=\"#ArialMT-46\"/>\n",
       "       <use x=\"83.398438\" xlink:href=\"#ArialMT-48\"/>\n",
       "       <use x=\"139.013672\" xlink:href=\"#ArialMT-54\"/>\n",
       "      </g>\n",
       "     </g>\n",
       "    </g>\n",
       "    <g id=\"ytick_3\">\n",
       "     <g id=\"line2d_17\">\n",
       "      <path clip-path=\"url(#p52e6322e60)\" d=\"M 30.160938 140.431418 \n",
       "L 364.960938 140.431418 \n",
       "\" style=\"fill:none;stroke:#cccccc;stroke-linecap:round;stroke-width:0.8;\"/>\n",
       "     </g>\n",
       "     <g id=\"line2d_18\"/>\n",
       "     <g id=\"text_9\">\n",
       "      <!-- 0.08 -->\n",
       "      <g style=\"fill:#262626;\" transform=\"translate(7.2 144.010324)scale(0.1 -0.1)\">\n",
       "       <use xlink:href=\"#ArialMT-48\"/>\n",
       "       <use x=\"55.615234\" xlink:href=\"#ArialMT-46\"/>\n",
       "       <use x=\"83.398438\" xlink:href=\"#ArialMT-48\"/>\n",
       "       <use x=\"139.013672\" xlink:href=\"#ArialMT-56\"/>\n",
       "      </g>\n",
       "     </g>\n",
       "    </g>\n",
       "    <g id=\"ytick_4\">\n",
       "     <g id=\"line2d_19\">\n",
       "      <path clip-path=\"url(#p52e6322e60)\" d=\"M 30.160938 111.966545 \n",
       "L 364.960938 111.966545 \n",
       "\" style=\"fill:none;stroke:#cccccc;stroke-linecap:round;stroke-width:0.8;\"/>\n",
       "     </g>\n",
       "     <g id=\"line2d_20\"/>\n",
       "     <g id=\"text_10\">\n",
       "      <!-- 0.10 -->\n",
       "      <g style=\"fill:#262626;\" transform=\"translate(7.2 115.545452)scale(0.1 -0.1)\">\n",
       "       <use xlink:href=\"#ArialMT-48\"/>\n",
       "       <use x=\"55.615234\" xlink:href=\"#ArialMT-46\"/>\n",
       "       <use x=\"83.398438\" xlink:href=\"#ArialMT-49\"/>\n",
       "       <use x=\"139.013672\" xlink:href=\"#ArialMT-48\"/>\n",
       "      </g>\n",
       "     </g>\n",
       "    </g>\n",
       "    <g id=\"ytick_5\">\n",
       "     <g id=\"line2d_21\">\n",
       "      <path clip-path=\"url(#p52e6322e60)\" d=\"M 30.160938 83.501673 \n",
       "L 364.960938 83.501673 \n",
       "\" style=\"fill:none;stroke:#cccccc;stroke-linecap:round;stroke-width:0.8;\"/>\n",
       "     </g>\n",
       "     <g id=\"line2d_22\"/>\n",
       "     <g id=\"text_11\">\n",
       "      <!-- 0.12 -->\n",
       "      <g style=\"fill:#262626;\" transform=\"translate(7.2 87.080579)scale(0.1 -0.1)\">\n",
       "       <use xlink:href=\"#ArialMT-48\"/>\n",
       "       <use x=\"55.615234\" xlink:href=\"#ArialMT-46\"/>\n",
       "       <use x=\"83.398438\" xlink:href=\"#ArialMT-49\"/>\n",
       "       <use x=\"139.013672\" xlink:href=\"#ArialMT-50\"/>\n",
       "      </g>\n",
       "     </g>\n",
       "    </g>\n",
       "    <g id=\"ytick_6\">\n",
       "     <g id=\"line2d_23\">\n",
       "      <path clip-path=\"url(#p52e6322e60)\" d=\"M 30.160938 55.0368 \n",
       "L 364.960938 55.0368 \n",
       "\" style=\"fill:none;stroke:#cccccc;stroke-linecap:round;stroke-width:0.8;\"/>\n",
       "     </g>\n",
       "     <g id=\"line2d_24\"/>\n",
       "     <g id=\"text_12\">\n",
       "      <!-- 0.14 -->\n",
       "      <g style=\"fill:#262626;\" transform=\"translate(7.2 58.615706)scale(0.1 -0.1)\">\n",
       "       <use xlink:href=\"#ArialMT-48\"/>\n",
       "       <use x=\"55.615234\" xlink:href=\"#ArialMT-46\"/>\n",
       "       <use x=\"83.398438\" xlink:href=\"#ArialMT-49\"/>\n",
       "       <use x=\"139.013672\" xlink:href=\"#ArialMT-52\"/>\n",
       "      </g>\n",
       "     </g>\n",
       "    </g>\n",
       "    <g id=\"ytick_7\">\n",
       "     <g id=\"line2d_25\">\n",
       "      <path clip-path=\"url(#p52e6322e60)\" d=\"M 30.160938 26.571927 \n",
       "L 364.960938 26.571927 \n",
       "\" style=\"fill:none;stroke:#cccccc;stroke-linecap:round;stroke-width:0.8;\"/>\n",
       "     </g>\n",
       "     <g id=\"line2d_26\"/>\n",
       "     <g id=\"text_13\">\n",
       "      <!-- 0.16 -->\n",
       "      <g style=\"fill:#262626;\" transform=\"translate(7.2 30.150834)scale(0.1 -0.1)\">\n",
       "       <use xlink:href=\"#ArialMT-48\"/>\n",
       "       <use x=\"55.615234\" xlink:href=\"#ArialMT-46\"/>\n",
       "       <use x=\"83.398438\" xlink:href=\"#ArialMT-49\"/>\n",
       "       <use x=\"139.013672\" xlink:href=\"#ArialMT-54\"/>\n",
       "      </g>\n",
       "     </g>\n",
       "    </g>\n",
       "   </g>\n",
       "   <g id=\"line2d_27\">\n",
       "    <path clip-path=\"url(#p52e6322e60)\" d=\"M 45.379119 214.756364 \n",
       "L 75.815483 175.221818 \n",
       "L 106.251847 135.687273 \n",
       "L 136.68821 96.152727 \n",
       "L 167.124574 56.618182 \n",
       "L 197.560938 17.083636 \n",
       "L 227.997301 56.618182 \n",
       "L 258.433665 96.152727 \n",
       "L 288.870028 135.687273 \n",
       "L 319.306392 175.221818 \n",
       "L 349.742756 214.756364 \n",
       "\" style=\"fill:none;stroke:#1f77b4;stroke-linecap:round;stroke-width:1.5;\"/>\n",
       "   </g>\n",
       "   <g id=\"patch_3\">\n",
       "    <path d=\"M 30.160938 224.64 \n",
       "L 30.160938 7.2 \n",
       "\" style=\"fill:none;stroke:#cccccc;stroke-linecap:square;stroke-linejoin:miter;\"/>\n",
       "   </g>\n",
       "   <g id=\"patch_4\">\n",
       "    <path d=\"M 364.960938 224.64 \n",
       "L 364.960938 7.2 \n",
       "\" style=\"fill:none;stroke:#cccccc;stroke-linecap:square;stroke-linejoin:miter;\"/>\n",
       "   </g>\n",
       "   <g id=\"patch_5\">\n",
       "    <path d=\"M 30.160938 224.64 \n",
       "L 364.960938 224.64 \n",
       "\" style=\"fill:none;stroke:#cccccc;stroke-linecap:square;stroke-linejoin:miter;\"/>\n",
       "   </g>\n",
       "   <g id=\"patch_6\">\n",
       "    <path d=\"M 30.160938 7.2 \n",
       "L 364.960938 7.2 \n",
       "\" style=\"fill:none;stroke:#cccccc;stroke-linecap:square;stroke-linejoin:miter;\"/>\n",
       "   </g>\n",
       "  </g>\n",
       " </g>\n",
       " <defs>\n",
       "  <clipPath id=\"p52e6322e60\">\n",
       "   <rect height=\"217.44\" width=\"334.8\" x=\"30.160938\" y=\"7.2\"/>\n",
       "  </clipPath>\n",
       " </defs>\n",
       "</svg>\n"
      ],
      "text/plain": [
       "<Figure size 432x288 with 1 Axes>"
      ]
     },
     "metadata": {},
     "output_type": "display_data"
    }
   ],
   "source": [
    "plt.plot(z_probabilities)"
   ]
  },
  {
   "cell_type": "markdown",
   "metadata": {
    "id": "ZazuiPLVAXGn"
   },
   "source": [
    "__Математическим ожиданием__ случайной величины $X$ называется среднее значение величины $X$ при стремлении количества испытаний к бесконечности. Обозначается $M(X)$.\n",
    "\n",
    "Если $X$ — дискретная случайная величина, принимающая значения $x_i$ с вероятностями $p_i = P(X = x_i)$, $i = 1,2, \\dots$, то\n",
    "    $$M(X) = \\displaystyle\\sum_i p_i x_i = p_1 x_1 + p_2 x_2 + \\dots$$"
   ]
  },
  {
   "cell_type": "markdown",
   "metadata": {
    "id": "tYNTn-ZhAXGn"
   },
   "source": [
    "__Пример 5__\n",
    "\n",
    "Посчитаем математическое ожидание случайной величины из примера 2."
   ]
  },
  {
   "cell_type": "code",
   "execution_count": null,
   "metadata": {
    "execution": {
     "iopub.execute_input": "2021-02-13T12:53:42.533324Z",
     "iopub.status.busy": "2021-02-13T12:53:42.531820Z",
     "iopub.status.idle": "2021-02-13T12:53:42.536201Z",
     "shell.execute_reply": "2021-02-13T12:53:42.537159Z"
    },
    "id": "yVsETpmIAXGn",
    "outputId": "5cf9835c-3221-439c-e58d-eda0d166c207"
   },
   "outputs": [
    {
     "name": "stdout",
     "output_type": "stream",
     "text": [
      "[ 2  3  4  5  6  7  8  9 10 11 12]\n"
     ]
    }
   ],
   "source": [
    "x_values = np.arange(2, 13)\n",
    "\n",
    "print(x_values)"
   ]
  },
  {
   "cell_type": "code",
   "execution_count": null,
   "metadata": {
    "execution": {
     "iopub.execute_input": "2021-02-13T12:53:42.544828Z",
     "iopub.status.busy": "2021-02-13T12:53:42.544065Z",
     "iopub.status.idle": "2021-02-13T12:53:42.546805Z",
     "shell.execute_reply": "2021-02-13T12:53:42.547346Z"
    },
    "id": "0D9lH-XCAXGo",
    "outputId": "fd972615-4a3a-42f4-c20e-d9c74f8c9ac8"
   },
   "outputs": [
    {
     "name": "stdout",
     "output_type": "stream",
     "text": [
      "[0.02777778 0.05555556 0.08333333 0.11111111 0.13888889 0.16666667\n",
      " 0.13888889 0.11111111 0.08333333 0.05555556 0.02777778]\n"
     ]
    }
   ],
   "source": [
    "x_probabilities = np.array([1, 2, 3, 4, 5, 6, 5, 4, 3, 2, 1]) / 36\n",
    "\n",
    "print(x_probabilities)"
   ]
  },
  {
   "cell_type": "markdown",
   "metadata": {
    "id": "NcTji3QaAXGo"
   },
   "source": [
    "Чтобы посчитать математическое ожидание, нужно поэлементно перемножить значения этих двух массивов (первый с первым, второй со вторым и т.д.), затем сложить результаты:"
   ]
  },
  {
   "cell_type": "code",
   "execution_count": null,
   "metadata": {
    "execution": {
     "iopub.execute_input": "2021-02-13T12:53:42.552286Z",
     "iopub.status.busy": "2021-02-13T12:53:42.551635Z",
     "iopub.status.idle": "2021-02-13T12:53:42.553776Z",
     "shell.execute_reply": "2021-02-13T12:53:42.554448Z"
    },
    "id": "lvHWcV9jAXGo",
    "outputId": "6b591e78-bf87-4800-e671-59bffedfb072"
   },
   "outputs": [
    {
     "name": "stdout",
     "output_type": "stream",
     "text": [
      "6.999999999999998\n"
     ]
    }
   ],
   "source": [
    "m = (x_values * x_probabilities).sum()\n",
    "\n",
    "print(m)"
   ]
  },
  {
   "cell_type": "markdown",
   "metadata": {
    "id": "LefLrfGLAXGo"
   },
   "source": [
    "__Дисперсией__ случайной величины $X$ называется математическое ожидание квадрата отклонения случайной величины от её математического ожидания:\n",
    "$$D(X) = M \\left( (X - M(X))^2 \\right).$$\n",
    "\n",
    "Дисперсия является мерой разброса случайной величины относительно её среднего значения. "
   ]
  },
  {
   "cell_type": "markdown",
   "metadata": {
    "id": "yDJX8U7zAXGo"
   },
   "source": [
    "__Пример 6__\n",
    "\n",
    "Посчитаем дисперсию случайной величины из примера 2. Её математическое ожидание мы уже считали, оно равно:"
   ]
  },
  {
   "cell_type": "code",
   "execution_count": null,
   "metadata": {
    "execution": {
     "iopub.execute_input": "2021-02-13T12:53:42.559747Z",
     "iopub.status.busy": "2021-02-13T12:53:42.558935Z",
     "iopub.status.idle": "2021-02-13T12:53:42.561569Z",
     "shell.execute_reply": "2021-02-13T12:53:42.562341Z"
    },
    "id": "b3SSJzh1AXGo",
    "outputId": "2566fde0-d187-4515-d090-1c5557ebf51d"
   },
   "outputs": [
    {
     "data": {
      "text/plain": [
       "7"
      ]
     },
     "execution_count": 1,
     "metadata": {},
     "output_type": "execute_result"
    }
   ],
   "source": [
    "m = 7\n",
    "m"
   ]
  },
  {
   "cell_type": "markdown",
   "metadata": {
    "id": "QvrlCIRqAXGp"
   },
   "source": [
    "Далее, определим случайную величину $Y = X - M(X)$. Она будет принимать значения:"
   ]
  },
  {
   "cell_type": "code",
   "execution_count": null,
   "metadata": {
    "execution": {
     "iopub.execute_input": "2021-02-13T12:53:42.567660Z",
     "iopub.status.busy": "2021-02-13T12:53:42.566790Z",
     "iopub.status.idle": "2021-02-13T12:53:42.569338Z",
     "shell.execute_reply": "2021-02-13T12:53:42.570140Z"
    },
    "id": "-rvB1bsvAXGp",
    "outputId": "eac0fdf8-0e92-46bd-effc-271a77cb2fa2"
   },
   "outputs": [
    {
     "name": "stdout",
     "output_type": "stream",
     "text": [
      "[-5 -4 -3 -2 -1  0  1  2  3  4  5]\n"
     ]
    }
   ],
   "source": [
    "y_values = x_values - m\n",
    "\n",
    "print(y_values)"
   ]
  },
  {
   "cell_type": "markdown",
   "metadata": {
    "id": "5OVY6b7uAXGp"
   },
   "source": [
    "Отметим, что распределения вероятностей у величины $Y$ такое же, что и у $X$.\n",
    "\n",
    "Далее, возведём эту величину в квадрат, тем самым получим новую случайную величину $Z$ со всё еще таким же распределением вероятностей:"
   ]
  },
  {
   "cell_type": "code",
   "execution_count": null,
   "metadata": {
    "execution": {
     "iopub.execute_input": "2021-02-13T12:53:42.575367Z",
     "iopub.status.busy": "2021-02-13T12:53:42.574565Z",
     "iopub.status.idle": "2021-02-13T12:53:42.576974Z",
     "shell.execute_reply": "2021-02-13T12:53:42.577722Z"
    },
    "id": "wmTlpv5KAXGp",
    "outputId": "bdeab7c3-f1ff-4397-b26f-af0b8d2d2940"
   },
   "outputs": [
    {
     "name": "stdout",
     "output_type": "stream",
     "text": [
      "[25 16  9  4  1  0  1  4  9 16 25]\n"
     ]
    }
   ],
   "source": [
    "z_values = y_values ** 2\n",
    "\n",
    "print(z_values)"
   ]
  },
  {
   "cell_type": "markdown",
   "metadata": {
    "id": "Z3KD0zXyAXGp"
   },
   "source": [
    "Итак, дисперсия случайной величины $X$ равна:"
   ]
  },
  {
   "cell_type": "code",
   "execution_count": null,
   "metadata": {
    "execution": {
     "iopub.execute_input": "2021-02-13T12:53:42.583444Z",
     "iopub.status.busy": "2021-02-13T12:53:42.582406Z",
     "iopub.status.idle": "2021-02-13T12:53:42.586242Z",
     "shell.execute_reply": "2021-02-13T12:53:42.587194Z"
    },
    "id": "jXE8EsgYAXGp",
    "outputId": "bbbae012-b6b7-42de-f3b8-4629cf3148b3"
   },
   "outputs": [
    {
     "name": "stdout",
     "output_type": "stream",
     "text": [
      "5.833333333333334\n"
     ]
    }
   ],
   "source": [
    "d = (z_values * x_probabilities).sum()\n",
    "\n",
    "print(d)"
   ]
  },
  {
   "cell_type": "markdown",
   "metadata": {
    "id": "E9YLUIGfAXGp"
   },
   "source": [
    "### Законы распределения случайных величин\n",
    "\n",
    "Пусть имеется некоторое событие $A$, которое наступает с вероятностью $p$. __Биномиальный закон__ описывает распределение случайной величины $X$, задающей число наступлений события $A$ в ходе проведения $n$ независимых опытов.\n",
    "\n",
    "Биномиальный закон распределения описывается __формулой Бернулли__:\n",
    "$$P(X = k) = C_n^k p^k (1 - p)^{n - k}$$"
   ]
  },
  {
   "cell_type": "markdown",
   "metadata": {
    "id": "9wfTP00YAXGq"
   },
   "source": [
    "__Пример 7__\n",
    "\n",
    "Доказать формулу Бернулли довольно легко, используя уже известные нам правила комбинаторики. То, что событие $A$ в результате проведения $n$ независимых опытов наступило $k$ раз означает, что $n - k$ раз наступило событие $\\overline{A}$. Вероятность наступления такого события равна $1 - p$. "
   ]
  },
  {
   "cell_type": "markdown",
   "metadata": {
    "id": "awAl1RKvAXGq"
   },
   "source": [
    "При этом наступить событие $A$ могло в любые $k$ «моментов» из $n$, поэтому число вариантов таких «моментов» равно $C_n^k$. Наконец, эксперименты проводились независимо, поэтому итоговая вероятность равна $C_n^k p^k (1 - p)^{n - k}$.\n",
    "\n",
    "Математическое ожидание и дисперсию для биномиально распределённой дискретной величины можно вычислить по формулам:\n",
    "$$M(X) = np, \\: D(X) = np(1 - p).$$"
   ]
  },
  {
   "cell_type": "markdown",
   "metadata": {
    "id": "Fu-0aZgdAXGq"
   },
   "source": [
    "__Пример 8__\n",
    "\n",
    "Посчитаем распределение числа выпаданий орла при трёхкратном подбрасывании монеты. Возможные значения такой случайной величины: $x_1 = 0$, $x_2 = 1$, $x_3 = 2$, $x_4 = 3$."
   ]
  },
  {
   "cell_type": "markdown",
   "metadata": {
    "id": "9OkXTvSTAXGq"
   },
   "source": [
    "Посчитаем вероятность каждого значения:\n",
    "$$P(X = 0) = C_n^k p^k (1 - p)^{n - k} = C_3^0 \\cdot 0.5^0 \\cdot 0.5^3 = \\frac{3!}{0! \\: (3-0)!} \\cdot 0.5^0 \\cdot 0.5^3 = 1 \\cdot 1 \\cdot 0.125 = 0.125.$$\n",
    "$$P(X = 1) = C_3^1 \\cdot 0.5^1 \\cdot 0.5^2 = \\frac{3!}{1! \\: 2!} \\cdot 0.5^1 \\cdot 0.5^2 = 3 \\cdot 0.5 \\cdot 0.25 = 0.375.$$\n",
    "$$P(X = 2) = C_3^2 \\cdot 0.5^2 \\cdot 0.5^1 = \\frac{3!}{2! \\: 1!} \\cdot 0.5^2 \\cdot 0.5^1 = 0.375.$$\n",
    "$$P(X = 3) = C_3^3 \\cdot 0.5^3 \\cdot 0.5^0 = \\frac{3!}{3! \\: 0!} \\cdot 0.5^3 \\cdot 0.5^0 = 0.125.$$"
   ]
  },
  {
   "cell_type": "markdown",
   "metadata": {
    "id": "T4mca5lXAXGq"
   },
   "source": [
    "Итак, закон распределения такой случайной величины:\n",
    "\n",
    "<table border=\"3\">\n",
    "    <tr>\n",
    "        <th>$x$</th>\n",
    "        <td>0</td>\n",
    "        <td>1</td>\n",
    "        <td>2</td>\n",
    "        <td>3</td>\n",
    "    </tr>\n",
    "    <tr>\n",
    "        <th>$P(X = x)$</th>\n",
    "        <td>0.125</td>\n",
    "        <td>0.375</td>\n",
    "        <td>0.375</td>\n",
    "        <td>0.125</td>\n",
    "    </tr>\n",
    "</table>"
   ]
  },
  {
   "cell_type": "code",
   "execution_count": null,
   "metadata": {
    "execution": {
     "iopub.execute_input": "2021-02-13T12:53:42.616779Z",
     "iopub.status.busy": "2021-02-13T12:53:42.616035Z",
     "iopub.status.idle": "2021-02-13T12:53:42.715547Z",
     "shell.execute_reply": "2021-02-13T12:53:42.716131Z"
    },
    "id": "kyYLWWjdAXGr",
    "outputId": "729f3726-c4af-482a-dfe4-8d3535a71c4b"
   },
   "outputs": [
    {
     "data": {
      "text/plain": [
       "[<matplotlib.lines.Line2D at 0x1201f9850>]"
      ]
     },
     "execution_count": 1,
     "metadata": {},
     "output_type": "execute_result"
    },
    {
     "data": {
      "image/svg+xml": [
       "<?xml version=\"1.0\" encoding=\"utf-8\" standalone=\"no\"?>\n",
       "<!DOCTYPE svg PUBLIC \"-//W3C//DTD SVG 1.1//EN\"\n",
       "  \"http://www.w3.org/Graphics/SVG/1.1/DTD/svg11.dtd\">\n",
       "<!-- Created with matplotlib (https://matplotlib.org/) -->\n",
       "<svg height=\"244.485312pt\" version=\"1.1\" viewBox=\"0 0 372.160937 244.485312\" width=\"372.160937pt\" xmlns=\"http://www.w3.org/2000/svg\" xmlns:xlink=\"http://www.w3.org/1999/xlink\">\n",
       " <metadata>\n",
       "  <rdf:RDF xmlns:cc=\"http://creativecommons.org/ns#\" xmlns:dc=\"http://purl.org/dc/elements/1.1/\" xmlns:rdf=\"http://www.w3.org/1999/02/22-rdf-syntax-ns#\">\n",
       "   <cc:Work>\n",
       "    <dc:type rdf:resource=\"http://purl.org/dc/dcmitype/StillImage\"/>\n",
       "    <dc:date>2021-02-13T15:53:42.685260</dc:date>\n",
       "    <dc:format>image/svg+xml</dc:format>\n",
       "    <dc:creator>\n",
       "     <cc:Agent>\n",
       "      <dc:title>Matplotlib v3.3.3, https://matplotlib.org/</dc:title>\n",
       "     </cc:Agent>\n",
       "    </dc:creator>\n",
       "   </cc:Work>\n",
       "  </rdf:RDF>\n",
       " </metadata>\n",
       " <defs>\n",
       "  <style type=\"text/css\">*{stroke-linecap:butt;stroke-linejoin:round;}</style>\n",
       " </defs>\n",
       " <g id=\"figure_1\">\n",
       "  <g id=\"patch_1\">\n",
       "   <path d=\"M 0 244.485312 \n",
       "L 372.160937 244.485312 \n",
       "L 372.160937 0 \n",
       "L 0 0 \n",
       "z\n",
       "\" style=\"fill:#ffffff;\"/>\n",
       "  </g>\n",
       "  <g id=\"axes_1\">\n",
       "   <g id=\"patch_2\">\n",
       "    <path d=\"M 30.160938 224.64 \n",
       "L 364.960938 224.64 \n",
       "L 364.960938 7.2 \n",
       "L 30.160938 7.2 \n",
       "z\n",
       "\" style=\"fill:#ffffff;\"/>\n",
       "   </g>\n",
       "   <g id=\"matplotlib.axis_1\">\n",
       "    <g id=\"xtick_1\">\n",
       "     <g id=\"line2d_1\">\n",
       "      <path clip-path=\"url(#pa0872bd17b)\" d=\"M 45.379119 224.64 \n",
       "L 45.379119 7.2 \n",
       "\" style=\"fill:none;stroke:#cccccc;stroke-linecap:round;stroke-width:0.8;\"/>\n",
       "     </g>\n",
       "     <g id=\"line2d_2\"/>\n",
       "     <g id=\"text_1\">\n",
       "      <!-- 0.0 -->\n",
       "      <g style=\"fill:#262626;\" transform=\"translate(38.429119 235.297812)scale(0.1 -0.1)\">\n",
       "       <defs>\n",
       "        <path d=\"M 4.15625 35.296875 \n",
       "Q 4.15625 48 6.765625 55.734375 \n",
       "Q 9.375 63.484375 14.515625 67.671875 \n",
       "Q 19.671875 71.875 27.484375 71.875 \n",
       "Q 33.25 71.875 37.59375 69.546875 \n",
       "Q 41.9375 67.234375 44.765625 62.859375 \n",
       "Q 47.609375 58.5 49.21875 52.21875 \n",
       "Q 50.828125 45.953125 50.828125 35.296875 \n",
       "Q 50.828125 22.703125 48.234375 14.96875 \n",
       "Q 45.65625 7.234375 40.5 3 \n",
       "Q 35.359375 -1.21875 27.484375 -1.21875 \n",
       "Q 17.140625 -1.21875 11.234375 6.203125 \n",
       "Q 4.15625 15.140625 4.15625 35.296875 \n",
       "z\n",
       "M 13.1875 35.296875 \n",
       "Q 13.1875 17.671875 17.3125 11.828125 \n",
       "Q 21.4375 6 27.484375 6 \n",
       "Q 33.546875 6 37.671875 11.859375 \n",
       "Q 41.796875 17.71875 41.796875 35.296875 \n",
       "Q 41.796875 52.984375 37.671875 58.78125 \n",
       "Q 33.546875 64.59375 27.390625 64.59375 \n",
       "Q 21.34375 64.59375 17.71875 59.46875 \n",
       "Q 13.1875 52.9375 13.1875 35.296875 \n",
       "z\n",
       "\" id=\"ArialMT-48\"/>\n",
       "        <path d=\"M 9.078125 0 \n",
       "L 9.078125 10.015625 \n",
       "L 19.09375 10.015625 \n",
       "L 19.09375 0 \n",
       "z\n",
       "\" id=\"ArialMT-46\"/>\n",
       "       </defs>\n",
       "       <use xlink:href=\"#ArialMT-48\"/>\n",
       "       <use x=\"55.615234\" xlink:href=\"#ArialMT-46\"/>\n",
       "       <use x=\"83.398438\" xlink:href=\"#ArialMT-48\"/>\n",
       "      </g>\n",
       "     </g>\n",
       "    </g>\n",
       "    <g id=\"xtick_2\">\n",
       "     <g id=\"line2d_3\">\n",
       "      <path clip-path=\"url(#pa0872bd17b)\" d=\"M 96.106392 224.64 \n",
       "L 96.106392 7.2 \n",
       "\" style=\"fill:none;stroke:#cccccc;stroke-linecap:round;stroke-width:0.8;\"/>\n",
       "     </g>\n",
       "     <g id=\"line2d_4\"/>\n",
       "     <g id=\"text_2\">\n",
       "      <!-- 0.5 -->\n",
       "      <g style=\"fill:#262626;\" transform=\"translate(89.156392 235.297812)scale(0.1 -0.1)\">\n",
       "       <defs>\n",
       "        <path d=\"M 4.15625 18.75 \n",
       "L 13.375 19.53125 \n",
       "Q 14.40625 12.796875 18.140625 9.390625 \n",
       "Q 21.875 6 27.15625 6 \n",
       "Q 33.5 6 37.890625 10.78125 \n",
       "Q 42.28125 15.578125 42.28125 23.484375 \n",
       "Q 42.28125 31 38.0625 35.34375 \n",
       "Q 33.84375 39.703125 27 39.703125 \n",
       "Q 22.75 39.703125 19.328125 37.765625 \n",
       "Q 15.921875 35.84375 13.96875 32.765625 \n",
       "L 5.71875 33.84375 \n",
       "L 12.640625 70.609375 \n",
       "L 48.25 70.609375 \n",
       "L 48.25 62.203125 \n",
       "L 19.671875 62.203125 \n",
       "L 15.828125 42.96875 \n",
       "Q 22.265625 47.46875 29.34375 47.46875 \n",
       "Q 38.71875 47.46875 45.15625 40.96875 \n",
       "Q 51.609375 34.46875 51.609375 24.265625 \n",
       "Q 51.609375 14.546875 45.953125 7.46875 \n",
       "Q 39.0625 -1.21875 27.15625 -1.21875 \n",
       "Q 17.390625 -1.21875 11.203125 4.25 \n",
       "Q 5.03125 9.71875 4.15625 18.75 \n",
       "z\n",
       "\" id=\"ArialMT-53\"/>\n",
       "       </defs>\n",
       "       <use xlink:href=\"#ArialMT-48\"/>\n",
       "       <use x=\"55.615234\" xlink:href=\"#ArialMT-46\"/>\n",
       "       <use x=\"83.398438\" xlink:href=\"#ArialMT-53\"/>\n",
       "      </g>\n",
       "     </g>\n",
       "    </g>\n",
       "    <g id=\"xtick_3\">\n",
       "     <g id=\"line2d_5\">\n",
       "      <path clip-path=\"url(#pa0872bd17b)\" d=\"M 146.833665 224.64 \n",
       "L 146.833665 7.2 \n",
       "\" style=\"fill:none;stroke:#cccccc;stroke-linecap:round;stroke-width:0.8;\"/>\n",
       "     </g>\n",
       "     <g id=\"line2d_6\"/>\n",
       "     <g id=\"text_3\">\n",
       "      <!-- 1.0 -->\n",
       "      <g style=\"fill:#262626;\" transform=\"translate(139.883665 235.297812)scale(0.1 -0.1)\">\n",
       "       <defs>\n",
       "        <path d=\"M 37.25 0 \n",
       "L 28.46875 0 \n",
       "L 28.46875 56 \n",
       "Q 25.296875 52.984375 20.140625 49.953125 \n",
       "Q 14.984375 46.921875 10.890625 45.40625 \n",
       "L 10.890625 53.90625 \n",
       "Q 18.265625 57.375 23.78125 62.296875 \n",
       "Q 29.296875 67.234375 31.59375 71.875 \n",
       "L 37.25 71.875 \n",
       "z\n",
       "\" id=\"ArialMT-49\"/>\n",
       "       </defs>\n",
       "       <use xlink:href=\"#ArialMT-49\"/>\n",
       "       <use x=\"55.615234\" xlink:href=\"#ArialMT-46\"/>\n",
       "       <use x=\"83.398438\" xlink:href=\"#ArialMT-48\"/>\n",
       "      </g>\n",
       "     </g>\n",
       "    </g>\n",
       "    <g id=\"xtick_4\">\n",
       "     <g id=\"line2d_7\">\n",
       "      <path clip-path=\"url(#pa0872bd17b)\" d=\"M 197.560938 224.64 \n",
       "L 197.560938 7.2 \n",
       "\" style=\"fill:none;stroke:#cccccc;stroke-linecap:round;stroke-width:0.8;\"/>\n",
       "     </g>\n",
       "     <g id=\"line2d_8\"/>\n",
       "     <g id=\"text_4\">\n",
       "      <!-- 1.5 -->\n",
       "      <g style=\"fill:#262626;\" transform=\"translate(190.610938 235.297812)scale(0.1 -0.1)\">\n",
       "       <use xlink:href=\"#ArialMT-49\"/>\n",
       "       <use x=\"55.615234\" xlink:href=\"#ArialMT-46\"/>\n",
       "       <use x=\"83.398438\" xlink:href=\"#ArialMT-53\"/>\n",
       "      </g>\n",
       "     </g>\n",
       "    </g>\n",
       "    <g id=\"xtick_5\">\n",
       "     <g id=\"line2d_9\">\n",
       "      <path clip-path=\"url(#pa0872bd17b)\" d=\"M 248.28821 224.64 \n",
       "L 248.28821 7.2 \n",
       "\" style=\"fill:none;stroke:#cccccc;stroke-linecap:round;stroke-width:0.8;\"/>\n",
       "     </g>\n",
       "     <g id=\"line2d_10\"/>\n",
       "     <g id=\"text_5\">\n",
       "      <!-- 2.0 -->\n",
       "      <g style=\"fill:#262626;\" transform=\"translate(241.33821 235.297812)scale(0.1 -0.1)\">\n",
       "       <defs>\n",
       "        <path d=\"M 50.34375 8.453125 \n",
       "L 50.34375 0 \n",
       "L 3.03125 0 \n",
       "Q 2.9375 3.171875 4.046875 6.109375 \n",
       "Q 5.859375 10.9375 9.828125 15.625 \n",
       "Q 13.8125 20.3125 21.34375 26.46875 \n",
       "Q 33.015625 36.03125 37.109375 41.625 \n",
       "Q 41.21875 47.21875 41.21875 52.203125 \n",
       "Q 41.21875 57.421875 37.46875 61 \n",
       "Q 33.734375 64.59375 27.734375 64.59375 \n",
       "Q 21.390625 64.59375 17.578125 60.78125 \n",
       "Q 13.765625 56.984375 13.71875 50.25 \n",
       "L 4.6875 51.171875 \n",
       "Q 5.609375 61.28125 11.65625 66.578125 \n",
       "Q 17.71875 71.875 27.9375 71.875 \n",
       "Q 38.234375 71.875 44.234375 66.15625 \n",
       "Q 50.25 60.453125 50.25 52 \n",
       "Q 50.25 47.703125 48.484375 43.546875 \n",
       "Q 46.734375 39.40625 42.65625 34.8125 \n",
       "Q 38.578125 30.21875 29.109375 22.21875 \n",
       "Q 21.1875 15.578125 18.9375 13.203125 \n",
       "Q 16.703125 10.84375 15.234375 8.453125 \n",
       "z\n",
       "\" id=\"ArialMT-50\"/>\n",
       "       </defs>\n",
       "       <use xlink:href=\"#ArialMT-50\"/>\n",
       "       <use x=\"55.615234\" xlink:href=\"#ArialMT-46\"/>\n",
       "       <use x=\"83.398438\" xlink:href=\"#ArialMT-48\"/>\n",
       "      </g>\n",
       "     </g>\n",
       "    </g>\n",
       "    <g id=\"xtick_6\">\n",
       "     <g id=\"line2d_11\">\n",
       "      <path clip-path=\"url(#pa0872bd17b)\" d=\"M 299.015483 224.64 \n",
       "L 299.015483 7.2 \n",
       "\" style=\"fill:none;stroke:#cccccc;stroke-linecap:round;stroke-width:0.8;\"/>\n",
       "     </g>\n",
       "     <g id=\"line2d_12\"/>\n",
       "     <g id=\"text_6\">\n",
       "      <!-- 2.5 -->\n",
       "      <g style=\"fill:#262626;\" transform=\"translate(292.065483 235.297812)scale(0.1 -0.1)\">\n",
       "       <use xlink:href=\"#ArialMT-50\"/>\n",
       "       <use x=\"55.615234\" xlink:href=\"#ArialMT-46\"/>\n",
       "       <use x=\"83.398438\" xlink:href=\"#ArialMT-53\"/>\n",
       "      </g>\n",
       "     </g>\n",
       "    </g>\n",
       "    <g id=\"xtick_7\">\n",
       "     <g id=\"line2d_13\">\n",
       "      <path clip-path=\"url(#pa0872bd17b)\" d=\"M 349.742756 224.64 \n",
       "L 349.742756 7.2 \n",
       "\" style=\"fill:none;stroke:#cccccc;stroke-linecap:round;stroke-width:0.8;\"/>\n",
       "     </g>\n",
       "     <g id=\"line2d_14\"/>\n",
       "     <g id=\"text_7\">\n",
       "      <!-- 3.0 -->\n",
       "      <g style=\"fill:#262626;\" transform=\"translate(342.792756 235.297812)scale(0.1 -0.1)\">\n",
       "       <defs>\n",
       "        <path d=\"M 4.203125 18.890625 \n",
       "L 12.984375 20.0625 \n",
       "Q 14.5 12.59375 18.140625 9.296875 \n",
       "Q 21.78125 6 27 6 \n",
       "Q 33.203125 6 37.46875 10.296875 \n",
       "Q 41.75 14.59375 41.75 20.953125 \n",
       "Q 41.75 27 37.796875 30.921875 \n",
       "Q 33.84375 34.859375 27.734375 34.859375 \n",
       "Q 25.25 34.859375 21.53125 33.890625 \n",
       "L 22.515625 41.609375 \n",
       "Q 23.390625 41.5 23.921875 41.5 \n",
       "Q 29.546875 41.5 34.03125 44.421875 \n",
       "Q 38.53125 47.359375 38.53125 53.46875 \n",
       "Q 38.53125 58.296875 35.25 61.46875 \n",
       "Q 31.984375 64.65625 26.8125 64.65625 \n",
       "Q 21.6875 64.65625 18.265625 61.421875 \n",
       "Q 14.84375 58.203125 13.875 51.765625 \n",
       "L 5.078125 53.328125 \n",
       "Q 6.6875 62.15625 12.390625 67.015625 \n",
       "Q 18.109375 71.875 26.609375 71.875 \n",
       "Q 32.46875 71.875 37.390625 69.359375 \n",
       "Q 42.328125 66.84375 44.9375 62.5 \n",
       "Q 47.5625 58.15625 47.5625 53.265625 \n",
       "Q 47.5625 48.640625 45.0625 44.828125 \n",
       "Q 42.578125 41.015625 37.703125 38.765625 \n",
       "Q 44.046875 37.3125 47.5625 32.6875 \n",
       "Q 51.078125 28.078125 51.078125 21.140625 \n",
       "Q 51.078125 11.765625 44.234375 5.25 \n",
       "Q 37.40625 -1.265625 26.953125 -1.265625 \n",
       "Q 17.53125 -1.265625 11.296875 4.34375 \n",
       "Q 5.078125 9.96875 4.203125 18.890625 \n",
       "z\n",
       "\" id=\"ArialMT-51\"/>\n",
       "       </defs>\n",
       "       <use xlink:href=\"#ArialMT-51\"/>\n",
       "       <use x=\"55.615234\" xlink:href=\"#ArialMT-46\"/>\n",
       "       <use x=\"83.398438\" xlink:href=\"#ArialMT-48\"/>\n",
       "      </g>\n",
       "     </g>\n",
       "    </g>\n",
       "   </g>\n",
       "   <g id=\"matplotlib.axis_2\">\n",
       "    <g id=\"ytick_1\">\n",
       "     <g id=\"line2d_15\">\n",
       "      <path clip-path=\"url(#pa0872bd17b)\" d=\"M 30.160938 194.989091 \n",
       "L 364.960938 194.989091 \n",
       "\" style=\"fill:none;stroke:#cccccc;stroke-linecap:round;stroke-width:0.8;\"/>\n",
       "     </g>\n",
       "     <g id=\"line2d_16\"/>\n",
       "     <g id=\"text_8\">\n",
       "      <!-- 0.15 -->\n",
       "      <g style=\"fill:#262626;\" transform=\"translate(7.2 198.567997)scale(0.1 -0.1)\">\n",
       "       <use xlink:href=\"#ArialMT-48\"/>\n",
       "       <use x=\"55.615234\" xlink:href=\"#ArialMT-46\"/>\n",
       "       <use x=\"83.398438\" xlink:href=\"#ArialMT-49\"/>\n",
       "       <use x=\"139.013672\" xlink:href=\"#ArialMT-53\"/>\n",
       "      </g>\n",
       "     </g>\n",
       "    </g>\n",
       "    <g id=\"ytick_2\">\n",
       "     <g id=\"line2d_17\">\n",
       "      <path clip-path=\"url(#pa0872bd17b)\" d=\"M 30.160938 155.454545 \n",
       "L 364.960938 155.454545 \n",
       "\" style=\"fill:none;stroke:#cccccc;stroke-linecap:round;stroke-width:0.8;\"/>\n",
       "     </g>\n",
       "     <g id=\"line2d_18\"/>\n",
       "     <g id=\"text_9\">\n",
       "      <!-- 0.20 -->\n",
       "      <g style=\"fill:#262626;\" transform=\"translate(7.2 159.033452)scale(0.1 -0.1)\">\n",
       "       <use xlink:href=\"#ArialMT-48\"/>\n",
       "       <use x=\"55.615234\" xlink:href=\"#ArialMT-46\"/>\n",
       "       <use x=\"83.398438\" xlink:href=\"#ArialMT-50\"/>\n",
       "       <use x=\"139.013672\" xlink:href=\"#ArialMT-48\"/>\n",
       "      </g>\n",
       "     </g>\n",
       "    </g>\n",
       "    <g id=\"ytick_3\">\n",
       "     <g id=\"line2d_19\">\n",
       "      <path clip-path=\"url(#pa0872bd17b)\" d=\"M 30.160938 115.92 \n",
       "L 364.960938 115.92 \n",
       "\" style=\"fill:none;stroke:#cccccc;stroke-linecap:round;stroke-width:0.8;\"/>\n",
       "     </g>\n",
       "     <g id=\"line2d_20\"/>\n",
       "     <g id=\"text_10\">\n",
       "      <!-- 0.25 -->\n",
       "      <g style=\"fill:#262626;\" transform=\"translate(7.2 119.498906)scale(0.1 -0.1)\">\n",
       "       <use xlink:href=\"#ArialMT-48\"/>\n",
       "       <use x=\"55.615234\" xlink:href=\"#ArialMT-46\"/>\n",
       "       <use x=\"83.398438\" xlink:href=\"#ArialMT-50\"/>\n",
       "       <use x=\"139.013672\" xlink:href=\"#ArialMT-53\"/>\n",
       "      </g>\n",
       "     </g>\n",
       "    </g>\n",
       "    <g id=\"ytick_4\">\n",
       "     <g id=\"line2d_21\">\n",
       "      <path clip-path=\"url(#pa0872bd17b)\" d=\"M 30.160938 76.385455 \n",
       "L 364.960938 76.385455 \n",
       "\" style=\"fill:none;stroke:#cccccc;stroke-linecap:round;stroke-width:0.8;\"/>\n",
       "     </g>\n",
       "     <g id=\"line2d_22\"/>\n",
       "     <g id=\"text_11\">\n",
       "      <!-- 0.30 -->\n",
       "      <g style=\"fill:#262626;\" transform=\"translate(7.2 79.964361)scale(0.1 -0.1)\">\n",
       "       <use xlink:href=\"#ArialMT-48\"/>\n",
       "       <use x=\"55.615234\" xlink:href=\"#ArialMT-46\"/>\n",
       "       <use x=\"83.398438\" xlink:href=\"#ArialMT-51\"/>\n",
       "       <use x=\"139.013672\" xlink:href=\"#ArialMT-48\"/>\n",
       "      </g>\n",
       "     </g>\n",
       "    </g>\n",
       "    <g id=\"ytick_5\">\n",
       "     <g id=\"line2d_23\">\n",
       "      <path clip-path=\"url(#pa0872bd17b)\" d=\"M 30.160938 36.850909 \n",
       "L 364.960938 36.850909 \n",
       "\" style=\"fill:none;stroke:#cccccc;stroke-linecap:round;stroke-width:0.8;\"/>\n",
       "     </g>\n",
       "     <g id=\"line2d_24\"/>\n",
       "     <g id=\"text_12\">\n",
       "      <!-- 0.35 -->\n",
       "      <g style=\"fill:#262626;\" transform=\"translate(7.2 40.429815)scale(0.1 -0.1)\">\n",
       "       <use xlink:href=\"#ArialMT-48\"/>\n",
       "       <use x=\"55.615234\" xlink:href=\"#ArialMT-46\"/>\n",
       "       <use x=\"83.398438\" xlink:href=\"#ArialMT-51\"/>\n",
       "       <use x=\"139.013672\" xlink:href=\"#ArialMT-53\"/>\n",
       "      </g>\n",
       "     </g>\n",
       "    </g>\n",
       "   </g>\n",
       "   <g id=\"line2d_25\">\n",
       "    <path clip-path=\"url(#pa0872bd17b)\" d=\"M 45.379119 214.756364 \n",
       "L 146.833665 17.083636 \n",
       "L 248.28821 17.083636 \n",
       "L 349.742756 214.756364 \n",
       "\" style=\"fill:none;stroke:#1f77b4;stroke-linecap:round;stroke-width:1.5;\"/>\n",
       "   </g>\n",
       "   <g id=\"patch_3\">\n",
       "    <path d=\"M 30.160938 224.64 \n",
       "L 30.160938 7.2 \n",
       "\" style=\"fill:none;stroke:#cccccc;stroke-linecap:square;stroke-linejoin:miter;\"/>\n",
       "   </g>\n",
       "   <g id=\"patch_4\">\n",
       "    <path d=\"M 364.960938 224.64 \n",
       "L 364.960938 7.2 \n",
       "\" style=\"fill:none;stroke:#cccccc;stroke-linecap:square;stroke-linejoin:miter;\"/>\n",
       "   </g>\n",
       "   <g id=\"patch_5\">\n",
       "    <path d=\"M 30.160938 224.64 \n",
       "L 364.960938 224.64 \n",
       "\" style=\"fill:none;stroke:#cccccc;stroke-linecap:square;stroke-linejoin:miter;\"/>\n",
       "   </g>\n",
       "   <g id=\"patch_6\">\n",
       "    <path d=\"M 30.160938 7.2 \n",
       "L 364.960938 7.2 \n",
       "\" style=\"fill:none;stroke:#cccccc;stroke-linecap:square;stroke-linejoin:miter;\"/>\n",
       "   </g>\n",
       "  </g>\n",
       " </g>\n",
       " <defs>\n",
       "  <clipPath id=\"pa0872bd17b\">\n",
       "   <rect height=\"217.44\" width=\"334.8\" x=\"30.160938\" y=\"7.2\"/>\n",
       "  </clipPath>\n",
       " </defs>\n",
       "</svg>\n"
      ],
      "text/plain": [
       "<Figure size 432x288 with 1 Axes>"
      ]
     },
     "metadata": {},
     "output_type": "display_data"
    }
   ],
   "source": [
    "plt.plot([1 / 8, 3 / 8, 3 / 8, 1 / 8])"
   ]
  },
  {
   "cell_type": "markdown",
   "metadata": {
    "id": "GgMpJp2TAXGr"
   },
   "source": [
    "__Пример 9__\n",
    "\n",
    "Посчитаем математическое ожидание распределения из предыдущего примера. Поскольку $n = 3$ и $p = 0.5$, получаем:\n",
    "$$M(X) = 3 \\cdot 0.5 = 1.5.$$\n",
    "\n",
    "Результат можно понимать так: в среднем при трёхкратном подбрасывании монеты орёл выпадает $1.5$ раза.\n",
    "\n",
    "Дисперсия такой величины:\n",
    "$$D(X) = 3 \\cdot 0.5 \\cdot (1 - 0.5) = 0.75.$$"
   ]
  },
  {
   "cell_type": "markdown",
   "metadata": {
    "id": "FlEbFjdkAXGr"
   },
   "source": [
    "__Распределение Пуассона__\n",
    "\n",
    "Допустим теперь, что имеется некоторый поток событий, такой, что в среднем за единицу времени событие наступает $\\lambda$ раз (т.е. с _интенсивностью_ $\\lambda$). Тогда случайная величина $X$, равная количеству наступлений события за единицу времени, имеет __распределение Пуассона__ с параметром $\\lambda$."
   ]
  },
  {
   "cell_type": "markdown",
   "metadata": {
    "id": "TPImlFUBAXGr"
   },
   "source": [
    "Случайная величина $X$ принимает значения $0, 1, 2, \\dots$ (счётное множество значений), а соответствующие вероятности выражаются __формулой Пуассона__:\n",
    "$$P(X = k) = \\dfrac{\\lambda^k e^{-\\lambda}}{k!}$$\n",
    "\n",
    "Здесь $\\lambda$ — положительное вещественное число."
   ]
  },
  {
   "cell_type": "markdown",
   "metadata": {
    "id": "kkcpJ9G9AXGr"
   },
   "source": [
    "Как мы уже отметили, распределение Пуассона описывает счётчики событий, наступивших за единицу времени. Например, распределение Пуассона описывает:\n",
    "* число бракованных деталей в партии фиксированного размера,\n",
    "* число опечаток в тексте фиксированного размера,\n",
    "* число автобусов, проехавших за фиксированное время мимо автобусной остановки.\n",
    "\n",
    "Математическое ожидание и дисперсия распределения Пуассона равны:\n",
    "$$M(X) = D(X) = \\lambda$$"
   ]
  },
  {
   "cell_type": "markdown",
   "metadata": {
    "id": "jXKaQFolAXGr"
   },
   "source": [
    "__Пример 10__\n",
    "\n",
    "В среднем за час мимо автобусной остановки проезжают 30 автобусов. Какова вероятность, что за час мимо остановки проедут: а) 30 автобусов? б) не более 15 автобусов? в) более 50 автобусов?\n",
    "\n",
    "Для решения первого пункта достаточно прямо применить формулу Пуассона:\n",
    "$$P(X = 30) = \\dfrac{30^{30} e^{-30}}{30!}$$"
   ]
  },
  {
   "cell_type": "code",
   "execution_count": null,
   "metadata": {
    "execution": {
     "iopub.execute_input": "2021-02-13T12:53:42.721424Z",
     "iopub.status.busy": "2021-02-13T12:53:42.720700Z",
     "iopub.status.idle": "2021-02-13T12:53:42.722304Z",
     "shell.execute_reply": "2021-02-13T12:53:42.722889Z"
    },
    "id": "vKOcyiKHAXGr"
   },
   "outputs": [],
   "source": [
    "def poisson_proba(k: int, lambda_: float) -> float:\n",
    "    \"\"\"Формула Пуассона.\n",
    "    \"\"\"\n",
    "    \n",
    "    return (lambda_ ** k) * (np.exp(-lambda_)) / np.math.factorial(k)"
   ]
  },
  {
   "cell_type": "code",
   "execution_count": null,
   "metadata": {
    "execution": {
     "iopub.execute_input": "2021-02-13T12:53:42.726285Z",
     "iopub.status.busy": "2021-02-13T12:53:42.725730Z",
     "iopub.status.idle": "2021-02-13T12:53:42.727459Z",
     "shell.execute_reply": "2021-02-13T12:53:42.728023Z"
    },
    "id": "QH39YychAXGs"
   },
   "outputs": [],
   "source": [
    "lambda_ = 30"
   ]
  },
  {
   "cell_type": "code",
   "execution_count": null,
   "metadata": {
    "execution": {
     "iopub.execute_input": "2021-02-13T12:53:42.732006Z",
     "iopub.status.busy": "2021-02-13T12:53:42.731269Z",
     "iopub.status.idle": "2021-02-13T12:53:42.733980Z",
     "shell.execute_reply": "2021-02-13T12:53:42.734631Z"
    },
    "id": "91FItk5GzdqS",
    "outputId": "8a82347b-b529-4f62-d0c1-a95ca84dedbb"
   },
   "outputs": [
    {
     "data": {
      "text/plain": [
       "0.07263452647159149"
      ]
     },
     "execution_count": 1,
     "metadata": {},
     "output_type": "execute_result"
    }
   ],
   "source": [
    "poisson_proba(k=30, lambda_=lambda_)"
   ]
  },
  {
   "cell_type": "markdown",
   "metadata": {
    "id": "KZTDxQAoAXGs"
   },
   "source": [
    "Для решения второго пункта нужно сложить несколько вероятностей. Вероятность получить не более 15 автобусов предполагает получение от 0 до 15 автобусов:\n",
    "$$P(X \\leq 15) = \\displaystyle\\sum_{i = 0}^{15} \\dfrac{30^{i} e^{-30}}{i!}$$"
   ]
  },
  {
   "cell_type": "code",
   "execution_count": null,
   "metadata": {
    "execution": {
     "iopub.execute_input": "2021-02-13T12:53:42.739558Z",
     "iopub.status.busy": "2021-02-13T12:53:42.738913Z",
     "iopub.status.idle": "2021-02-13T12:53:42.741502Z",
     "shell.execute_reply": "2021-02-13T12:53:42.742140Z"
    },
    "id": "xBrYbHHNAXGs",
    "outputId": "6c84a476-e4b1-4345-d011-7bc9c5b240d1"
   },
   "outputs": [
    {
     "data": {
      "text/plain": [
       "0.0019474797778723065"
      ]
     },
     "execution_count": 1,
     "metadata": {},
     "output_type": "execute_result"
    }
   ],
   "source": [
    "sum(poisson_proba(k=i, lambda_=lambda_) for i in range(16))"
   ]
  },
  {
   "cell_type": "markdown",
   "metadata": {
    "id": "fGc-JB7DAXGs"
   },
   "source": [
    "Последний пункт наиболее хитрый. Вероятность получить более 50 автобусов предполагает получение от 50... до скольки? В принципе число автобусов, проезжающих мимо автобусной остановки за час, не ограничено. Так что суммировать придётся до бесконечности, что невозможно.\n",
    "\n",
    "Пойдём другим способом. Мы знаем, что сумма вероятностей случайной величины всегда равна $1$. Значит, вероятность получить более 50 автобусов равна:\n",
    "$$P(X > 50) = 1 - P(X \\leq 50)$$"
   ]
  },
  {
   "cell_type": "code",
   "execution_count": null,
   "metadata": {
    "execution": {
     "iopub.execute_input": "2021-02-13T12:53:42.747105Z",
     "iopub.status.busy": "2021-02-13T12:53:42.746407Z",
     "iopub.status.idle": "2021-02-13T12:53:42.748870Z",
     "shell.execute_reply": "2021-02-13T12:53:42.749484Z"
    },
    "id": "T5K4HNeDAXGt",
    "outputId": "5a4da5ed-3147-418e-f936-b309eb6aabb8"
   },
   "outputs": [
    {
     "data": {
      "text/plain": [
       "0.0002980129818267452"
      ]
     },
     "execution_count": 1,
     "metadata": {},
     "output_type": "execute_result"
    }
   ],
   "source": [
    "1 - sum(poisson_proba(k=i, lambda_=lambda_) for i in range(51))"
   ]
  },
  {
   "cell_type": "markdown",
   "metadata": {
    "id": "O-xJW8gZAXGt"
   },
   "source": [
    "Распределение Пуассона является предельным случаем биномиального. Если в последнем имеется очень большое число экспериментов ($n \\rightarrow \\infty$), а вероятность наступления события $A$ достаточно мала (можно считать, что $p \\approx \\lambda/n$), то такое распределение становится очень похоже на распределение Пуассона с параметром $\\lambda = np$."
   ]
  },
  {
   "cell_type": "markdown",
   "metadata": {
    "id": "3Tce5bUmAXGt"
   },
   "source": [
    "__Другие дискретные распределения__\n",
    "\n",
    "* __Распределение Бернулли__. Событие $A$ наступает с вероятностью $p$. Индикатор наступления этого события, т.е.\n",
    "$$X = \\begin{cases} 1, & \\text{событие $A$ произошло,} \\\\ 0 & \\text{иначе,} \\end{cases}$$\n",
    "имеет распределение Бернулли. Вероятности:\n",
    "$$P(X = 1) = p, \\:\\: P(X = 0) = 1 - p$$\n",
    "_Замечание_. Биномиальное распределение с параметрами $n$, $p$ является суммой $n$ распределений Бернулли с параметром $p$."
   ]
  },
  {
   "cell_type": "markdown",
   "metadata": {
    "id": "1XlVji_4AXGt"
   },
   "source": [
    "* __Дискретное равномерное распределение__. Случайная величина $X$ принимает $n$ различных значений с одинаковой вероятностью $1/n$. Не путать с _непрерывным равномерным_."
   ]
  },
  {
   "cell_type": "markdown",
   "metadata": {
    "id": "Y8Za5rCJAXGt"
   },
   "source": [
    "* __Геометрическое распределение__. Событие $A$ наступает с вероятностью $p$. Случайная величина $X$, равная числу независимых испытаний до первого наступления события $A$, имеет геометрическое распределение. Вероятности:\n",
    "$$P(X = k) = (1 - p)^k \\cdot p$$"
   ]
  },
  {
   "cell_type": "code",
   "execution_count": null,
   "metadata": {
    "id": "DTo80YC_AXGt"
   },
   "outputs": [],
   "source": []
  }
 ],
 "metadata": {
  "colab": {
   "collapsed_sections": [
    "E9YLUIGfAXGp"
   ],
   "name": "Копия блокнота \"practice2.ipynb\"",
   "provenance": []
  },
  "kernelspec": {
   "display_name": "Python 3",
   "language": "python",
   "name": "python3"
  },
  "language_info": {
   "codemirror_mode": {
    "name": "ipython",
    "version": 3
   },
   "file_extension": ".py",
   "mimetype": "text/x-python",
   "name": "python",
   "nbconvert_exporter": "python",
   "pygments_lexer": "ipython3",
   "version": "3.8.8"
  }
 },
 "nbformat": 4,
 "nbformat_minor": 1
}
