{
 "cells": [
  {
   "cell_type": "markdown",
   "id": "e7c85f76",
   "metadata": {},
   "source": [
    "### Задачи 1 и 2\n",
    "Контрольная работа состоит из пяти вопросов. На каждый вопрос приведено четыре варианта ответа, один из которых правильный. Случайная величина X задаёт число правильных ответов при простом угадывании. Найдите математическое ожидание данной случайной величины. Найдите дисперсию случайной величины X.\n",
    "\n",
    "Подсказка: постройте закон распределения случайной величины X."
   ]
  },
  {
   "cell_type": "code",
   "execution_count": 93,
   "id": "32c155c1",
   "metadata": {},
   "outputs": [],
   "source": [
    "import numpy as np"
   ]
  },
  {
   "cell_type": "code",
   "execution_count": 59,
   "id": "5463c3be",
   "metadata": {},
   "outputs": [],
   "source": [
    "def combinations(n: int, k: int) -> int:\n",
    "    \"\"\"Число сочетаний.\n",
    "    \"\"\"\n",
    "    \n",
    "    return np.math.factorial(n) // (np.math.factorial(k) * np.math.factorial(n - k))"
   ]
  },
  {
   "cell_type": "code",
   "execution_count": 90,
   "id": "339fad72",
   "metadata": {},
   "outputs": [],
   "source": [
    "def bernuli(n,k,p):\n",
    "    return combinations(n,k)*(p**k)*(1-p)**(n-k)"
   ]
  },
  {
   "cell_type": "markdown",
   "id": "c72a714d",
   "metadata": {},
   "source": [
    "Таким образом наши случайные величины будут соответсвовать количеству верных ответов: $x_1 = 0$, $x_2 = 1$, $x_3 = 2$, $x_4 = 3$, $x_5 = 4$, $x_6 = 5$\n"
   ]
  },
  {
   "cell_type": "markdown",
   "id": "4c50376b",
   "metadata": {},
   "source": [
    "По формуле Бернули найдем вероятности для каждого исхода."
   ]
  },
  {
   "cell_type": "code",
   "execution_count": 91,
   "id": "a602d0fd",
   "metadata": {},
   "outputs": [
    {
     "name": "stdout",
     "output_type": "stream",
     "text": [
      "Вероятность 0 из 5 верных ответов, 0.2373046875\n",
      "Вероятность 1 из 5 верных ответов, 0.3955078125\n",
      "Вероятность 2 из 5 верных ответов, 0.263671875\n",
      "Вероятность 3 из 5 верных ответов, 0.087890625\n",
      "Вероятность 4 из 5 верных ответов, 0.0146484375\n",
      "Вероятность 5 из 5 верных ответов, 0.0009765625\n"
     ]
    }
   ],
   "source": [
    "for i in range(6):\n",
    "    print(f\"Вероятность {i} из 5 верных ответов, {bernuli(5,i,0.25)}\")"
   ]
  },
  {
   "cell_type": "markdown",
   "id": "4424111f",
   "metadata": {},
   "source": [
    "Находим мат. ожидание по формуле мат. ожидания биноминального распределения: M(X) = np"
   ]
  },
  {
   "cell_type": "code",
   "execution_count": 86,
   "id": "3eddf932",
   "metadata": {},
   "outputs": [
    {
     "data": {
      "text/plain": [
       "1.25"
      ]
     },
     "execution_count": 86,
     "metadata": {},
     "output_type": "execute_result"
    }
   ],
   "source": [
    "MX = 5*0.25\n",
    "MX"
   ]
  },
  {
   "cell_type": "markdown",
   "id": "c6bed5b3",
   "metadata": {},
   "source": [
    "Т.е. при случайном выборе ответов, мы ожидаем получить 1.25 верных."
   ]
  },
  {
   "cell_type": "markdown",
   "id": "88b3db33",
   "metadata": {},
   "source": [
    "Далее ищем дисперсию по формуле дисперсии биноминального распределения D(X) = np(1-p)"
   ]
  },
  {
   "cell_type": "code",
   "execution_count": 87,
   "id": "34438d46",
   "metadata": {},
   "outputs": [
    {
     "data": {
      "text/plain": [
       "0.9375"
      ]
     },
     "execution_count": 87,
     "metadata": {},
     "output_type": "execute_result"
    }
   ],
   "source": [
    "DX = 1.25*(1-0.25)\n",
    "DX"
   ]
  },
  {
   "cell_type": "markdown",
   "id": "0e42e430",
   "metadata": {},
   "source": [
    "#### Ответ: Мат ожидание = 1.25, Дисперсия = 0.9375"
   ]
  },
  {
   "cell_type": "markdown",
   "id": "361ab25e",
   "metadata": {},
   "source": [
    "*Тоже самое, если посчитать, как просто распределение случайной величины."
   ]
  },
  {
   "cell_type": "code",
   "execution_count": 97,
   "id": "afbe9074",
   "metadata": {},
   "outputs": [
    {
     "data": {
      "text/plain": [
       "array([0.23730469, 0.39550781, 0.26367188, 0.08789062, 0.01464844,\n",
       "       0.00097656])"
      ]
     },
     "execution_count": 97,
     "metadata": {},
     "output_type": "execute_result"
    }
   ],
   "source": [
    "vars = np.array([bernuli(5,i,0.25) for i in range(6)]) #Вероятности исходов\n",
    "vars"
   ]
  },
  {
   "cell_type": "code",
   "execution_count": 99,
   "id": "194d67cb",
   "metadata": {},
   "outputs": [
    {
     "data": {
      "text/plain": [
       "array([0, 1, 2, 3, 4, 5])"
      ]
     },
     "execution_count": 99,
     "metadata": {},
     "output_type": "execute_result"
    }
   ],
   "source": [
    "x = np.array([i for i in range(6)])  # Исходы\n",
    "x"
   ]
  },
  {
   "cell_type": "code",
   "execution_count": 101,
   "id": "6152004c",
   "metadata": {},
   "outputs": [
    {
     "data": {
      "text/plain": [
       "1.25"
      ]
     },
     "execution_count": 101,
     "metadata": {},
     "output_type": "execute_result"
    }
   ],
   "source": [
    "M = (vars*x).sum() #Мат ожидание\n",
    "M"
   ]
  },
  {
   "cell_type": "code",
   "execution_count": 103,
   "id": "c82e504a",
   "metadata": {},
   "outputs": [
    {
     "data": {
      "text/plain": [
       "array([ 1.5625,  0.0625,  0.5625,  3.0625,  7.5625, 14.0625])"
      ]
     },
     "execution_count": 103,
     "metadata": {},
     "output_type": "execute_result"
    }
   ],
   "source": [
    "xstd = (x - M) **2 #Квадрат откл от мат ожидания\n",
    "xstd"
   ]
  },
  {
   "cell_type": "code",
   "execution_count": 105,
   "id": "b706e177",
   "metadata": {},
   "outputs": [
    {
     "data": {
      "text/plain": [
       "0.9375"
      ]
     },
     "execution_count": 105,
     "metadata": {},
     "output_type": "execute_result"
    }
   ],
   "source": [
    "D = (xstd*vars).sum()\n",
    "D"
   ]
  },
  {
   "cell_type": "code",
   "execution_count": null,
   "id": "6c749c4a",
   "metadata": {},
   "outputs": [],
   "source": []
  }
 ],
 "metadata": {
  "kernelspec": {
   "display_name": "Python 3",
   "language": "python",
   "name": "python3"
  },
  "language_info": {
   "codemirror_mode": {
    "name": "ipython",
    "version": 3
   },
   "file_extension": ".py",
   "mimetype": "text/x-python",
   "name": "python",
   "nbconvert_exporter": "python",
   "pygments_lexer": "ipython3",
   "version": "3.8.8"
  }
 },
 "nbformat": 4,
 "nbformat_minor": 5
}
