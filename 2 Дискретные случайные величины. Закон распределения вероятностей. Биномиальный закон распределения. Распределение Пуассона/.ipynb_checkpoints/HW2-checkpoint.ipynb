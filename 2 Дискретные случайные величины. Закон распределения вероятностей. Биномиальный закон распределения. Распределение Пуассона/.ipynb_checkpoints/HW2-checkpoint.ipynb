{
 "cells": [
  {
   "cell_type": "markdown",
   "id": "c7ab4c1e",
   "metadata": {},
   "source": [
    "### Задачи 1 и 2\n",
    "Контрольная работа состоит из пяти вопросов. На каждый вопрос приведено четыре варианта ответа, один из которых правильный. Случайная величина X задаёт число правильных ответов при простом угадывании. Найдите математическое ожидание данной случайной величины. Найдите дисперсию случайной величины X.\n",
    "\n",
    "Подсказка: постройте закон распределения случайной величины X."
   ]
  },
  {
   "cell_type": "code",
   "execution_count": 93,
   "id": "6c8b6c86",
   "metadata": {},
   "outputs": [],
   "source": [
    "import numpy as np"
   ]
  },
  {
   "cell_type": "code",
   "execution_count": 59,
   "id": "41b37cfc",
   "metadata": {},
   "outputs": [],
   "source": [
    "def combinations(n: int, k: int) -> int:\n",
    "    \"\"\"Число сочетаний.\n",
    "    \"\"\"\n",
    "    \n",
    "    return np.math.factorial(n) // (np.math.factorial(k) * np.math.factorial(n - k))"
   ]
  },
  {
   "cell_type": "code",
   "execution_count": 90,
   "id": "8f5e75b4",
   "metadata": {},
   "outputs": [],
   "source": [
    "def bernuli(n,k,p):\n",
    "    return combinations(n,k)*(p**k)*(1-p)**(n-k)"
   ]
  },
  {
   "cell_type": "markdown",
   "id": "524ffd3a",
   "metadata": {},
   "source": [
    "Таким образом наши случайные величины будут соответсвовать количеству верных ответов: $x_1 = 0$, $x_2 = 1$, $x_3 = 2$, $x_4 = 3$, $x_5 = 4$, $x_6 = 5$\n"
   ]
  },
  {
   "cell_type": "markdown",
   "id": "ea1b872e",
   "metadata": {},
   "source": [
    "По формуле Бернули найдем вероятности для каждого исхода."
   ]
  },
  {
   "cell_type": "code",
   "execution_count": 91,
   "id": "e673102a",
   "metadata": {},
   "outputs": [
    {
     "name": "stdout",
     "output_type": "stream",
     "text": [
      "Вероятность 0 из 5 верных ответов, 0.2373046875\n",
      "Вероятность 1 из 5 верных ответов, 0.3955078125\n",
      "Вероятность 2 из 5 верных ответов, 0.263671875\n",
      "Вероятность 3 из 5 верных ответов, 0.087890625\n",
      "Вероятность 4 из 5 верных ответов, 0.0146484375\n",
      "Вероятность 5 из 5 верных ответов, 0.0009765625\n"
     ]
    }
   ],
   "source": [
    "for i in range(6):\n",
    "    print(f\"Вероятность {i} из 5 верных ответов, {bernuli(5,i,0.25)}\")"
   ]
  },
  {
   "cell_type": "markdown",
   "id": "5c1ac93f",
   "metadata": {},
   "source": [
    "Находим мат. ожидание по формуле мат. ожидания биноминального распределения: M(X) = np"
   ]
  },
  {
   "cell_type": "code",
   "execution_count": 86,
   "id": "d21ae846",
   "metadata": {},
   "outputs": [
    {
     "data": {
      "text/plain": [
       "1.25"
      ]
     },
     "execution_count": 86,
     "metadata": {},
     "output_type": "execute_result"
    }
   ],
   "source": [
    "MX = 5*0.25\n",
    "MX"
   ]
  },
  {
   "cell_type": "markdown",
   "id": "b55085cf",
   "metadata": {},
   "source": [
    "Т.е. при случайном выборе ответов, мы ожидаем получить 1.25 верных."
   ]
  },
  {
   "cell_type": "markdown",
   "id": "5f4d850e",
   "metadata": {},
   "source": [
    "Далее ищем дисперсию по формуле дисперсии биноминального распределения D(X) = np(1-p)"
   ]
  },
  {
   "cell_type": "code",
   "execution_count": 87,
   "id": "bf06ba3d",
   "metadata": {},
   "outputs": [
    {
     "data": {
      "text/plain": [
       "0.9375"
      ]
     },
     "execution_count": 87,
     "metadata": {},
     "output_type": "execute_result"
    }
   ],
   "source": [
    "DX = 1.25*(1-0.25)\n",
    "DX"
   ]
  },
  {
   "cell_type": "markdown",
   "id": "b4a49a54",
   "metadata": {},
   "source": [
    "#### Ответ: Мат ожидание = 1.25, Дисперсия = 0.9375"
   ]
  },
  {
   "cell_type": "markdown",
   "id": "b4958104",
   "metadata": {},
   "source": [
    "*Тоже самое, если посчитать, как просто распределение случайной величины."
   ]
  },
  {
   "cell_type": "code",
   "execution_count": 97,
   "id": "390393cb",
   "metadata": {},
   "outputs": [
    {
     "data": {
      "text/plain": [
       "array([0.23730469, 0.39550781, 0.26367188, 0.08789062, 0.01464844,\n",
       "       0.00097656])"
      ]
     },
     "execution_count": 97,
     "metadata": {},
     "output_type": "execute_result"
    }
   ],
   "source": [
    "vars = np.array([bernuli(5,i,0.25) for i in range(6)]) #Вероятности исходов\n",
    "vars"
   ]
  },
  {
   "cell_type": "code",
   "execution_count": 99,
   "id": "0a8e200c",
   "metadata": {},
   "outputs": [
    {
     "data": {
      "text/plain": [
       "array([0, 1, 2, 3, 4, 5])"
      ]
     },
     "execution_count": 99,
     "metadata": {},
     "output_type": "execute_result"
    }
   ],
   "source": [
    "x = np.array([i for i in range(6)])  # Исходы\n",
    "x"
   ]
  },
  {
   "cell_type": "code",
   "execution_count": 101,
   "id": "6ad33b68",
   "metadata": {},
   "outputs": [
    {
     "data": {
      "text/plain": [
       "1.25"
      ]
     },
     "execution_count": 101,
     "metadata": {},
     "output_type": "execute_result"
    }
   ],
   "source": [
    "M = (vars*x).sum() #Мат ожидание\n",
    "M"
   ]
  },
  {
   "cell_type": "code",
   "execution_count": 103,
   "id": "b446f33f",
   "metadata": {},
   "outputs": [
    {
     "data": {
      "text/plain": [
       "array([ 1.5625,  0.0625,  0.5625,  3.0625,  7.5625, 14.0625])"
      ]
     },
     "execution_count": 103,
     "metadata": {},
     "output_type": "execute_result"
    }
   ],
   "source": [
    "xstd = (x - M)**2 #Квадрат откл от мат ожидания\n",
    "xstd"
   ]
  },
  {
   "cell_type": "code",
   "execution_count": 105,
   "id": "bb119420",
   "metadata": {},
   "outputs": [
    {
     "data": {
      "text/plain": [
       "0.9375"
      ]
     },
     "execution_count": 105,
     "metadata": {},
     "output_type": "execute_result"
    }
   ],
   "source": [
    "D = (xstd*vars).sum() #Дисперсия\n",
    "D"
   ]
  },
  {
   "cell_type": "markdown",
   "id": "db5ed540",
   "metadata": {},
   "source": [
    "### Задача 3\n",
    "Пользователь получает в среднем 10 писем со спамом на свой почтовый ящик за сутки. Найти число N, такое, что с вероятностью 0.95 пользователь получит не более N писем со спамом за текущий день."
   ]
  },
  {
   "cell_type": "code",
   "execution_count": 106,
   "id": "b771e58b",
   "metadata": {},
   "outputs": [],
   "source": [
    "def poisson_proba(k: int, lambda_: float) -> float:\n",
    "    \"\"\"Формула Пуассона.\n",
    "    \"\"\"\n",
    "    \n",
    "    return (lambda_ ** k) * (np.exp(-lambda_)) / np.math.factorial(k)"
   ]
  },
  {
   "cell_type": "markdown",
   "id": "43479932",
   "metadata": {},
   "source": [
    "У нас получается, что $P(X \\leq N) = \\displaystyle\\sum_{i = 0}^{N} \\dfrac{10^{i} e^{-10}}{i!} = 0.95$"
   ]
  },
  {
   "cell_type": "markdown",
   "id": "3ca97403",
   "metadata": {},
   "source": [
    "Вероятно как-то можно выразить N из формулы, но я не осилил, потому, просто написал код для итеративного решения."
   ]
  },
  {
   "cell_type": "code",
   "execution_count": 108,
   "id": "8c47dae8",
   "metadata": {},
   "outputs": [],
   "source": [
    "lambda_ = 10"
   ]
  },
  {
   "cell_type": "code",
   "execution_count": 125,
   "id": "df10695f",
   "metadata": {},
   "outputs": [
    {
     "name": "stdout",
     "output_type": "stream",
     "text": [
      "16\n"
     ]
    }
   ],
   "source": [
    "j=0\n",
    "while sum(poisson_proba(k=i, lambda_=lambda_) for i in range(j)) < 0.95:\n",
    "    j+=1\n",
    "print(j)"
   ]
  },
  {
   "cell_type": "code",
   "execution_count": 124,
   "id": "8ad59091",
   "metadata": {},
   "outputs": [
    {
     "data": {
      "text/plain": [
       "0.9512595966960214"
      ]
     },
     "execution_count": 124,
     "metadata": {},
     "output_type": "execute_result"
    }
   ],
   "source": [
    "sum(poisson_proba(k=i, lambda_=lambda_) for i in range(16))"
   ]
  },
  {
   "cell_type": "markdown",
   "id": "3c505674",
   "metadata": {},
   "source": [
    "#### Ответ: N = 15"
   ]
  },
  {
   "cell_type": "markdown",
   "id": "24e72625",
   "metadata": {},
   "source": [
    "### Задача 4\n",
    "Производятся выстрелы по мишени. Вероятность попадания в мишень при одном выстреле равна 0.01. Сколько выстрелов нужно сделать чтобы быть уверенным с вероятностью 0.9, что хотя бы 6 раз будет совершено попадание?\n",
    "\n",
    "Подсказка: 1) \"Вероятность попасть k раз при n выстрелах\" - на какое распределение это похоже? 2) А если нам нужна вероятность P(X >= k), а не P(X = k)? 3) Здесь предстоит немножко покодить."
   ]
  },
  {
   "cell_type": "markdown",
   "id": "75284f80",
   "metadata": {},
   "source": [
    "Будем отталкиваться от биноминального распределения. Допустим делаем первые 6 выстрелов считаем по формуле Бернули вероятность попадания всех 6 раз, это возможный минимум, т.е. есть вероятность с первого раза попасть все 6 раз. И так стрельнули 6 раз, посмотрели, вероятность больше или равно 0.9? Стрельнули еще раз, сложили вероятности, посмотрели, > 0.9 или нет? Нет, еще раз стрельнули и еще раз сложили. И вот когда вероятность будет >= 0.9 тогда произведенное количество выстрелов будет ответом."
   ]
  }
 ],
 "metadata": {
  "kernelspec": {
   "display_name": "Python 3",
   "language": "python",
   "name": "python3"
  },
  "language_info": {
   "codemirror_mode": {
    "name": "ipython",
    "version": 3
   },
   "file_extension": ".py",
   "mimetype": "text/x-python",
   "name": "python",
   "nbconvert_exporter": "python",
   "pygments_lexer": "ipython3",
   "version": "3.8.8"
  }
 },
 "nbformat": 4,
 "nbformat_minor": 5
}
