{
 "cells": [
  {
   "cell_type": "markdown",
   "metadata": {
    "id": "PmkSkDnHJEm6"
   },
   "source": [
    "# Теория вероятностей и математическая статистика\n",
    "\n",
    "## Урок 1\n",
    "\n",
    "## Случайные события. Вероятность события. Условная вероятность. Формула Байеса\n",
    "\n",
    "### Разбор домашнего задания"
   ]
  },
  {
   "cell_type": "code",
   "execution_count": null,
   "metadata": {
    "id": "3F8yw5CUJXS6"
   },
   "outputs": [],
   "source": []
  },
  {
   "cell_type": "markdown",
   "metadata": {
    "id": "T5xLBL4fJFcQ"
   },
   "source": []
  },
  {
   "cell_type": "markdown",
   "metadata": {
    "id": "v8qU0pWNJEnA"
   },
   "source": [
    "__Задача 1__\n",
    "\n",
    "Имеется колода в 52 карты. Найти число возможностей вытянуть из неё 4 карты так, чтобы среди них был хотя бы один туз."
   ]
  },
  {
   "cell_type": "markdown",
   "metadata": {
    "id": "pqB6Yys-JEnB"
   },
   "source": [
    "__Решение__\n",
    "\n",
    "Для того, чтобы найти искомое число, нужно посчитать число исходов, соответствующих вытягиванию $1$, $2$, $3$ и $4$ тузов, а затем сложить эти числа. Все эти значения считаются аналогично. Например, посчитаем число исходов в первом случае. Для этого нужно посчитать число возможностей вытащить один туз из «колоды» в $4$ туза ($C_4^1$) и число возможностей вытащить $3$ произвольные карты из оставшейся колоды в $48$ карт ($C_{48}^3$):\n",
    "$$N_1 = C_4^1 \\cdot C_{48}^3.$$ \n",
    "\n",
    "Аналогично для $i \\leq 4$:\n",
    "$$N_i = C_4^i \\cdot C_{48}^{4 - i}.$$"
   ]
  },
  {
   "cell_type": "code",
   "execution_count": null,
   "metadata": {
    "execution": {
     "iopub.execute_input": "2021-02-13T12:55:07.433202Z",
     "iopub.status.busy": "2021-02-13T12:55:07.431889Z",
     "iopub.status.idle": "2021-02-13T12:55:07.538537Z",
     "shell.execute_reply": "2021-02-13T12:55:07.539341Z"
    },
    "id": "O4YFcXw9JEnC"
   },
   "outputs": [],
   "source": [
    "import numpy as np"
   ]
  },
  {
   "cell_type": "code",
   "execution_count": null,
   "metadata": {
    "execution": {
     "iopub.execute_input": "2021-02-13T12:55:07.545252Z",
     "iopub.status.busy": "2021-02-13T12:55:07.544525Z",
     "iopub.status.idle": "2021-02-13T12:55:07.546489Z",
     "shell.execute_reply": "2021-02-13T12:55:07.547193Z"
    },
    "id": "2KEFBb41JEnF"
   },
   "outputs": [],
   "source": [
    "def combinations(n: int, k: int) -> int:\n",
    "    \"\"\"Число сочетаний.\n",
    "    \"\"\"\n",
    "    \n",
    "    return np.math.factorial(n) // (np.math.factorial(k) * np.math.factorial(n - k))"
   ]
  },
  {
   "cell_type": "code",
   "execution_count": null,
   "metadata": {
    "execution": {
     "iopub.execute_input": "2021-02-13T12:55:07.557805Z",
     "iopub.status.busy": "2021-02-13T12:55:07.556889Z",
     "iopub.status.idle": "2021-02-13T12:55:07.559957Z",
     "shell.execute_reply": "2021-02-13T12:55:07.560734Z"
    },
    "id": "zlo8V0RTJEnF",
    "outputId": "7daed3b7-6ab0-49cc-a3d3-ae96a4e72462"
   },
   "outputs": [
    {
     "data": {
      "text/plain": [
       "76145"
      ]
     },
     "execution_count": 1,
     "metadata": {},
     "output_type": "execute_result"
    }
   ],
   "source": [
    "sum(combinations(4, i) * combinations(48, 4 - i) for i in range(1, 5))"
   ]
  },
  {
   "cell_type": "markdown",
   "metadata": {
    "id": "nPSed8jNJEnH"
   },
   "source": [
    "Другой способ посчитать то же самое значение — посчитать общее число исходов ($C_{52}^4$) и вычесть из него число исходов, при которых в руке вообще не оказалось туза ($C_{48}^4$):"
   ]
  },
  {
   "cell_type": "code",
   "execution_count": null,
   "metadata": {
    "execution": {
     "iopub.execute_input": "2021-02-13T12:55:07.565892Z",
     "iopub.status.busy": "2021-02-13T12:55:07.565087Z",
     "iopub.status.idle": "2021-02-13T12:55:07.567888Z",
     "shell.execute_reply": "2021-02-13T12:55:07.568643Z"
    },
    "id": "KKSewNjVJEnH",
    "outputId": "87ad44ec-216f-44f3-f073-52f4a6056935"
   },
   "outputs": [
    {
     "data": {
      "text/plain": [
       "76145"
      ]
     },
     "execution_count": 1,
     "metadata": {},
     "output_type": "execute_result"
    }
   ],
   "source": [
    "combinations(52, 4) - combinations(48, 4)"
   ]
  },
  {
   "cell_type": "markdown",
   "metadata": {
    "id": "bN8euu8XJEnI"
   },
   "source": [
    "Теперь про ошибки. Одно из самых популярных ошибочных решений этой задачи выглядит следующим образом:"
   ]
  },
  {
   "cell_type": "code",
   "execution_count": null,
   "metadata": {
    "execution": {
     "iopub.execute_input": "2021-02-13T12:55:07.573809Z",
     "iopub.status.busy": "2021-02-13T12:55:07.572912Z",
     "iopub.status.idle": "2021-02-13T12:55:07.576630Z",
     "shell.execute_reply": "2021-02-13T12:55:07.576013Z"
    },
    "id": "HHB55ZDxJEnJ",
    "outputId": "7636f4b8-1505-4269-aa6a-a44601e5a843"
   },
   "outputs": [
    {
     "data": {
      "text/plain": [
       "83300"
      ]
     },
     "execution_count": 1,
     "metadata": {},
     "output_type": "execute_result"
    }
   ],
   "source": [
    "combinations(4, 1) * combinations(51, 3)"
   ]
  },
  {
   "cell_type": "markdown",
   "metadata": {
    "id": "X0Iy-EYFJEnK"
   },
   "source": [
    "Рассуждение такое: вытянем сначала $1$ туз, а потом оставшиеся $3$ карты вытянем из оставшихся карт (коих $51$ штука). Так мы гарантируем, что в руке всегда будет хотя бы один туз.\n",
    "\n",
    "Ошибка этого рассуждения достаточно тонкая. Она заключается в том, что при таком подходе некоторые комбинации считаются несколько раз. Например, возьмём сперва туз червей. Его мы вынимаем из колоды и затем вытягиваем $3$ карты из $51$ всеми возможными способами. В частности, там будет, например, комбинация, состоящая полностью из тузов.\n",
    "\n",
    "Теперь возьмём другой туз, например, туз пик. Проделаем то же самое: уберём его из колоды и переберём комбинации по $3$ из оставшейся $51$ карты. Тут мы опять встретим комбинацию, полностью состоящую из тузов. Получается, что такую комбинацию мы посчитаем несколько раз. И таких комбинаций будет достаточно много. Потому мы и получаем ответ, который ощутимо больше, чем правильный."
   ]
  },
  {
   "cell_type": "markdown",
   "metadata": {
    "id": "-xyAQap_JEnK"
   },
   "source": [
    "Другая ошибка более проста:"
   ]
  },
  {
   "cell_type": "code",
   "execution_count": null,
   "metadata": {
    "execution": {
     "iopub.execute_input": "2021-02-13T12:55:07.582040Z",
     "iopub.status.busy": "2021-02-13T12:55:07.581113Z",
     "iopub.status.idle": "2021-02-13T12:55:07.584228Z",
     "shell.execute_reply": "2021-02-13T12:55:07.585097Z"
    },
    "id": "m0GU6AIXJEnL",
    "outputId": "67ad899f-79d5-4b4c-f52e-f5e9a7c18e72"
   },
   "outputs": [
    {
     "data": {
      "text/plain": [
       "69184"
      ]
     },
     "execution_count": 1,
     "metadata": {},
     "output_type": "execute_result"
    }
   ],
   "source": [
    "combinations(4, 1) * combinations(48, 3)"
   ]
  },
  {
   "cell_type": "markdown",
   "metadata": {
    "id": "lWg8_OnqJEnM"
   },
   "source": [
    "Как мы уже поняли, это значение равно числу способов достать $4$ карты так, чтобы среди них был в точности один туз. Но нам нужны не только такие комбинации, но и те, в которых $2$, $3$ или $4$ туза."
   ]
  },
  {
   "cell_type": "markdown",
   "metadata": {
    "id": "_ZXDHkgxJEnM"
   },
   "source": [
    "__Задачи 2 и 3__\n",
    "\n",
    "Из 60 вопросов, входящих в экзаменационные билеты, студент знает 50. Случайным образом студент вытягивает 3 вопроса. Какова вероятность, что все выбранные вопросы знакомы студенту? Какова вероятность что два из трёх вопросов знакомы студенту?"
   ]
  },
  {
   "cell_type": "markdown",
   "metadata": {
    "id": "lBHIIibNJEnN"
   },
   "source": [
    "__Решение__\n",
    "\n",
    "Общее число исходов при вытягивании $3$ билетов из $60$ равно \n",
    "$C_{60}^3 = \\dfrac{60!}{3! \\cdot 57!} = \\dfrac{60 \\cdot 59 \\cdot 58}{6}$.\n",
    "\n",
    "Число исходов, благоприятных для события «все билеты знакомые», равно \n",
    "$C_{50}^3 = \\dfrac{50 \\cdot 49 \\cdot 48}{6}$. Итак, вероятность первого события:"
   ]
  },
  {
   "cell_type": "code",
   "execution_count": null,
   "metadata": {
    "execution": {
     "iopub.execute_input": "2021-02-13T12:55:07.591204Z",
     "iopub.status.busy": "2021-02-13T12:55:07.590291Z",
     "iopub.status.idle": "2021-02-13T12:55:07.593349Z",
     "shell.execute_reply": "2021-02-13T12:55:07.594163Z"
    },
    "id": "EaKRo49YJEnN",
    "outputId": "aa0cdb67-b3a1-4406-9f8d-dcaae10e620e"
   },
   "outputs": [
    {
     "data": {
      "text/plain": [
       "0.5727644652250146"
      ]
     },
     "execution_count": 1,
     "metadata": {},
     "output_type": "execute_result"
    }
   ],
   "source": [
    "combinations(50, 3) / combinations(60, 3)"
   ]
  },
  {
   "cell_type": "markdown",
   "metadata": {
    "id": "3b0tkzkDJEnN"
   },
   "source": [
    "Чтобы посчитить число благоприятных исходов для второго события, надо посчитать число возможностей выбрать $2$ знакомых билета (из $50$) и $1$ незнакомый билет (из $10$). Число таких исходов: \n",
    "$C_{50}^2 \\cdot C_{10}^1 = \\dfrac{50 \\cdot 49}{2} \\cdot 10$. Итак, вероятность второго события:"
   ]
  },
  {
   "cell_type": "code",
   "execution_count": null,
   "metadata": {
    "execution": {
     "iopub.execute_input": "2021-02-13T12:55:07.599711Z",
     "iopub.status.busy": "2021-02-13T12:55:07.598852Z",
     "iopub.status.idle": "2021-02-13T12:55:07.601946Z",
     "shell.execute_reply": "2021-02-13T12:55:07.602803Z"
    },
    "id": "IWkR6u5RJEnO",
    "outputId": "474e3160-ead1-42b2-912e-9276ef5a7b30"
   },
   "outputs": [
    {
     "data": {
      "text/plain": [
       "0.35797779076563413"
      ]
     },
     "execution_count": 1,
     "metadata": {},
     "output_type": "execute_result"
    }
   ],
   "source": [
    "combinations(50, 2) * combinations(10, 1) / combinations(60, 3)"
   ]
  },
  {
   "cell_type": "markdown",
   "metadata": {
    "id": "BZqm_TvoJEnO"
   },
   "source": [
    "Теперь об ошибках. В целом есть и другой подход к этой задаче: воспринимать каждое вытягивание билета как отдельное событие. Такой подход тоже верный, но с ним нужно быть аккуратнее. Например, посчитаем вероятность, что все билеты известны:"
   ]
  },
  {
   "cell_type": "code",
   "execution_count": null,
   "metadata": {
    "execution": {
     "iopub.execute_input": "2021-02-13T12:55:07.608221Z",
     "iopub.status.busy": "2021-02-13T12:55:07.607358Z",
     "iopub.status.idle": "2021-02-13T12:55:07.610183Z",
     "shell.execute_reply": "2021-02-13T12:55:07.611039Z"
    },
    "id": "0V-1G5DqJEnO",
    "outputId": "2081032a-34c6-4278-97ac-64502da3738d"
   },
   "outputs": [
    {
     "data": {
      "text/plain": [
       "0.5727644652250147"
      ]
     },
     "execution_count": 1,
     "metadata": {},
     "output_type": "execute_result"
    }
   ],
   "source": [
    "50 / 60 * 49 / 59 * 48 / 58"
   ]
  },
  {
   "cell_type": "markdown",
   "metadata": {
    "id": "JvUqwVZHJEnO"
   },
   "source": [
    "Всё верно и сошлось с предыдущим ответом. А теперь посчитаем вероятность вытянуть два знакомых из трёх. Тут обычно рассуждение такое: первый — знакомый, второй - тоже, а третий — нет:"
   ]
  },
  {
   "cell_type": "code",
   "execution_count": null,
   "metadata": {
    "execution": {
     "iopub.execute_input": "2021-02-13T12:55:07.616528Z",
     "iopub.status.busy": "2021-02-13T12:55:07.615618Z",
     "iopub.status.idle": "2021-02-13T12:55:07.619613Z",
     "shell.execute_reply": "2021-02-13T12:55:07.618684Z"
    },
    "id": "gZNEPMN2JEnP",
    "outputId": "6381572c-c94a-4fbb-87b5-99969e271e4b"
   },
   "outputs": [
    {
     "data": {
      "text/plain": [
       "0.11932593025521138"
      ]
     },
     "execution_count": 1,
     "metadata": {},
     "output_type": "execute_result"
    }
   ],
   "source": [
    "50 / 60 * 49 / 59 * 10 / 58"
   ]
  },
  {
   "cell_type": "markdown",
   "metadata": {
    "id": "eHZAW0LtJEnP"
   },
   "source": [
    "Ошибка такого рассуждения в том, что мы учли не все варианты. А что если незнакомый билет был вытянут первым? Или вторым? Учитывая все эти варианты, получаем что-то вроде:"
   ]
  },
  {
   "cell_type": "code",
   "execution_count": null,
   "metadata": {
    "execution": {
     "iopub.execute_input": "2021-02-13T12:55:07.625462Z",
     "iopub.status.busy": "2021-02-13T12:55:07.624534Z",
     "iopub.status.idle": "2021-02-13T12:55:07.627922Z",
     "shell.execute_reply": "2021-02-13T12:55:07.628776Z"
    },
    "id": "ZDo6qxz4JEnP",
    "outputId": "d7590c1c-9d1b-40fe-8bff-441d031dd6ec"
   },
   "outputs": [
    {
     "data": {
      "text/plain": [
       "0.35797779076563413"
      ]
     },
     "execution_count": 1,
     "metadata": {},
     "output_type": "execute_result"
    }
   ],
   "source": [
    "(50 / 60 * 49 / 59 * 10 / 58) + (10 / 60 * 50 / 59 * 49 / 58) + (50 / 60 * 10 / 59 * 49 / 58)"
   ]
  },
  {
   "cell_type": "markdown",
   "metadata": {
    "id": "x1utxLr-JEnQ"
   },
   "source": [
    "Тут уже ответ верный.\n",
    "\n",
    "Другая ошибка заключается в том, что, читая условие про два знакомых билета, мы не учитываем ещё одно неявное условие: коль два билета знакомы, значит, третий должен быть незнакомым. Без этого условия получаем:"
   ]
  },
  {
   "cell_type": "code",
   "execution_count": null,
   "metadata": {
    "execution": {
     "iopub.execute_input": "2021-02-13T12:55:07.634737Z",
     "iopub.status.busy": "2021-02-13T12:55:07.633821Z",
     "iopub.status.idle": "2021-02-13T12:55:07.637105Z",
     "shell.execute_reply": "2021-02-13T12:55:07.638043Z"
    },
    "id": "xDwiopD6JEnQ",
    "outputId": "a7a3b28e-a247-462b-fa98-f2bdb452a10c"
   },
   "outputs": [
    {
     "data": {
      "text/plain": [
       "0.03579777907656341"
      ]
     },
     "execution_count": 1,
     "metadata": {},
     "output_type": "execute_result"
    }
   ],
   "source": [
    "combinations(50, 2) / combinations(60, 3)"
   ]
  },
  {
   "cell_type": "markdown",
   "metadata": {
    "id": "NQ8HT7qbJEnQ"
   },
   "source": [
    "Как мы уже поняли, этот ответ является неверным, потому что тут не учтена вероятность вообще вытянуть незнакомый билет (а эта вероятность не равна $1$)."
   ]
  },
  {
   "cell_type": "markdown",
   "metadata": {
    "id": "DLRSfqtQJEnR"
   },
   "source": [
    "__Задача 4__\n",
    "\n",
    "Допустим, имеется некоторая очень редкая болезнь (поражает 0.1% населения). Вы приходите к врачу, вам делают тест на эту болезнь, и тест оказывается положительным. Врач говорит вам, что этот тест верно выявляет 99% больных этой болезнью и всего лишь в 1% случаев даёт ложный положительный ответ.\n",
    "\n",
    "_Вопрос_: какова вероятность, что вы действительно больны ей?\n",
    "\n",
    "_Подсказка_: используйте формулу Байеса с раскрытием знаменателя с помощью формулы полной вероятности."
   ]
  },
  {
   "cell_type": "markdown",
   "metadata": {
    "id": "mUZ9DzYKJEnR"
   },
   "source": [
    "__Решение.__\n",
    "\n",
    "Определим следующие события. Событие $A$ — вы больны этой болезнью, событие $B$ — для вас тест на эту болезнь оказался положительным.\n",
    "\n",
    "В этом случае нам нужно найти вероятность $P(A | B)$ (поскольку вы уже знаете, что тест дал положительный результат). По формуле Байеса:\n",
    "$$P(A|B) = \\frac{P(B|A) \\cdot P(A)}{P(B)}$$\n",
    "\n",
    "Также раскроем знаменатель по формуле полной вероятности следующим образом:\n",
    "$$P(B) = P(B | A) \\cdot P(A) + P \\left( B | \\overline{A} \\right) \\cdot P \\left( \\overline{A} \\right)$$\n",
    "\n",
    "Подставляя сюда известные нам величины, получаем:\n",
    "$$P(B) = 0.99 \\cdot 0.001 + 0.01 \\cdot 0.999 = 0.01098$$"
   ]
  },
  {
   "cell_type": "code",
   "execution_count": null,
   "metadata": {
    "execution": {
     "iopub.execute_input": "2021-02-13T12:55:07.643986Z",
     "iopub.status.busy": "2021-02-13T12:55:07.642881Z",
     "iopub.status.idle": "2021-02-13T12:55:07.646114Z",
     "shell.execute_reply": "2021-02-13T12:55:07.647052Z"
    },
    "id": "BdllRbqcJEnR",
    "outputId": "ace6a82e-9199-48b6-d166-5a89155f17d0"
   },
   "outputs": [
    {
     "name": "stdout",
     "output_type": "stream",
     "text": [
      "0.01098\n"
     ]
    }
   ],
   "source": [
    "P_b = 0.001 * 0.99 + 0.999 * 0.01\n",
    "\n",
    "print(P_b)"
   ]
  },
  {
   "cell_type": "markdown",
   "metadata": {
    "id": "1eedVtfZJEnR"
   },
   "source": [
    "Подставляя это значение в формулу Байеса, получаем:\n",
    "$$P(A | B) = \\dfrac{0.99 \\cdot 0.001}{0.01098} = 0.0902$$"
   ]
  },
  {
   "cell_type": "code",
   "execution_count": null,
   "metadata": {
    "execution": {
     "iopub.execute_input": "2021-02-13T12:55:07.652617Z",
     "iopub.status.busy": "2021-02-13T12:55:07.651721Z",
     "iopub.status.idle": "2021-02-13T12:55:07.655158Z",
     "shell.execute_reply": "2021-02-13T12:55:07.656118Z"
    },
    "id": "Amq4SGJTJEnR",
    "outputId": "3f32df63-08d7-4f72-c2cd-d3a3c6c93186"
   },
   "outputs": [
    {
     "data": {
      "text/plain": [
       "0.09016393442622951"
      ]
     },
     "execution_count": 1,
     "metadata": {},
     "output_type": "execute_result"
    }
   ],
   "source": [
    "0.001 * 0.99 / P_b"
   ]
  },
  {
   "cell_type": "markdown",
   "metadata": {
    "id": "qQjUi-VRJEnS"
   },
   "source": [
    "### Разбор дополнительных заданий"
   ]
  },
  {
   "cell_type": "markdown",
   "metadata": {
    "id": "wJwkgTbUJEnS"
   },
   "source": [
    "__Задача 1__\n",
    "\n",
    "Подбрасываются три игральных кубика. Оцените вероятность того, что сумма значений этих кубиков не будет превышать 6.\n",
    "\n",
    "_Подсказка_: оценкой вероятности может служить, например, относительная частота при большом числе опытов. Попробуйте реализовать наибольшее число опытов, которое позволяют ваш компьютер и/или ваше терпение.\n",
    "\n",
    "_Замечание_: вообще в этом курсе мы не используем такие численные методы оценки вероятностей, и в будущем мы не будем их применять. Но тут сделаем исключение один раз."
   ]
  },
  {
   "cell_type": "markdown",
   "metadata": {
    "id": "bX9GbWc3JEnS"
   },
   "source": [
    "__Решение__\n",
    "\n",
    "Результаты бросков трёх игральных кубиков можно моделировать с помощью функции `randint` из модуля `random` библиотеки `numpy`. Ранее мы подавали туда аргумент `size`, отвечающий за число возвращаемых реализаций. В этот аргумент можно подать не число, а кортеж чисел, тогда вернётся не одномерный массив, а многомерный."
   ]
  },
  {
   "cell_type": "code",
   "execution_count": null,
   "metadata": {
    "id": "wbQI3QXcJEnS"
   },
   "outputs": [],
   "source": []
  },
  {
   "cell_type": "code",
   "execution_count": null,
   "metadata": {
    "execution": {
     "iopub.execute_input": "2021-02-13T12:55:07.662370Z",
     "iopub.status.busy": "2021-02-13T12:55:07.661417Z",
     "iopub.status.idle": "2021-02-13T12:55:11.995717Z",
     "shell.execute_reply": "2021-02-13T12:55:11.996509Z"
    },
    "id": "kzZI-P7UJEnS",
    "outputId": "780ac6b9-a79b-416d-f453-dce96c55c339"
   },
   "outputs": [
    {
     "data": {
      "text/plain": [
       "array([[6, 2, 4],\n",
       "       [3, 2, 2],\n",
       "       [3, 5, 6],\n",
       "       ...,\n",
       "       [2, 2, 5],\n",
       "       [1, 1, 5],\n",
       "       [2, 6, 5]])"
      ]
     },
     "execution_count": 1,
     "metadata": {},
     "output_type": "execute_result"
    }
   ],
   "source": [
    "n_samples = 10 ** 8\n",
    "\n",
    "dice_values = np.random.randint(1, 7, size=(n_samples, 3))\n",
    "dice_values"
   ]
  },
  {
   "cell_type": "markdown",
   "metadata": {
    "id": "7Nt5rDdpJEnT"
   },
   "source": [
    "Чтобы посчитать сумму значений кубиков при каждой реализации, можно воспользоваться методом `.sum()`, при этом передать туда аргумент `axis=1`. Тогда суммирование будет производиться вдоль второй (начиная с нуля) оси, т.е. суммироваться будут только отдельные строчки."
   ]
  },
  {
   "cell_type": "code",
   "execution_count": null,
   "metadata": {
    "execution": {
     "iopub.execute_input": "2021-02-13T12:55:12.001311Z",
     "iopub.status.busy": "2021-02-13T12:55:12.000089Z",
     "iopub.status.idle": "2021-02-13T12:55:16.144307Z",
     "shell.execute_reply": "2021-02-13T12:55:16.144955Z"
    },
    "id": "bmosh47qJEnT",
    "outputId": "661234cc-3789-4d3c-ec01-a9808f8d644d"
   },
   "outputs": [
    {
     "data": {
      "text/plain": [
       "array([12,  7, 14, ...,  9,  7, 13])"
      ]
     },
     "execution_count": 1,
     "metadata": {},
     "output_type": "execute_result"
    }
   ],
   "source": [
    "samples = dice_values.sum(axis=1)\n",
    "samples"
   ]
  },
  {
   "cell_type": "markdown",
   "metadata": {
    "id": "gXiHwnMUJEnU"
   },
   "source": [
    "Итак, нас интересует событие $A$, заключающееся в том, что сумма трёх кубиков оказалась не больше $6$. Посчитаем, сколько раз такое событие наступило."
   ]
  },
  {
   "cell_type": "code",
   "execution_count": null,
   "metadata": {
    "execution": {
     "iopub.execute_input": "2021-02-13T12:55:16.149296Z",
     "iopub.status.busy": "2021-02-13T12:55:16.148662Z",
     "iopub.status.idle": "2021-02-13T12:55:16.447349Z",
     "shell.execute_reply": "2021-02-13T12:55:16.448069Z"
    },
    "id": "O5VgQc4ZJEnU",
    "outputId": "2de4f1e6-e414-4d81-c9a1-7d6104802560"
   },
   "outputs": [
    {
     "data": {
      "text/plain": [
       "9258449"
      ]
     },
     "execution_count": 1,
     "metadata": {},
     "output_type": "execute_result"
    }
   ],
   "source": [
    "n_successes = (samples <= 6).sum()\n",
    "n_successes"
   ]
  },
  {
   "cell_type": "markdown",
   "metadata": {
    "id": "l8PJZ5HdJEnU"
   },
   "source": [
    "Чтобы получить относительную частоту, разделим это число на общее число опытов:"
   ]
  },
  {
   "cell_type": "code",
   "execution_count": null,
   "metadata": {
    "execution": {
     "iopub.execute_input": "2021-02-13T12:55:16.453088Z",
     "iopub.status.busy": "2021-02-13T12:55:16.452344Z",
     "iopub.status.idle": "2021-02-13T12:55:16.454722Z",
     "shell.execute_reply": "2021-02-13T12:55:16.455371Z"
    },
    "id": "j3ccAdJHJEnU",
    "outputId": "4fee9084-6e61-4979-9ec6-b646ee24ec32"
   },
   "outputs": [
    {
     "data": {
      "text/plain": [
       "0.09258449"
      ]
     },
     "execution_count": 1,
     "metadata": {},
     "output_type": "execute_result"
    }
   ],
   "source": [
    "frequency = n_successes / n_samples\n",
    "frequency"
   ]
  },
  {
   "cell_type": "markdown",
   "metadata": {
    "id": "LrwYD8OcJEnV"
   },
   "source": [
    "А давайте попробуем найти ту же вероятность аналитически. (Этого не требовалось в задаче, но любопытства ради давайте найдём.) Есть классный элегантный способ это сделать.\n",
    "\n",
    "Сперва найдём вероятность того, что сумма трёх кубиков будет в точности равна $6$. Другими словами, нужно найти число способов составить число $6$ из трёх кусков. Представим себе ленту из $6$ ячеек. Разбиение её на 3 части равнозначно выбору $2$ позиций, в которых эту ленту нужно разрезать. Все таких позиций $5$. Итак, получается, что число исходов для числа $6$ равно $C_5^2 = 10$:"
   ]
  },
  {
   "cell_type": "code",
   "execution_count": null,
   "metadata": {
    "id": "no9S1QBLJEnV"
   },
   "outputs": [],
   "source": []
  },
  {
   "cell_type": "code",
   "execution_count": null,
   "metadata": {
    "execution": {
     "iopub.execute_input": "2021-02-13T12:55:16.459938Z",
     "iopub.status.busy": "2021-02-13T12:55:16.459334Z",
     "iopub.status.idle": "2021-02-13T12:55:16.461471Z",
     "shell.execute_reply": "2021-02-13T12:55:16.462077Z"
    },
    "id": "J0F0Bh4nJEnV",
    "outputId": "a014709b-eb4d-495a-d683-7fda94a73034"
   },
   "outputs": [
    {
     "data": {
      "text/plain": [
       "10"
      ]
     },
     "execution_count": 1,
     "metadata": {},
     "output_type": "execute_result"
    }
   ],
   "source": [
    "combinations(5, 2)"
   ]
  },
  {
   "cell_type": "markdown",
   "metadata": {
    "id": "5079Ru1DJEnV"
   },
   "source": [
    "А сколько всего исходов? Поскольку мы бросаем $3$ кубика, каждый из которых имеет $6$ разных сторон, число исходов будет равно $6^3 = 216$. Итак, вероятность получить в сумме ровно $6$:"
   ]
  },
  {
   "cell_type": "code",
   "execution_count": null,
   "metadata": {
    "execution": {
     "iopub.execute_input": "2021-02-13T12:55:16.466347Z",
     "iopub.status.busy": "2021-02-13T12:55:16.465734Z",
     "iopub.status.idle": "2021-02-13T12:55:16.467958Z",
     "shell.execute_reply": "2021-02-13T12:55:16.468580Z"
    },
    "id": "pcvfnsdOJEnV",
    "outputId": "21973825-73a3-4f62-e6ab-828b3a1b6102"
   },
   "outputs": [
    {
     "data": {
      "text/plain": [
       "0.046296296296296294"
      ]
     },
     "execution_count": 1,
     "metadata": {},
     "output_type": "execute_result"
    }
   ],
   "source": [
    "combinations(5, 2) / 6 ** 3"
   ]
  },
  {
   "cell_type": "markdown",
   "metadata": {
    "id": "FbzHQMZ3JEnW"
   },
   "source": [
    "Продолжим аналогично. Чтобы получить $5$, нужно разбить ленту с пятью ячейками на $3$ части:"
   ]
  },
  {
   "cell_type": "code",
   "execution_count": null,
   "metadata": {
    "execution": {
     "iopub.execute_input": "2021-02-13T12:55:16.472904Z",
     "iopub.status.busy": "2021-02-13T12:55:16.472317Z",
     "iopub.status.idle": "2021-02-13T12:55:16.474753Z",
     "shell.execute_reply": "2021-02-13T12:55:16.475393Z"
    },
    "id": "AxEhOS1UJEnW",
    "outputId": "a302cd27-c3b6-4829-f001-24d0b924e381"
   },
   "outputs": [
    {
     "data": {
      "text/plain": [
       "0.027777777777777776"
      ]
     },
     "execution_count": 1,
     "metadata": {},
     "output_type": "execute_result"
    }
   ],
   "source": [
    "combinations(4, 2) / 6 ** 3"
   ]
  },
  {
   "cell_type": "markdown",
   "metadata": {
    "id": "ZnKJRc22JEnW"
   },
   "source": [
    "Чтобы получить $4$:"
   ]
  },
  {
   "cell_type": "code",
   "execution_count": null,
   "metadata": {
    "execution": {
     "iopub.execute_input": "2021-02-13T12:55:16.479827Z",
     "iopub.status.busy": "2021-02-13T12:55:16.479209Z",
     "iopub.status.idle": "2021-02-13T12:55:16.481318Z",
     "shell.execute_reply": "2021-02-13T12:55:16.481951Z"
    },
    "id": "o26mu9cxJEnW",
    "outputId": "76ffe645-298b-4623-de5f-fb8ed6b7c1a7"
   },
   "outputs": [
    {
     "data": {
      "text/plain": [
       "0.013888888888888888"
      ]
     },
     "execution_count": 1,
     "metadata": {},
     "output_type": "execute_result"
    }
   ],
   "source": [
    "combinations(3, 2) / 6 ** 3"
   ]
  },
  {
   "cell_type": "markdown",
   "metadata": {
    "id": "ZnGzvao9JEnW"
   },
   "source": [
    "Чтобы получить $3$:"
   ]
  },
  {
   "cell_type": "code",
   "execution_count": null,
   "metadata": {
    "execution": {
     "iopub.execute_input": "2021-02-13T12:55:16.486485Z",
     "iopub.status.busy": "2021-02-13T12:55:16.485803Z",
     "iopub.status.idle": "2021-02-13T12:55:16.487819Z",
     "shell.execute_reply": "2021-02-13T12:55:16.488415Z"
    },
    "id": "v5476qYOJEnW",
    "outputId": "c2acdc46-c1f6-46d8-ad82-3e843201e7b0"
   },
   "outputs": [
    {
     "data": {
      "text/plain": [
       "0.004629629629629629"
      ]
     },
     "execution_count": 1,
     "metadata": {},
     "output_type": "execute_result"
    }
   ],
   "source": [
    "combinations(2, 2) / 6 ** 3"
   ]
  },
  {
   "cell_type": "markdown",
   "metadata": {
    "id": "KghOAIWSJEnW"
   },
   "source": [
    "Ну а меньше трёх число быть не может, поскольку оно составлено из трёх значений кубиков. Итак, искомая вероятность:"
   ]
  },
  {
   "cell_type": "code",
   "execution_count": null,
   "metadata": {
    "execution": {
     "iopub.execute_input": "2021-02-13T12:55:16.493003Z",
     "iopub.status.busy": "2021-02-13T12:55:16.492323Z",
     "iopub.status.idle": "2021-02-13T12:55:16.494451Z",
     "shell.execute_reply": "2021-02-13T12:55:16.495156Z"
    },
    "id": "U7AfcTqUJEnW",
    "outputId": "017fabf0-463a-47de-fe34-f727f66a8c5d"
   },
   "outputs": [
    {
     "data": {
      "text/plain": [
       "0.09259259259259259"
      ]
     },
     "execution_count": 1,
     "metadata": {},
     "output_type": "execute_result"
    }
   ],
   "source": [
    "sum(combinations(k, 2) for k in range(2, 6)) / 6 ** 3"
   ]
  },
  {
   "cell_type": "markdown",
   "metadata": {
    "id": "RpxIkZrbJEnX"
   },
   "source": [
    "__Задача 2__\n",
    "\n",
    "Бросается игральная кость. Пусть событие `A` — появление чётного числа, событие `B` — появление числа больше трёх. Являются ли эти события независимыми?"
   ]
  },
  {
   "cell_type": "markdown",
   "metadata": {
    "id": "Io8i0S86JEnX"
   },
   "source": [
    "__Решение__\n",
    "\n",
    "По определению события $A$ и $B$ являются независимыми, если $P(A|B) = P(A)$. Первая вероятность — это вероятность числа быть чётным при условии, что оно больше трёх, т.е. $P(A|B) = \\dfrac{2}{3}$. При этом, безусловная вероятность $P(A)$, очевидно, равна $\\dfrac{1}{2}$. Итак, события $A$ и $B$ зависимы."
   ]
  },
  {
   "cell_type": "code",
   "execution_count": null,
   "metadata": {
    "id": "9S4b_zuPJEnX"
   },
   "outputs": [],
   "source": []
  }
 ],
 "metadata": {
  "colab": {
   "name": "solutions1.ipynb",
   "provenance": []
  },
  "kernelspec": {
   "display_name": "Python 3",
   "language": "python",
   "name": "python3"
  },
  "language_info": {
   "codemirror_mode": {
    "name": "ipython",
    "version": 3
   },
   "file_extension": ".py",
   "mimetype": "text/x-python",
   "name": "python",
   "nbconvert_exporter": "python",
   "pygments_lexer": "ipython3",
   "version": "3.8.8"
  }
 },
 "nbformat": 4,
 "nbformat_minor": 1
}
