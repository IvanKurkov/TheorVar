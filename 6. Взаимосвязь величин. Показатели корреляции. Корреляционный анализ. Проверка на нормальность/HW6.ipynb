{
 "cells": [
  {
   "cell_type": "markdown",
   "id": "58176472",
   "metadata": {},
   "source": [
    "### Задание 1.\n",
    "Даны значения величины заработной платы заемщиков банка (zp) и значения их поведенческого кредитного скоринга (ks):\n",
    "zp = [35, 45, 190, 200, 40, 70, 54, 150, 120, 110],\n",
    "ks = [401, 574, 874, 919, 459, 739, 653, 902, 746, 832].\n",
    "Найдите ковариацию этих двух величин с помощью элементарных действий, а затем с помощью функции cov из numpy\n",
    "Полученные значения должны быть равны.\n",
    "Найдите коэффициент корреляции Пирсона с помощью ковариации и среднеквадратичных отклонений двух признаков,\n",
    "а затем с использованием функций из библиотек numpy и pandas.\n",
    "\n"
   ]
  },
  {
   "cell_type": "code",
   "execution_count": 11,
   "id": "cffa6340",
   "metadata": {},
   "outputs": [],
   "source": [
    "import numpy as np\n",
    "import pandas as pd\n",
    "import scipy.stats as stats"
   ]
  },
  {
   "cell_type": "code",
   "execution_count": 3,
   "id": "55791c33",
   "metadata": {},
   "outputs": [],
   "source": [
    "zp = np.array([35, 45, 190, 200, 40, 70, 54, 150, 120, 110])\n",
    "ks = np.array([401, 574, 874, 919, 459, 739, 653, 902, 746, 832])"
   ]
  },
  {
   "cell_type": "code",
   "execution_count": 13,
   "id": "482f3a4e",
   "metadata": {},
   "outputs": [],
   "source": [
    "cov = ((zp - zp.mean()) * (ks - ks.mean())).sum() / (zp.shape[0] - 1) # Считаем не смещенную ковариацию"
   ]
  },
  {
   "cell_type": "code",
   "execution_count": 14,
   "id": "97cc3e9f",
   "metadata": {},
   "outputs": [
    {
     "data": {
      "text/plain": [
       "10175.37777777778"
      ]
     },
     "execution_count": 14,
     "metadata": {},
     "output_type": "execute_result"
    }
   ],
   "source": [
    "cov"
   ]
  },
  {
   "cell_type": "code",
   "execution_count": 10,
   "id": "00459917",
   "metadata": {},
   "outputs": [
    {
     "data": {
      "text/plain": [
       "array([[ 3882.93333333, 10175.37777778],\n",
       "       [10175.37777778, 33854.32222222]])"
      ]
     },
     "execution_count": 10,
     "metadata": {},
     "output_type": "execute_result"
    }
   ],
   "source": [
    "np.cov(zp, ks, ddof=1)"
   ]
  },
  {
   "cell_type": "code",
   "execution_count": 16,
   "id": "38424be0",
   "metadata": {},
   "outputs": [
    {
     "data": {
      "text/plain": [
       "0.8874900920739164"
      ]
     },
     "execution_count": 16,
     "metadata": {},
     "output_type": "execute_result"
    }
   ],
   "source": [
    "cov / (zp.std(ddof=1) * ks.std(ddof=1))"
   ]
  },
  {
   "cell_type": "code",
   "execution_count": 17,
   "id": "7f707a4e",
   "metadata": {},
   "outputs": [
    {
     "data": {
      "text/plain": [
       "array([[1.        , 0.88749009],\n",
       "       [0.88749009, 1.        ]])"
      ]
     },
     "execution_count": 17,
     "metadata": {},
     "output_type": "execute_result"
    }
   ],
   "source": [
    "np.corrcoef(zp, ks)"
   ]
  },
  {
   "cell_type": "markdown",
   "id": "4dbf84cd",
   "metadata": {},
   "source": [
    "#### Ответ: Не смещенная Ковариация =  10175.37777777778; Корреляция Пирсона = 0.88749009"
   ]
  },
  {
   "cell_type": "markdown",
   "id": "52c1553f",
   "metadata": {},
   "source": [
    "### Задание 2.\n",
    "Измерены значения IQ выборки студентов,\n",
    "обучающихся в местных технических вузах:\n",
    "131, 125, 115, 122, 131, 115, 107, 99, 125, 111.\n",
    "Известно, что в генеральной совокупности IQ распределен нормально.\n",
    "Найдите доверительный интервал для математического ожидания с надежностью 0.95.\n"
   ]
  },
  {
   "cell_type": "code",
   "execution_count": 3,
   "id": "464dea41",
   "metadata": {},
   "outputs": [],
   "source": [
    "x = np.array([131, 125, 115, 122, 131, 115, 107, 99, 125, 111])"
   ]
  },
  {
   "cell_type": "code",
   "execution_count": 17,
   "id": "9d76bd31",
   "metadata": {},
   "outputs": [],
   "source": [
    "X=x.mean()\n",
    "n = 10\n",
    "std = x.std(ddof=1) # Берем несмещенную оценку т.к. считаем из выборки\n",
    "alpha = 0.05\n",
    "t = stats.t.ppf(alpha/2, df=n-1) # Используем T распределение, т.к. дисперсия генеральной совокупности не известна.\n"
   ]
  },
  {
   "cell_type": "code",
   "execution_count": 20,
   "id": "bdbd34f0",
   "metadata": {},
   "outputs": [],
   "source": [
    "l_value = X+t*(std/(n**0.5))"
   ]
  },
  {
   "cell_type": "code",
   "execution_count": 21,
   "id": "c250cfcf",
   "metadata": {},
   "outputs": [],
   "source": [
    "r_value = X-t*(std/(n**0.5))"
   ]
  },
  {
   "cell_type": "code",
   "execution_count": 22,
   "id": "d6d13d38",
   "metadata": {},
   "outputs": [
    {
     "data": {
      "text/plain": [
       "[110.55608365158724, 125.64391634841274]"
      ]
     },
     "execution_count": 22,
     "metadata": {},
     "output_type": "execute_result"
    }
   ],
   "source": [
    "[l_value, r_value]"
   ]
  },
  {
   "cell_type": "markdown",
   "id": "2fdcce44",
   "metadata": {},
   "source": [
    "#### Ответ: [110.55608365158724, 125.64391634841274]"
   ]
  },
  {
   "cell_type": "markdown",
   "id": "08bf2fef",
   "metadata": {},
   "source": [
    "### Задание 3.\n",
    "Известно, что рост футболистов в сборной распределен нормально\n",
    "с дисперсией генеральной совокупности, равной 25 кв.см. Объем выборки равен 27,\n",
    "среднее выборочное составляет 174.2. Найдите доверительный интервал для математического\n",
    "ожидания с надежностью 0.95.\n"
   ]
  },
  {
   "cell_type": "code",
   "execution_count": 28,
   "id": "34e35df7",
   "metadata": {},
   "outputs": [],
   "source": [
    "X = 174.2\n",
    "n = 27\n",
    "std = 5\n",
    "alpha = 0.05\n",
    "z = stats.norm.ppf(alpha/2) # Используем стандартное нормальное распределение, т.к. известна дисперсия ген совокупности\n"
   ]
  },
  {
   "cell_type": "code",
   "execution_count": 29,
   "id": "4bb1915c",
   "metadata": {},
   "outputs": [],
   "source": [
    "l_value = X+z*(std/(n**0.5))"
   ]
  },
  {
   "cell_type": "code",
   "execution_count": 30,
   "id": "42427d37",
   "metadata": {},
   "outputs": [],
   "source": [
    "r_value = X-z*(std/(n**0.5))"
   ]
  },
  {
   "cell_type": "code",
   "execution_count": 31,
   "id": "7eef122e",
   "metadata": {},
   "outputs": [
    {
     "data": {
      "text/plain": [
       "[172.3140237765397, 176.08597622346028]"
      ]
     },
     "execution_count": 31,
     "metadata": {},
     "output_type": "execute_result"
    }
   ],
   "source": [
    "[l_value, r_value]"
   ]
  },
  {
   "cell_type": "markdown",
   "id": "68fb986e",
   "metadata": {},
   "source": [
    "#### Ответ: [172.3140237765397, 176.08597622346028]"
   ]
  },
  {
   "cell_type": "code",
   "execution_count": null,
   "id": "076df989",
   "metadata": {},
   "outputs": [],
   "source": []
  }
 ],
 "metadata": {
  "kernelspec": {
   "display_name": "Python 3",
   "language": "python",
   "name": "python3"
  },
  "language_info": {
   "codemirror_mode": {
    "name": "ipython",
    "version": 3
   },
   "file_extension": ".py",
   "mimetype": "text/x-python",
   "name": "python",
   "nbconvert_exporter": "python",
   "pygments_lexer": "ipython3",
   "version": "3.8.8"
  }
 },
 "nbformat": 4,
 "nbformat_minor": 5
}
