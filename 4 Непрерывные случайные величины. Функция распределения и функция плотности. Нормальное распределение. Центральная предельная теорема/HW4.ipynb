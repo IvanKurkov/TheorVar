{
 "cells": [
  {
   "cell_type": "markdown",
   "id": "b98a7e97",
   "metadata": {},
   "source": [
    "## 1 Задание.\n",
    "Случайная непрерывная величина A имеет равномерное распределение на промежутке (200, 800].\n",
    "Найдите ее среднее значение и дисперсию.\n"
   ]
  },
  {
   "cell_type": "code",
   "execution_count": 35,
   "id": "0abe9fc0",
   "metadata": {},
   "outputs": [],
   "source": [
    "a = 200\n",
    "b = 800"
   ]
  },
  {
   "cell_type": "code",
   "execution_count": 36,
   "id": "a666c01f",
   "metadata": {},
   "outputs": [
    {
     "data": {
      "text/plain": [
       "500.0"
      ]
     },
     "execution_count": 36,
     "metadata": {},
     "output_type": "execute_result"
    }
   ],
   "source": [
    "Mx = (a+b)/2\n",
    "Mx"
   ]
  },
  {
   "cell_type": "code",
   "execution_count": 37,
   "id": "4bcd9d19",
   "metadata": {},
   "outputs": [
    {
     "data": {
      "text/plain": [
       "30000.0"
      ]
     },
     "execution_count": 37,
     "metadata": {},
     "output_type": "execute_result"
    }
   ],
   "source": [
    "Dx = ((b-a)**2) / 12\n",
    "Dx"
   ]
  },
  {
   "cell_type": "markdown",
   "id": "e336697c",
   "metadata": {},
   "source": [
    "#### Среднее = 500\n",
    "#### Дисперсия = 30000\n"
   ]
  },
  {
   "cell_type": "markdown",
   "id": "81a9ef4b",
   "metadata": {},
   "source": [
    "## 2 Задание.\n",
    "О случайной непрерывной равномерно распределенной величине B известно, что ее дисперсия равна 0.2.\n",
    "Можно ли найти правую границу величины B и ее среднее значение зная, что левая граница равна 0.5?\n",
    "Если да, найдите ее.\n"
   ]
  },
  {
   "cell_type": "code",
   "execution_count": 38,
   "id": "1aa5f8db",
   "metadata": {},
   "outputs": [],
   "source": [
    "Dx = 0.2\n",
    "a = 0.5"
   ]
  },
  {
   "cell_type": "markdown",
   "id": "22fcf4b3",
   "metadata": {},
   "source": [
    "Выразим b из формулы дисперсии."
   ]
  },
  {
   "cell_type": "code",
   "execution_count": 39,
   "id": "6e697bd9",
   "metadata": {},
   "outputs": [
    {
     "data": {
      "text/plain": [
       "2.049193338482967"
      ]
     },
     "execution_count": 39,
     "metadata": {},
     "output_type": "execute_result"
    }
   ],
   "source": [
    "b = (12*Dx)**0.5 + a\n",
    "b"
   ]
  },
  {
   "cell_type": "code",
   "execution_count": 40,
   "id": "52a69a21",
   "metadata": {},
   "outputs": [
    {
     "data": {
      "text/plain": [
       "1.2745966692414834"
      ]
     },
     "execution_count": 40,
     "metadata": {},
     "output_type": "execute_result"
    }
   ],
   "source": [
    "Mx = (a+b) / 2\n",
    "Mx"
   ]
  },
  {
   "cell_type": "markdown",
   "id": "66df174f",
   "metadata": {},
   "source": [
    "#### Правая граница = 2.049193338482967\n",
    "#### Среднее = 1.2745966692414834"
   ]
  },
  {
   "cell_type": "markdown",
   "id": "b9986f21",
   "metadata": {},
   "source": [
    "## 3 Задание. \n",
    "Непрерывная случайная величина X распределена нормально и задана плотностью распределения\n",
    "f(x) = (1 / (4 * sqrt(2*pi))) * (exp(-(x+2)**2) / 32).\n",
    "Найдите:\n",
    "а). M(X)\n",
    "б). D(X)\n",
    "в). std(X) (среднее квадратичное отклонение)\n"
   ]
  },
  {
   "cell_type": "markdown",
   "id": "edbce796",
   "metadata": {},
   "source": [
    "#### Среднее = 2\n",
    "#### Стандартное отклонение = 4\n",
    "#### Дисперсия = 16"
   ]
  },
  {
   "cell_type": "markdown",
   "id": "62ae6810",
   "metadata": {},
   "source": [
    "## 4 Задание."
   ]
  },
  {
   "cell_type": "markdown",
   "id": "1a0d0338",
   "metadata": {},
   "source": [
    "4. Рост взрослого населения города X имеет нормальное распределение.\n",
    "Причем, средний рост равен 174 см, а среднее квадратичное отклонение равно 8 см.\n",
    "Какова вероятность того, что случайным образом выбранный взрослый человек имеет рост:\n",
    "\n",
    "а). больше 182 см\n",
    "\n",
    "б). больше 190 см\n",
    "\n",
    "в). от 166 см до 190 см\n",
    "\n",
    "г). от 166 см до 182 см\n",
    "\n",
    "д). от 158 см до 190 см\n",
    "\n",
    "е). не выше 150 см или не ниже 190 см\n",
    "\n",
    "ё). не выше 150 см или не ниже 198 см\n",
    "\n",
    "ж). ниже 166 см.\n"
   ]
  },
  {
   "cell_type": "code",
   "execution_count": 41,
   "id": "c4f74ab9",
   "metadata": {},
   "outputs": [],
   "source": [
    "std = 8\n",
    "Mx = 174"
   ]
  },
  {
   "cell_type": "code",
   "execution_count": 42,
   "id": "d2f3055b",
   "metadata": {},
   "outputs": [
    {
     "data": {
      "text/plain": [
       "1.0"
      ]
     },
     "execution_count": 42,
     "metadata": {},
     "output_type": "execute_result"
    }
   ],
   "source": [
    "Z1 = (182 - Mx) / std\n",
    "Z1"
   ]
  },
  {
   "cell_type": "code",
   "execution_count": 43,
   "id": "64365494",
   "metadata": {},
   "outputs": [
    {
     "data": {
      "text/plain": [
       "0.15869999999999995"
      ]
     },
     "execution_count": 43,
     "metadata": {},
     "output_type": "execute_result"
    }
   ],
   "source": [
    "P = 1 - 0.8413 #т.к считаем \"Больше\", то отнимаем от 1\n",
    "P"
   ]
  },
  {
   "cell_type": "markdown",
   "id": "7b84c44b",
   "metadata": {},
   "source": [
    "При Z = 1, P = 0.1586"
   ]
  },
  {
   "cell_type": "code",
   "execution_count": 44,
   "id": "c7959fe8",
   "metadata": {},
   "outputs": [
    {
     "data": {
      "text/plain": [
       "2.0"
      ]
     },
     "execution_count": 44,
     "metadata": {},
     "output_type": "execute_result"
    }
   ],
   "source": [
    "Z2 = (190 - Mx) / std\n",
    "Z2"
   ]
  },
  {
   "cell_type": "code",
   "execution_count": 45,
   "id": "baa6715d",
   "metadata": {},
   "outputs": [
    {
     "data": {
      "text/plain": [
       "0.022800000000000042"
      ]
     },
     "execution_count": 45,
     "metadata": {},
     "output_type": "execute_result"
    }
   ],
   "source": [
    "P2 = 1 - 0.9772 #т.к считаем \"Больше\", то отнимаем от 1\n",
    "P2"
   ]
  },
  {
   "cell_type": "code",
   "execution_count": 46,
   "id": "44485723",
   "metadata": {},
   "outputs": [
    {
     "data": {
      "text/plain": [
       "-1.0"
      ]
     },
     "execution_count": 46,
     "metadata": {},
     "output_type": "execute_result"
    }
   ],
   "source": [
    "Z31 = (166 - Mx) / std\n",
    "Z31 #P = 0.1587"
   ]
  },
  {
   "cell_type": "code",
   "execution_count": 47,
   "id": "2854c8db",
   "metadata": {},
   "outputs": [
    {
     "data": {
      "text/plain": [
       "2.0"
      ]
     },
     "execution_count": 47,
     "metadata": {},
     "output_type": "execute_result"
    }
   ],
   "source": [
    "Z32 = (190 - Mx) / std\n",
    "Z32 # P = 0.9772"
   ]
  },
  {
   "cell_type": "code",
   "execution_count": 48,
   "id": "7e7188f4",
   "metadata": {},
   "outputs": [
    {
     "data": {
      "text/plain": [
       "0.8185"
      ]
     },
     "execution_count": 48,
     "metadata": {},
     "output_type": "execute_result"
    }
   ],
   "source": [
    "P3 =  0.9772 - 0.1587 # Получаем промежуток вероятности между 2 вероятностями\n",
    "P3"
   ]
  },
  {
   "cell_type": "code",
   "execution_count": 49,
   "id": "05ec0cc4",
   "metadata": {},
   "outputs": [
    {
     "data": {
      "text/plain": [
       "0.6826000000000001"
      ]
     },
     "execution_count": 49,
     "metadata": {},
     "output_type": "execute_result"
    }
   ],
   "source": [
    "P4 = 0.8413 - 0.1587 # Получаем промежуток вероятности между 2 вероятностями\n",
    "P4"
   ]
  },
  {
   "cell_type": "code",
   "execution_count": 50,
   "id": "8631b861",
   "metadata": {},
   "outputs": [
    {
     "data": {
      "text/plain": [
       "-2.0"
      ]
     },
     "execution_count": 50,
     "metadata": {},
     "output_type": "execute_result"
    }
   ],
   "source": [
    "Z51 = (158 - Mx) / std\n",
    "Z51 # P = 0.0228"
   ]
  },
  {
   "cell_type": "code",
   "execution_count": 51,
   "id": "1198f023",
   "metadata": {},
   "outputs": [
    {
     "data": {
      "text/plain": [
       "0.9543999999999999"
      ]
     },
     "execution_count": 51,
     "metadata": {},
     "output_type": "execute_result"
    }
   ],
   "source": [
    "P5 = 0.9772 - 0.0228 # Получаем промежуток вероятности между 2 вероятностями\n",
    "P5"
   ]
  },
  {
   "cell_type": "code",
   "execution_count": 52,
   "id": "14faf4cc",
   "metadata": {},
   "outputs": [
    {
     "data": {
      "text/plain": [
       "-3.0"
      ]
     },
     "execution_count": 52,
     "metadata": {},
     "output_type": "execute_result"
    }
   ],
   "source": [
    "Z61 = (150 - Mx) / std\n",
    "Z61 # P = 0.00135"
   ]
  },
  {
   "cell_type": "code",
   "execution_count": 53,
   "id": "0c23d618",
   "metadata": {},
   "outputs": [
    {
     "data": {
      "text/plain": [
       "0.024150000000000043"
      ]
     },
     "execution_count": 53,
     "metadata": {},
     "output_type": "execute_result"
    }
   ],
   "source": [
    "P6 = 0.00135 + (1-0.9772)\n",
    "P6"
   ]
  },
  {
   "cell_type": "code",
   "execution_count": 54,
   "id": "c041c830",
   "metadata": {},
   "outputs": [
    {
     "data": {
      "text/plain": [
       "3.0"
      ]
     },
     "execution_count": 54,
     "metadata": {},
     "output_type": "execute_result"
    }
   ],
   "source": [
    "Z72 = (198 - Mx) / std\n",
    "Z72 # P = 0.99865"
   ]
  },
  {
   "cell_type": "code",
   "execution_count": 55,
   "id": "8b5fc5cc",
   "metadata": {},
   "outputs": [
    {
     "data": {
      "text/plain": [
       "0.0026999999999999624"
      ]
     },
     "execution_count": 55,
     "metadata": {},
     "output_type": "execute_result"
    }
   ],
   "source": [
    "P7 = 0.00135 + (1-0.99865)\n",
    "P7"
   ]
  },
  {
   "cell_type": "code",
   "execution_count": 56,
   "id": "c35e8390",
   "metadata": {},
   "outputs": [
    {
     "data": {
      "text/plain": [
       "-1.0"
      ]
     },
     "execution_count": 56,
     "metadata": {},
     "output_type": "execute_result"
    }
   ],
   "source": [
    "Z8 = (166 - Mx) / std\n",
    "Z8"
   ]
  },
  {
   "cell_type": "markdown",
   "id": "759b2012",
   "metadata": {},
   "source": [
    "P8 = 0.1587"
   ]
  },
  {
   "cell_type": "markdown",
   "id": "6e540b17",
   "metadata": {},
   "source": [
    "#### Ответы:\n",
    "- а) Р = 0.1587\n",
    "- б) Р = 0.0228\n",
    "- в) Р = 0.8185\n",
    "- г) Р = 0.6826\n",
    "- д) Р = 0.9544\n",
    "- е) Р = 0.02415\n",
    "- ё) Р = 0.0027\n",
    "- ж) Р = 0.1587"
   ]
  },
  {
   "cell_type": "markdown",
   "id": "fc5b7d0a",
   "metadata": {},
   "source": [
    "## 5 Задание\n",
    "На сколько сигм (средних квадратичных отклонений) отклоняется рост человека, равный 190 см, от\n",
    "математического ожидания роста в популяции, в которой M(X) = 178 см и D(X) = 25 кв.см?\n"
   ]
  },
  {
   "cell_type": "code",
   "execution_count": 57,
   "id": "dc2313f5",
   "metadata": {},
   "outputs": [],
   "source": [
    "x = 190\n",
    "std = 5\n",
    "Mx = 178"
   ]
  },
  {
   "cell_type": "code",
   "execution_count": 58,
   "id": "3ce13053",
   "metadata": {},
   "outputs": [
    {
     "data": {
      "text/plain": [
       "2.4"
      ]
     },
     "execution_count": 58,
     "metadata": {},
     "output_type": "execute_result"
    }
   ],
   "source": [
    "Z = (x-Mx) / std\n",
    "Z"
   ]
  },
  {
   "cell_type": "markdown",
   "id": "d77089be",
   "metadata": {},
   "source": [
    "### Ответ: на 2.4 сигмы"
   ]
  },
  {
   "cell_type": "code",
   "execution_count": null,
   "id": "f3bfc246",
   "metadata": {},
   "outputs": [],
   "source": []
  }
 ],
 "metadata": {
  "kernelspec": {
   "display_name": "Python 3",
   "language": "python",
   "name": "python3"
  },
  "language_info": {
   "codemirror_mode": {
    "name": "ipython",
    "version": 3
   },
   "file_extension": ".py",
   "mimetype": "text/x-python",
   "name": "python",
   "nbconvert_exporter": "python",
   "pygments_lexer": "ipython3",
   "version": "3.8.8"
  }
 },
 "nbformat": 4,
 "nbformat_minor": 5
}
